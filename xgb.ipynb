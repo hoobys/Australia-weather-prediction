{
  "cells": [
    {
      "cell_type": "code",
      "execution_count": 2,
      "metadata": {},
      "outputs": [],
      "source": [
        "import pandas as pd\n",
        "import numpy as np\n",
        "\n",
        "import matplotlib.pyplot as plt\n",
        "plt.style.use('seaborn-ticks')\n",
        "%matplotlib inline"
      ]
    },
    {
      "cell_type": "code",
      "execution_count": 3,
      "metadata": {},
      "outputs": [
        {
          "name": "stdout",
          "output_type": "stream",
          "text": [
            "(123710, 31)\n"
          ]
        },
        {
          "data": {
            "text/html": [
              "<div>\n",
              "<style scoped>\n",
              "    .dataframe tbody tr th:only-of-type {\n",
              "        vertical-align: middle;\n",
              "    }\n",
              "\n",
              "    .dataframe tbody tr th {\n",
              "        vertical-align: top;\n",
              "    }\n",
              "\n",
              "    .dataframe thead th {\n",
              "        text-align: right;\n",
              "    }\n",
              "</style>\n",
              "<table border=\"1\" class=\"dataframe\">\n",
              "  <thead>\n",
              "    <tr style=\"text-align: right;\">\n",
              "      <th></th>\n",
              "      <th>MinTemp</th>\n",
              "      <th>MaxTemp</th>\n",
              "      <th>Rainfall</th>\n",
              "      <th>Evaporation</th>\n",
              "      <th>Sunshine</th>\n",
              "      <th>WindGustSpeed</th>\n",
              "      <th>WindSpeed9am</th>\n",
              "      <th>WindSpeed3pm</th>\n",
              "      <th>Humidity9am</th>\n",
              "      <th>Humidity3pm</th>\n",
              "      <th>...</th>\n",
              "      <th>spring</th>\n",
              "      <th>summer</th>\n",
              "      <th>autumn</th>\n",
              "      <th>winterRain</th>\n",
              "      <th>springRain</th>\n",
              "      <th>summerRain</th>\n",
              "      <th>autumnRain</th>\n",
              "      <th>latitude</th>\n",
              "      <th>longitude</th>\n",
              "      <th>RainTomorrow</th>\n",
              "    </tr>\n",
              "  </thead>\n",
              "  <tbody>\n",
              "    <tr>\n",
              "      <th>0</th>\n",
              "      <td>13.4</td>\n",
              "      <td>22.9</td>\n",
              "      <td>0.6</td>\n",
              "      <td>4.8</td>\n",
              "      <td>8.6</td>\n",
              "      <td>44.0</td>\n",
              "      <td>20.0</td>\n",
              "      <td>24.0</td>\n",
              "      <td>71.0</td>\n",
              "      <td>22.0</td>\n",
              "      <td>...</td>\n",
              "      <td>False</td>\n",
              "      <td>False</td>\n",
              "      <td>False</td>\n",
              "      <td>False</td>\n",
              "      <td>False</td>\n",
              "      <td>False</td>\n",
              "      <td>False</td>\n",
              "      <td>-36.080477</td>\n",
              "      <td>146.91628</td>\n",
              "      <td>0</td>\n",
              "    </tr>\n",
              "    <tr>\n",
              "      <th>1</th>\n",
              "      <td>7.4</td>\n",
              "      <td>25.1</td>\n",
              "      <td>0.0</td>\n",
              "      <td>4.8</td>\n",
              "      <td>8.6</td>\n",
              "      <td>44.0</td>\n",
              "      <td>4.0</td>\n",
              "      <td>22.0</td>\n",
              "      <td>44.0</td>\n",
              "      <td>25.0</td>\n",
              "      <td>...</td>\n",
              "      <td>False</td>\n",
              "      <td>False</td>\n",
              "      <td>False</td>\n",
              "      <td>False</td>\n",
              "      <td>False</td>\n",
              "      <td>False</td>\n",
              "      <td>False</td>\n",
              "      <td>-36.080477</td>\n",
              "      <td>146.91628</td>\n",
              "      <td>0</td>\n",
              "    </tr>\n",
              "    <tr>\n",
              "      <th>2</th>\n",
              "      <td>12.9</td>\n",
              "      <td>25.7</td>\n",
              "      <td>0.0</td>\n",
              "      <td>4.8</td>\n",
              "      <td>8.6</td>\n",
              "      <td>46.0</td>\n",
              "      <td>19.0</td>\n",
              "      <td>26.0</td>\n",
              "      <td>38.0</td>\n",
              "      <td>30.0</td>\n",
              "      <td>...</td>\n",
              "      <td>False</td>\n",
              "      <td>False</td>\n",
              "      <td>False</td>\n",
              "      <td>False</td>\n",
              "      <td>False</td>\n",
              "      <td>False</td>\n",
              "      <td>False</td>\n",
              "      <td>-36.080477</td>\n",
              "      <td>146.91628</td>\n",
              "      <td>0</td>\n",
              "    </tr>\n",
              "    <tr>\n",
              "      <th>3</th>\n",
              "      <td>9.2</td>\n",
              "      <td>28.0</td>\n",
              "      <td>0.0</td>\n",
              "      <td>4.8</td>\n",
              "      <td>8.6</td>\n",
              "      <td>24.0</td>\n",
              "      <td>11.0</td>\n",
              "      <td>9.0</td>\n",
              "      <td>45.0</td>\n",
              "      <td>16.0</td>\n",
              "      <td>...</td>\n",
              "      <td>False</td>\n",
              "      <td>False</td>\n",
              "      <td>False</td>\n",
              "      <td>False</td>\n",
              "      <td>False</td>\n",
              "      <td>False</td>\n",
              "      <td>False</td>\n",
              "      <td>-36.080477</td>\n",
              "      <td>146.91628</td>\n",
              "      <td>0</td>\n",
              "    </tr>\n",
              "    <tr>\n",
              "      <th>4</th>\n",
              "      <td>17.5</td>\n",
              "      <td>32.3</td>\n",
              "      <td>1.0</td>\n",
              "      <td>4.8</td>\n",
              "      <td>8.6</td>\n",
              "      <td>41.0</td>\n",
              "      <td>7.0</td>\n",
              "      <td>20.0</td>\n",
              "      <td>82.0</td>\n",
              "      <td>33.0</td>\n",
              "      <td>...</td>\n",
              "      <td>False</td>\n",
              "      <td>False</td>\n",
              "      <td>False</td>\n",
              "      <td>False</td>\n",
              "      <td>False</td>\n",
              "      <td>False</td>\n",
              "      <td>False</td>\n",
              "      <td>-36.080477</td>\n",
              "      <td>146.91628</td>\n",
              "      <td>0</td>\n",
              "    </tr>\n",
              "  </tbody>\n",
              "</table>\n",
              "<p>5 rows × 31 columns</p>\n",
              "</div>"
            ],
            "text/plain": [
              "   MinTemp  MaxTemp  Rainfall  Evaporation  Sunshine  WindGustSpeed  \\\n",
              "0     13.4     22.9       0.6          4.8       8.6           44.0   \n",
              "1      7.4     25.1       0.0          4.8       8.6           44.0   \n",
              "2     12.9     25.7       0.0          4.8       8.6           46.0   \n",
              "3      9.2     28.0       0.0          4.8       8.6           24.0   \n",
              "4     17.5     32.3       1.0          4.8       8.6           41.0   \n",
              "\n",
              "   WindSpeed9am  WindSpeed3pm  Humidity9am  Humidity3pm  ...  spring  summer  \\\n",
              "0          20.0          24.0         71.0         22.0  ...   False   False   \n",
              "1           4.0          22.0         44.0         25.0  ...   False   False   \n",
              "2          19.0          26.0         38.0         30.0  ...   False   False   \n",
              "3          11.0           9.0         45.0         16.0  ...   False   False   \n",
              "4           7.0          20.0         82.0         33.0  ...   False   False   \n",
              "\n",
              "   autumn  winterRain  springRain  summerRain  autumnRain   latitude  \\\n",
              "0   False       False       False       False       False -36.080477   \n",
              "1   False       False       False       False       False -36.080477   \n",
              "2   False       False       False       False       False -36.080477   \n",
              "3   False       False       False       False       False -36.080477   \n",
              "4   False       False       False       False       False -36.080477   \n",
              "\n",
              "   longitude  RainTomorrow  \n",
              "0  146.91628             0  \n",
              "1  146.91628             0  \n",
              "2  146.91628             0  \n",
              "3  146.91628             0  \n",
              "4  146.91628             0  \n",
              "\n",
              "[5 rows x 31 columns]"
            ]
          },
          "execution_count": 3,
          "metadata": {},
          "output_type": "execute_result"
        }
      ],
      "source": [
        "df = pd.read_csv(\"weatherAUS_clean.csv\")\n",
        "print(df.shape)\n",
        "df.head()"
      ]
    },
    {
      "cell_type": "code",
      "execution_count": 4,
      "metadata": {},
      "outputs": [
        {
          "data": {
            "text/plain": [
              "Index(['MinTemp', 'MaxTemp', 'Rainfall', 'Evaporation', 'Sunshine',\n",
              "       'WindGustSpeed', 'WindSpeed9am', 'WindSpeed3pm', 'Humidity9am',\n",
              "       'Humidity3pm', 'Pressure9am', 'Pressure3pm', 'Cloud9am', 'Cloud3pm',\n",
              "       'Temp9am', 'Temp3pm', 'RainToday', 'Year', 'Month', 'Day', 'winter',\n",
              "       'spring', 'summer', 'autumn', 'winterRain', 'springRain', 'summerRain',\n",
              "       'autumnRain', 'latitude', 'longitude', 'RainTomorrow'],\n",
              "      dtype='object')"
            ]
          },
          "execution_count": 4,
          "metadata": {},
          "output_type": "execute_result"
        }
      ],
      "source": [
        "df.columns"
      ]
    },
    {
      "cell_type": "code",
      "execution_count": 5,
      "metadata": {},
      "outputs": [],
      "source": [
        "target = \"RainTomorrow\"\n",
        "features = [\n",
        "    \"MinTemp\",\n",
        "    \"MaxTemp\",\n",
        "    \"Rainfall\",\n",
        "    \"Evaporation\",\n",
        "    \"Sunshine\",\n",
        "    \"WindGustSpeed\",\n",
        "    \"WindSpeed9am\",\n",
        "    \"WindSpeed3pm\",\n",
        "    \"Humidity9am\",\n",
        "    \"Humidity3pm\",\n",
        "    \"Pressure9am\",\n",
        "    \"Pressure3pm\",\n",
        "    \"Cloud9am\",\n",
        "    \"Cloud3pm\",\n",
        "    \"Temp9am\",\n",
        "    \"Temp3pm\",\n",
        "    \"RainToday\",\n",
        "    \"Year\",\n",
        "    \"Month\",\n",
        "    \"Day\",\n",
        "    \"winter\",\n",
        "    \"spring\",\n",
        "    \"summer\",\n",
        "    \"autumn\",\n",
        "    \"winterRain\",\n",
        "    \"springRain\",\n",
        "    \"summerRain\",\n",
        "    \"autumnRain\",\n",
        "    \"latitude\",\n",
        "    \"longitude\",\n",
        "]\n"
      ]
    },
    {
      "cell_type": "code",
      "execution_count": 6,
      "metadata": {},
      "outputs": [],
      "source": [
        "from random import shuffle\n",
        "from random import randint\n",
        "import pandas as pd\n",
        "import numpy as np\n",
        "import pickle\n",
        "from sklearn.model_selection import train_test_split\n",
        "from sklearn.model_selection import StratifiedKFold\n",
        "from operator import itemgetter\n",
        "import time\n",
        "import xgboost as xgb\n",
        "\n",
        "import matplotlib.pyplot as plt\n",
        "%matplotlib inline\n",
        "\n",
        "import gc"
      ]
    },
    {
      "cell_type": "code",
      "execution_count": 7,
      "metadata": {},
      "outputs": [],
      "source": [
        "def run_xgb(train, validate, features, target, # argumenty obowiązkowe\n",
        "            eta=0.03, max_depth=7, subsample = 0.7, colsample_bytree = 0.7, # hiperparametry\n",
        "            colsample_bylevel=1,lambdaX = 1, alpha=0, gamma=0, min_child_weight=0, # hiperparametry\n",
        "            rate_drop = 0.2, skip_drop=0.5, # hiperparametry\n",
        "            num_boost_round = 1000, early_stopping_rounds = 50, # hiperparametry\n",
        "            debug=True, eval_metric= [\"auc\"], objective = \"binary:logistic\", # konfiguracja\n",
        "            seed=2017, booster = \"gbtree\", tree_method=\"exact\", grow_policy=\"depthwise\"): # konfiguracja\n",
        "   \n",
        "    start_time = time.time()\n",
        "    paramList= ['eta', 'max_depth',\n",
        "         'subsample', 'colsample_bytree', 'colsample_bylevel',\n",
        "         'lambdaX', 'alpha', 'gamma', 'min_child_weight',\n",
        "         'num_boost_round', 'early_stopping_rounds',\n",
        "         'rate_drop', 'skip_drop',\n",
        "         'eval_metric', 'objective', \n",
        "          'seed', 'booster', 'tree_method', 'grow_policy']\n",
        "    \n",
        "    # Stworzenie słownika do przekazania do XGB\n",
        "    params = dict()\n",
        "    for param in paramList:\n",
        "        params[param]=eval(param)\n",
        "    if(debug):\n",
        "        for param in paramList:\n",
        "            print(param, eval(param), end=\", \")\n",
        "        print('\\nLength train:', len(train.index))\n",
        "        print('Length valid:', len(validate.index))\n",
        "\n",
        "    # Automatyczne przekazanie liczby klas dla wielu poziomów klasyfikacji\n",
        "    if (params[\"objective\"]==\"multi:softmax\" or params[\"objective\"]==\"multi:softprob\"):\n",
        "        params[\"num_class\"]=train[target].nunique()\n",
        "    params[\"silent\"]=1\n",
        "    \n",
        "    # XGB wymaga w słowniku parametrów słowa kluczowego lambda, poniżej workaround\n",
        "    params[\"lambda\"]=lambdaX\n",
        "    \n",
        "    # Przekształcenie zbiorów do struktury DMatrix\n",
        "    dtrain = xgb.DMatrix(train[features].values, train[target].values, feature_names=train[features].columns.values)\n",
        "    dvalid = xgb.DMatrix(validate[features].values, validate[target].values, feature_names=validate[features].columns.values)\n",
        "\n",
        "    # Stworzenie listy zbiorów do ewaluacji\n",
        "    evals = [(dtrain, 'train'), (dvalid, 'valid')]\n",
        "    \n",
        "    # Stworzenie zmiennej słownikowej do przekazania\n",
        "    train_history = dict()\n",
        "\n",
        "    # Uruchomienie algorytmu trenującego\n",
        "    gbm = xgb.train(params, dtrain, \n",
        "                    num_boost_round, early_stopping_rounds=early_stopping_rounds,\n",
        "                    evals=evals, evals_result=train_history, verbose_eval=debug)\n",
        "    \n",
        "    # Obliczenia statystyk i dodatkowych wartości\n",
        "    score = gbm.best_score\n",
        "\n",
        "    # Przekształcenie historii trenowania do Pandas df\n",
        "    trainHistory = dict()\n",
        "    for key in train_history.keys():\n",
        "        for metric in train_history[key].keys():\n",
        "            trainHistory[key+metric.upper()]=train_history[key][metric]\n",
        "    train_history = pd.DataFrame(trainHistory)\n",
        "\n",
        "    # Zapis przewidywanych wartości dla zbioru walidacyjnego dla najlepszej (z punktu widzenia walidacji) iteracji\n",
        "    trainPred = gbm.predict(dtrain, ntree_limit=gbm.best_iteration)\n",
        "    testPred = gbm.predict(dvalid, ntree_limit=gbm.best_iteration)\n",
        "\n",
        "    # Przygotowanie posortowanej listy dla ważności zmiennych, zamaist słownika\n",
        "    imp = gbm.get_fscore()\n",
        "    imp = sorted(imp.items(), key=itemgetter(1), reverse=True)\n",
        "\n",
        "    impFig=None\n",
        "    if(debug):\n",
        "        print('Czas trenowania: {} minut'.format(round((time.time() - start_time)/60, 2)))\n",
        "        # Skorzystanie z wbudowanej funkcji wizualizującej waznośc zmiennych\n",
        "        impFig, ax = plt.subplots()\n",
        "        xgb.plot_importance(gbm, ax=ax, max_num_features=30)\n",
        "    \n",
        "    return score, trainPred, testPred, train_history, impFig, imp"
      ]
    },
    {
      "cell_type": "code",
      "execution_count": 8,
      "metadata": {},
      "outputs": [],
      "source": [
        "test_size = 0.2\n",
        "X_train, X_valid = train_test_split(df, test_size=test_size, random_state=2017, stratify=df[target].values)"
      ]
    },
    {
      "cell_type": "code",
      "execution_count": 9,
      "metadata": {},
      "outputs": [
        {
          "name": "stdout",
          "output_type": "stream",
          "text": [
            "eta 0.03, max_depth 7, subsample 0.7, colsample_bytree 0.7, colsample_bylevel 1, lambdaX 1, alpha 0, gamma 0, min_child_weight 0, num_boost_round 1000, early_stopping_rounds 50, rate_drop 0.2, skip_drop 0.5, eval_metric ['auc'], objective binary:logistic, seed 2017, booster gbtree, tree_method exact, grow_policy depthwise, \n",
            "Length train: 98968\n",
            "Length valid: 24742\n",
            "[07:57:34] WARNING: C:/Users/Administrator/workspace/xgboost-win64_release_1.6.0/src/learner.cc:627: \n",
            "Parameters: { \"early_stopping_rounds\", \"lambdaX\", \"num_boost_round\", \"rate_drop\", \"silent\", \"skip_drop\" } might not be used.\n",
            "\n",
            "  This could be a false alarm, with some parameters getting used by language bindings but\n",
            "  then being mistakenly passed down to XGBoost core, or some parameter actually being used\n",
            "  but getting flagged wrongly here. Please open an issue if you find any such cases.\n",
            "\n",
            "\n",
            "[0]\ttrain-auc:0.86061\tvalid-auc:0.84798\n",
            "[1]\ttrain-auc:0.86500\tvalid-auc:0.85369\n",
            "[2]\ttrain-auc:0.86666\tvalid-auc:0.85459\n",
            "[3]\ttrain-auc:0.87392\tvalid-auc:0.86256\n",
            "[4]\ttrain-auc:0.87686\tvalid-auc:0.86561\n",
            "[5]\ttrain-auc:0.87636\tvalid-auc:0.86439\n",
            "[6]\ttrain-auc:0.87879\tvalid-auc:0.86707\n",
            "[7]\ttrain-auc:0.87953\tvalid-auc:0.86770\n",
            "[8]\ttrain-auc:0.87974\tvalid-auc:0.86795\n",
            "[9]\ttrain-auc:0.88068\tvalid-auc:0.86865\n",
            "[10]\ttrain-auc:0.88141\tvalid-auc:0.86930\n",
            "[11]\ttrain-auc:0.88174\tvalid-auc:0.86942\n",
            "[12]\ttrain-auc:0.88209\tvalid-auc:0.87002\n",
            "[13]\ttrain-auc:0.88220\tvalid-auc:0.87014\n",
            "[14]\ttrain-auc:0.88292\tvalid-auc:0.87088\n",
            "[15]\ttrain-auc:0.88314\tvalid-auc:0.87106\n",
            "[16]\ttrain-auc:0.88323\tvalid-auc:0.87117\n",
            "[17]\ttrain-auc:0.88354\tvalid-auc:0.87154\n",
            "[18]\ttrain-auc:0.88404\tvalid-auc:0.87185\n",
            "[19]\ttrain-auc:0.88410\tvalid-auc:0.87180\n",
            "[20]\ttrain-auc:0.88445\tvalid-auc:0.87225\n",
            "[21]\ttrain-auc:0.88458\tvalid-auc:0.87239\n",
            "[22]\ttrain-auc:0.88492\tvalid-auc:0.87263\n",
            "[23]\ttrain-auc:0.88500\tvalid-auc:0.87273\n",
            "[24]\ttrain-auc:0.88520\tvalid-auc:0.87291\n",
            "[25]\ttrain-auc:0.88522\tvalid-auc:0.87289\n",
            "[26]\ttrain-auc:0.88526\tvalid-auc:0.87286\n",
            "[27]\ttrain-auc:0.88551\tvalid-auc:0.87301\n",
            "[28]\ttrain-auc:0.88571\tvalid-auc:0.87330\n",
            "[29]\ttrain-auc:0.88597\tvalid-auc:0.87344\n",
            "[30]\ttrain-auc:0.88634\tvalid-auc:0.87380\n",
            "[31]\ttrain-auc:0.88676\tvalid-auc:0.87416\n",
            "[32]\ttrain-auc:0.88705\tvalid-auc:0.87439\n",
            "[33]\ttrain-auc:0.88747\tvalid-auc:0.87462\n",
            "[34]\ttrain-auc:0.88783\tvalid-auc:0.87497\n",
            "[35]\ttrain-auc:0.88811\tvalid-auc:0.87519\n",
            "[36]\ttrain-auc:0.88844\tvalid-auc:0.87535\n",
            "[37]\ttrain-auc:0.88876\tvalid-auc:0.87561\n",
            "[38]\ttrain-auc:0.88889\tvalid-auc:0.87563\n",
            "[39]\ttrain-auc:0.88920\tvalid-auc:0.87587\n",
            "[40]\ttrain-auc:0.88933\tvalid-auc:0.87599\n",
            "[41]\ttrain-auc:0.88953\tvalid-auc:0.87610\n",
            "[42]\ttrain-auc:0.88978\tvalid-auc:0.87629\n",
            "[43]\ttrain-auc:0.89007\tvalid-auc:0.87660\n",
            "[44]\ttrain-auc:0.89042\tvalid-auc:0.87685\n",
            "[45]\ttrain-auc:0.89058\tvalid-auc:0.87701\n",
            "[46]\ttrain-auc:0.89088\tvalid-auc:0.87723\n",
            "[47]\ttrain-auc:0.89116\tvalid-auc:0.87743\n",
            "[48]\ttrain-auc:0.89125\tvalid-auc:0.87748\n",
            "[49]\ttrain-auc:0.89131\tvalid-auc:0.87753\n",
            "[50]\ttrain-auc:0.89152\tvalid-auc:0.87764\n",
            "[51]\ttrain-auc:0.89169\tvalid-auc:0.87776\n",
            "[52]\ttrain-auc:0.89190\tvalid-auc:0.87787\n",
            "[53]\ttrain-auc:0.89225\tvalid-auc:0.87814\n",
            "[54]\ttrain-auc:0.89242\tvalid-auc:0.87820\n",
            "[55]\ttrain-auc:0.89264\tvalid-auc:0.87836\n",
            "[56]\ttrain-auc:0.89294\tvalid-auc:0.87858\n",
            "[57]\ttrain-auc:0.89314\tvalid-auc:0.87874\n",
            "[58]\ttrain-auc:0.89338\tvalid-auc:0.87883\n",
            "[59]\ttrain-auc:0.89348\tvalid-auc:0.87890\n",
            "[60]\ttrain-auc:0.89377\tvalid-auc:0.87910\n",
            "[61]\ttrain-auc:0.89407\tvalid-auc:0.87921\n",
            "[62]\ttrain-auc:0.89417\tvalid-auc:0.87923\n",
            "[63]\ttrain-auc:0.89452\tvalid-auc:0.87940\n",
            "[64]\ttrain-auc:0.89482\tvalid-auc:0.87953\n",
            "[65]\ttrain-auc:0.89513\tvalid-auc:0.87972\n",
            "[66]\ttrain-auc:0.89535\tvalid-auc:0.87988\n",
            "[67]\ttrain-auc:0.89565\tvalid-auc:0.88008\n",
            "[68]\ttrain-auc:0.89592\tvalid-auc:0.88022\n",
            "[69]\ttrain-auc:0.89621\tvalid-auc:0.88038\n",
            "[70]\ttrain-auc:0.89644\tvalid-auc:0.88055\n",
            "[71]\ttrain-auc:0.89664\tvalid-auc:0.88067\n",
            "[72]\ttrain-auc:0.89682\tvalid-auc:0.88077\n",
            "[73]\ttrain-auc:0.89698\tvalid-auc:0.88094\n",
            "[74]\ttrain-auc:0.89714\tvalid-auc:0.88104\n",
            "[75]\ttrain-auc:0.89733\tvalid-auc:0.88120\n",
            "[76]\ttrain-auc:0.89755\tvalid-auc:0.88142\n",
            "[77]\ttrain-auc:0.89773\tvalid-auc:0.88151\n",
            "[78]\ttrain-auc:0.89788\tvalid-auc:0.88158\n",
            "[79]\ttrain-auc:0.89805\tvalid-auc:0.88167\n",
            "[80]\ttrain-auc:0.89826\tvalid-auc:0.88183\n",
            "[81]\ttrain-auc:0.89843\tvalid-auc:0.88192\n",
            "[82]\ttrain-auc:0.89866\tvalid-auc:0.88202\n",
            "[83]\ttrain-auc:0.89890\tvalid-auc:0.88216\n",
            "[84]\ttrain-auc:0.89912\tvalid-auc:0.88231\n",
            "[85]\ttrain-auc:0.89929\tvalid-auc:0.88247\n",
            "[86]\ttrain-auc:0.89952\tvalid-auc:0.88259\n",
            "[87]\ttrain-auc:0.89970\tvalid-auc:0.88269\n",
            "[88]\ttrain-auc:0.89989\tvalid-auc:0.88284\n",
            "[89]\ttrain-auc:0.90015\tvalid-auc:0.88301\n",
            "[90]\ttrain-auc:0.90032\tvalid-auc:0.88307\n",
            "[91]\ttrain-auc:0.90051\tvalid-auc:0.88315\n",
            "[92]\ttrain-auc:0.90067\tvalid-auc:0.88326\n",
            "[93]\ttrain-auc:0.90084\tvalid-auc:0.88335\n",
            "[94]\ttrain-auc:0.90106\tvalid-auc:0.88347\n",
            "[95]\ttrain-auc:0.90124\tvalid-auc:0.88354\n",
            "[96]\ttrain-auc:0.90141\tvalid-auc:0.88364\n",
            "[97]\ttrain-auc:0.90155\tvalid-auc:0.88371\n",
            "[98]\ttrain-auc:0.90179\tvalid-auc:0.88388\n",
            "[99]\ttrain-auc:0.90200\tvalid-auc:0.88400\n",
            "[100]\ttrain-auc:0.90213\tvalid-auc:0.88406\n",
            "[101]\ttrain-auc:0.90229\tvalid-auc:0.88416\n",
            "[102]\ttrain-auc:0.90248\tvalid-auc:0.88426\n",
            "[103]\ttrain-auc:0.90271\tvalid-auc:0.88443\n",
            "[104]\ttrain-auc:0.90294\tvalid-auc:0.88458\n",
            "[105]\ttrain-auc:0.90311\tvalid-auc:0.88467\n",
            "[106]\ttrain-auc:0.90322\tvalid-auc:0.88477\n",
            "[107]\ttrain-auc:0.90336\tvalid-auc:0.88483\n",
            "[108]\ttrain-auc:0.90363\tvalid-auc:0.88496\n",
            "[109]\ttrain-auc:0.90382\tvalid-auc:0.88509\n",
            "[110]\ttrain-auc:0.90409\tvalid-auc:0.88526\n",
            "[111]\ttrain-auc:0.90423\tvalid-auc:0.88533\n",
            "[112]\ttrain-auc:0.90443\tvalid-auc:0.88544\n",
            "[113]\ttrain-auc:0.90468\tvalid-auc:0.88560\n",
            "[114]\ttrain-auc:0.90481\tvalid-auc:0.88563\n",
            "[115]\ttrain-auc:0.90504\tvalid-auc:0.88576\n",
            "[116]\ttrain-auc:0.90528\tvalid-auc:0.88587\n",
            "[117]\ttrain-auc:0.90547\tvalid-auc:0.88606\n",
            "[118]\ttrain-auc:0.90571\tvalid-auc:0.88621\n",
            "[119]\ttrain-auc:0.90602\tvalid-auc:0.88637\n",
            "[120]\ttrain-auc:0.90615\tvalid-auc:0.88646\n",
            "[121]\ttrain-auc:0.90635\tvalid-auc:0.88654\n",
            "[122]\ttrain-auc:0.90660\tvalid-auc:0.88672\n",
            "[123]\ttrain-auc:0.90687\tvalid-auc:0.88685\n",
            "[124]\ttrain-auc:0.90707\tvalid-auc:0.88698\n",
            "[125]\ttrain-auc:0.90730\tvalid-auc:0.88712\n",
            "[126]\ttrain-auc:0.90749\tvalid-auc:0.88722\n",
            "[127]\ttrain-auc:0.90759\tvalid-auc:0.88725\n",
            "[128]\ttrain-auc:0.90781\tvalid-auc:0.88737\n",
            "[129]\ttrain-auc:0.90804\tvalid-auc:0.88751\n",
            "[130]\ttrain-auc:0.90829\tvalid-auc:0.88763\n",
            "[131]\ttrain-auc:0.90848\tvalid-auc:0.88774\n",
            "[132]\ttrain-auc:0.90864\tvalid-auc:0.88783\n",
            "[133]\ttrain-auc:0.90882\tvalid-auc:0.88799\n",
            "[134]\ttrain-auc:0.90900\tvalid-auc:0.88804\n",
            "[135]\ttrain-auc:0.90914\tvalid-auc:0.88813\n",
            "[136]\ttrain-auc:0.90925\tvalid-auc:0.88818\n",
            "[137]\ttrain-auc:0.90939\tvalid-auc:0.88825\n",
            "[138]\ttrain-auc:0.90952\tvalid-auc:0.88830\n",
            "[139]\ttrain-auc:0.90960\tvalid-auc:0.88834\n",
            "[140]\ttrain-auc:0.90971\tvalid-auc:0.88834\n",
            "[141]\ttrain-auc:0.90992\tvalid-auc:0.88850\n",
            "[142]\ttrain-auc:0.91006\tvalid-auc:0.88858\n",
            "[143]\ttrain-auc:0.91027\tvalid-auc:0.88868\n",
            "[144]\ttrain-auc:0.91046\tvalid-auc:0.88879\n",
            "[145]\ttrain-auc:0.91060\tvalid-auc:0.88888\n",
            "[146]\ttrain-auc:0.91076\tvalid-auc:0.88894\n",
            "[147]\ttrain-auc:0.91090\tvalid-auc:0.88900\n",
            "[148]\ttrain-auc:0.91106\tvalid-auc:0.88909\n",
            "[149]\ttrain-auc:0.91118\tvalid-auc:0.88914\n",
            "[150]\ttrain-auc:0.91137\tvalid-auc:0.88925\n",
            "[151]\ttrain-auc:0.91157\tvalid-auc:0.88935\n",
            "[152]\ttrain-auc:0.91173\tvalid-auc:0.88940\n",
            "[153]\ttrain-auc:0.91192\tvalid-auc:0.88956\n",
            "[154]\ttrain-auc:0.91209\tvalid-auc:0.88964\n",
            "[155]\ttrain-auc:0.91221\tvalid-auc:0.88972\n",
            "[156]\ttrain-auc:0.91234\tvalid-auc:0.88979\n",
            "[157]\ttrain-auc:0.91262\tvalid-auc:0.88994\n",
            "[158]\ttrain-auc:0.91270\tvalid-auc:0.88997\n",
            "[159]\ttrain-auc:0.91290\tvalid-auc:0.89014\n",
            "[160]\ttrain-auc:0.91299\tvalid-auc:0.89019\n",
            "[161]\ttrain-auc:0.91316\tvalid-auc:0.89029\n",
            "[162]\ttrain-auc:0.91326\tvalid-auc:0.89029\n",
            "[163]\ttrain-auc:0.91340\tvalid-auc:0.89038\n",
            "[164]\ttrain-auc:0.91363\tvalid-auc:0.89052\n",
            "[165]\ttrain-auc:0.91387\tvalid-auc:0.89067\n",
            "[166]\ttrain-auc:0.91392\tvalid-auc:0.89069\n",
            "[167]\ttrain-auc:0.91412\tvalid-auc:0.89078\n",
            "[168]\ttrain-auc:0.91419\tvalid-auc:0.89079\n",
            "[169]\ttrain-auc:0.91430\tvalid-auc:0.89085\n",
            "[170]\ttrain-auc:0.91444\tvalid-auc:0.89092\n",
            "[171]\ttrain-auc:0.91453\tvalid-auc:0.89096\n",
            "[172]\ttrain-auc:0.91464\tvalid-auc:0.89104\n",
            "[173]\ttrain-auc:0.91475\tvalid-auc:0.89109\n",
            "[174]\ttrain-auc:0.91490\tvalid-auc:0.89116\n",
            "[175]\ttrain-auc:0.91508\tvalid-auc:0.89126\n",
            "[176]\ttrain-auc:0.91517\tvalid-auc:0.89128\n",
            "[177]\ttrain-auc:0.91528\tvalid-auc:0.89136\n",
            "[178]\ttrain-auc:0.91542\tvalid-auc:0.89143\n",
            "[179]\ttrain-auc:0.91563\tvalid-auc:0.89155\n",
            "[180]\ttrain-auc:0.91580\tvalid-auc:0.89166\n",
            "[181]\ttrain-auc:0.91591\tvalid-auc:0.89173\n",
            "[182]\ttrain-auc:0.91600\tvalid-auc:0.89176\n",
            "[183]\ttrain-auc:0.91603\tvalid-auc:0.89176\n",
            "[184]\ttrain-auc:0.91618\tvalid-auc:0.89183\n",
            "[185]\ttrain-auc:0.91633\tvalid-auc:0.89190\n",
            "[186]\ttrain-auc:0.91649\tvalid-auc:0.89199\n",
            "[187]\ttrain-auc:0.91664\tvalid-auc:0.89207\n",
            "[188]\ttrain-auc:0.91672\tvalid-auc:0.89208\n",
            "[189]\ttrain-auc:0.91686\tvalid-auc:0.89213\n",
            "[190]\ttrain-auc:0.91697\tvalid-auc:0.89219\n",
            "[191]\ttrain-auc:0.91709\tvalid-auc:0.89225\n",
            "[192]\ttrain-auc:0.91718\tvalid-auc:0.89231\n",
            "[193]\ttrain-auc:0.91726\tvalid-auc:0.89238\n",
            "[194]\ttrain-auc:0.91737\tvalid-auc:0.89246\n",
            "[195]\ttrain-auc:0.91744\tvalid-auc:0.89251\n",
            "[196]\ttrain-auc:0.91758\tvalid-auc:0.89256\n",
            "[197]\ttrain-auc:0.91768\tvalid-auc:0.89260\n",
            "[198]\ttrain-auc:0.91774\tvalid-auc:0.89265\n",
            "[199]\ttrain-auc:0.91782\tvalid-auc:0.89267\n",
            "[200]\ttrain-auc:0.91792\tvalid-auc:0.89271\n",
            "[201]\ttrain-auc:0.91801\tvalid-auc:0.89277\n",
            "[202]\ttrain-auc:0.91812\tvalid-auc:0.89281\n",
            "[203]\ttrain-auc:0.91825\tvalid-auc:0.89285\n",
            "[204]\ttrain-auc:0.91844\tvalid-auc:0.89298\n",
            "[205]\ttrain-auc:0.91864\tvalid-auc:0.89307\n",
            "[206]\ttrain-auc:0.91875\tvalid-auc:0.89312\n",
            "[207]\ttrain-auc:0.91883\tvalid-auc:0.89316\n",
            "[208]\ttrain-auc:0.91892\tvalid-auc:0.89318\n",
            "[209]\ttrain-auc:0.91901\tvalid-auc:0.89319\n",
            "[210]\ttrain-auc:0.91908\tvalid-auc:0.89324\n",
            "[211]\ttrain-auc:0.91919\tvalid-auc:0.89330\n",
            "[212]\ttrain-auc:0.91936\tvalid-auc:0.89338\n",
            "[213]\ttrain-auc:0.91948\tvalid-auc:0.89341\n",
            "[214]\ttrain-auc:0.91960\tvalid-auc:0.89348\n",
            "[215]\ttrain-auc:0.91971\tvalid-auc:0.89353\n",
            "[216]\ttrain-auc:0.91982\tvalid-auc:0.89357\n",
            "[217]\ttrain-auc:0.91994\tvalid-auc:0.89362\n",
            "[218]\ttrain-auc:0.92001\tvalid-auc:0.89363\n",
            "[219]\ttrain-auc:0.92018\tvalid-auc:0.89370\n",
            "[220]\ttrain-auc:0.92025\tvalid-auc:0.89370\n",
            "[221]\ttrain-auc:0.92029\tvalid-auc:0.89372\n",
            "[222]\ttrain-auc:0.92035\tvalid-auc:0.89376\n",
            "[223]\ttrain-auc:0.92043\tvalid-auc:0.89381\n",
            "[224]\ttrain-auc:0.92050\tvalid-auc:0.89387\n",
            "[225]\ttrain-auc:0.92061\tvalid-auc:0.89392\n",
            "[226]\ttrain-auc:0.92068\tvalid-auc:0.89396\n",
            "[227]\ttrain-auc:0.92082\tvalid-auc:0.89399\n",
            "[228]\ttrain-auc:0.92097\tvalid-auc:0.89402\n",
            "[229]\ttrain-auc:0.92112\tvalid-auc:0.89407\n",
            "[230]\ttrain-auc:0.92118\tvalid-auc:0.89410\n",
            "[231]\ttrain-auc:0.92127\tvalid-auc:0.89414\n",
            "[232]\ttrain-auc:0.92136\tvalid-auc:0.89415\n",
            "[233]\ttrain-auc:0.92144\tvalid-auc:0.89418\n",
            "[234]\ttrain-auc:0.92154\tvalid-auc:0.89421\n",
            "[235]\ttrain-auc:0.92166\tvalid-auc:0.89428\n",
            "[236]\ttrain-auc:0.92176\tvalid-auc:0.89433\n",
            "[237]\ttrain-auc:0.92187\tvalid-auc:0.89438\n",
            "[238]\ttrain-auc:0.92197\tvalid-auc:0.89442\n",
            "[239]\ttrain-auc:0.92218\tvalid-auc:0.89452\n",
            "[240]\ttrain-auc:0.92231\tvalid-auc:0.89457\n",
            "[241]\ttrain-auc:0.92241\tvalid-auc:0.89457\n",
            "[242]\ttrain-auc:0.92254\tvalid-auc:0.89462\n",
            "[243]\ttrain-auc:0.92276\tvalid-auc:0.89471\n",
            "[244]\ttrain-auc:0.92287\tvalid-auc:0.89478\n",
            "[245]\ttrain-auc:0.92302\tvalid-auc:0.89486\n",
            "[246]\ttrain-auc:0.92314\tvalid-auc:0.89490\n",
            "[247]\ttrain-auc:0.92325\tvalid-auc:0.89494\n",
            "[248]\ttrain-auc:0.92331\tvalid-auc:0.89498\n",
            "[249]\ttrain-auc:0.92335\tvalid-auc:0.89500\n",
            "[250]\ttrain-auc:0.92347\tvalid-auc:0.89503\n",
            "[251]\ttrain-auc:0.92366\tvalid-auc:0.89512\n",
            "[252]\ttrain-auc:0.92378\tvalid-auc:0.89516\n",
            "[253]\ttrain-auc:0.92394\tvalid-auc:0.89523\n",
            "[254]\ttrain-auc:0.92418\tvalid-auc:0.89532\n",
            "[255]\ttrain-auc:0.92427\tvalid-auc:0.89536\n",
            "[256]\ttrain-auc:0.92436\tvalid-auc:0.89541\n",
            "[257]\ttrain-auc:0.92444\tvalid-auc:0.89543\n",
            "[258]\ttrain-auc:0.92454\tvalid-auc:0.89548\n",
            "[259]\ttrain-auc:0.92468\tvalid-auc:0.89556\n",
            "[260]\ttrain-auc:0.92479\tvalid-auc:0.89560\n",
            "[261]\ttrain-auc:0.92481\tvalid-auc:0.89560\n",
            "[262]\ttrain-auc:0.92495\tvalid-auc:0.89566\n",
            "[263]\ttrain-auc:0.92500\tvalid-auc:0.89569\n",
            "[264]\ttrain-auc:0.92514\tvalid-auc:0.89576\n",
            "[265]\ttrain-auc:0.92533\tvalid-auc:0.89583\n",
            "[266]\ttrain-auc:0.92551\tvalid-auc:0.89592\n",
            "[267]\ttrain-auc:0.92556\tvalid-auc:0.89593\n",
            "[268]\ttrain-auc:0.92567\tvalid-auc:0.89592\n",
            "[269]\ttrain-auc:0.92576\tvalid-auc:0.89597\n",
            "[270]\ttrain-auc:0.92587\tvalid-auc:0.89601\n",
            "[271]\ttrain-auc:0.92595\tvalid-auc:0.89604\n",
            "[272]\ttrain-auc:0.92610\tvalid-auc:0.89610\n",
            "[273]\ttrain-auc:0.92621\tvalid-auc:0.89617\n",
            "[274]\ttrain-auc:0.92628\tvalid-auc:0.89620\n",
            "[275]\ttrain-auc:0.92636\tvalid-auc:0.89624\n",
            "[276]\ttrain-auc:0.92647\tvalid-auc:0.89629\n",
            "[277]\ttrain-auc:0.92655\tvalid-auc:0.89632\n",
            "[278]\ttrain-auc:0.92669\tvalid-auc:0.89639\n",
            "[279]\ttrain-auc:0.92688\tvalid-auc:0.89647\n",
            "[280]\ttrain-auc:0.92695\tvalid-auc:0.89652\n",
            "[281]\ttrain-auc:0.92704\tvalid-auc:0.89655\n",
            "[282]\ttrain-auc:0.92713\tvalid-auc:0.89662\n",
            "[283]\ttrain-auc:0.92726\tvalid-auc:0.89665\n",
            "[284]\ttrain-auc:0.92742\tvalid-auc:0.89669\n",
            "[285]\ttrain-auc:0.92756\tvalid-auc:0.89674\n",
            "[286]\ttrain-auc:0.92766\tvalid-auc:0.89677\n",
            "[287]\ttrain-auc:0.92772\tvalid-auc:0.89679\n",
            "[288]\ttrain-auc:0.92778\tvalid-auc:0.89683\n",
            "[289]\ttrain-auc:0.92789\tvalid-auc:0.89688\n",
            "[290]\ttrain-auc:0.92799\tvalid-auc:0.89694\n",
            "[291]\ttrain-auc:0.92805\tvalid-auc:0.89696\n",
            "[292]\ttrain-auc:0.92817\tvalid-auc:0.89701\n",
            "[293]\ttrain-auc:0.92822\tvalid-auc:0.89702\n",
            "[294]\ttrain-auc:0.92828\tvalid-auc:0.89703\n",
            "[295]\ttrain-auc:0.92845\tvalid-auc:0.89708\n",
            "[296]\ttrain-auc:0.92849\tvalid-auc:0.89711\n",
            "[297]\ttrain-auc:0.92860\tvalid-auc:0.89716\n",
            "[298]\ttrain-auc:0.92873\tvalid-auc:0.89720\n",
            "[299]\ttrain-auc:0.92881\tvalid-auc:0.89725\n",
            "[300]\ttrain-auc:0.92893\tvalid-auc:0.89729\n",
            "[301]\ttrain-auc:0.92904\tvalid-auc:0.89737\n",
            "[302]\ttrain-auc:0.92908\tvalid-auc:0.89739\n",
            "[303]\ttrain-auc:0.92918\tvalid-auc:0.89743\n",
            "[304]\ttrain-auc:0.92928\tvalid-auc:0.89748\n",
            "[305]\ttrain-auc:0.92938\tvalid-auc:0.89753\n",
            "[306]\ttrain-auc:0.92945\tvalid-auc:0.89757\n",
            "[307]\ttrain-auc:0.92956\tvalid-auc:0.89759\n",
            "[308]\ttrain-auc:0.92963\tvalid-auc:0.89762\n",
            "[309]\ttrain-auc:0.92970\tvalid-auc:0.89763\n",
            "[310]\ttrain-auc:0.92978\tvalid-auc:0.89764\n",
            "[311]\ttrain-auc:0.92983\tvalid-auc:0.89765\n",
            "[312]\ttrain-auc:0.92989\tvalid-auc:0.89768\n",
            "[313]\ttrain-auc:0.92997\tvalid-auc:0.89769\n",
            "[314]\ttrain-auc:0.93001\tvalid-auc:0.89769\n",
            "[315]\ttrain-auc:0.93007\tvalid-auc:0.89770\n",
            "[316]\ttrain-auc:0.93015\tvalid-auc:0.89770\n",
            "[317]\ttrain-auc:0.93027\tvalid-auc:0.89776\n",
            "[318]\ttrain-auc:0.93035\tvalid-auc:0.89777\n",
            "[319]\ttrain-auc:0.93050\tvalid-auc:0.89787\n",
            "[320]\ttrain-auc:0.93056\tvalid-auc:0.89789\n",
            "[321]\ttrain-auc:0.93066\tvalid-auc:0.89794\n",
            "[322]\ttrain-auc:0.93077\tvalid-auc:0.89799\n",
            "[323]\ttrain-auc:0.93090\tvalid-auc:0.89804\n",
            "[324]\ttrain-auc:0.93106\tvalid-auc:0.89814\n",
            "[325]\ttrain-auc:0.93111\tvalid-auc:0.89816\n",
            "[326]\ttrain-auc:0.93126\tvalid-auc:0.89820\n",
            "[327]\ttrain-auc:0.93138\tvalid-auc:0.89826\n",
            "[328]\ttrain-auc:0.93148\tvalid-auc:0.89829\n",
            "[329]\ttrain-auc:0.93157\tvalid-auc:0.89835\n",
            "[330]\ttrain-auc:0.93168\tvalid-auc:0.89839\n",
            "[331]\ttrain-auc:0.93178\tvalid-auc:0.89841\n",
            "[332]\ttrain-auc:0.93183\tvalid-auc:0.89842\n",
            "[333]\ttrain-auc:0.93187\tvalid-auc:0.89843\n",
            "[334]\ttrain-auc:0.93198\tvalid-auc:0.89848\n",
            "[335]\ttrain-auc:0.93212\tvalid-auc:0.89853\n",
            "[336]\ttrain-auc:0.93220\tvalid-auc:0.89853\n",
            "[337]\ttrain-auc:0.93229\tvalid-auc:0.89858\n",
            "[338]\ttrain-auc:0.93245\tvalid-auc:0.89866\n",
            "[339]\ttrain-auc:0.93251\tvalid-auc:0.89867\n",
            "[340]\ttrain-auc:0.93259\tvalid-auc:0.89869\n",
            "[341]\ttrain-auc:0.93271\tvalid-auc:0.89874\n",
            "[342]\ttrain-auc:0.93282\tvalid-auc:0.89877\n",
            "[343]\ttrain-auc:0.93290\tvalid-auc:0.89880\n",
            "[344]\ttrain-auc:0.93294\tvalid-auc:0.89880\n",
            "[345]\ttrain-auc:0.93302\tvalid-auc:0.89882\n",
            "[346]\ttrain-auc:0.93308\tvalid-auc:0.89884\n",
            "[347]\ttrain-auc:0.93316\tvalid-auc:0.89888\n",
            "[348]\ttrain-auc:0.93325\tvalid-auc:0.89891\n",
            "[349]\ttrain-auc:0.93329\tvalid-auc:0.89892\n",
            "[350]\ttrain-auc:0.93332\tvalid-auc:0.89893\n",
            "[351]\ttrain-auc:0.93334\tvalid-auc:0.89894\n",
            "[352]\ttrain-auc:0.93345\tvalid-auc:0.89895\n",
            "[353]\ttrain-auc:0.93357\tvalid-auc:0.89896\n",
            "[354]\ttrain-auc:0.93366\tvalid-auc:0.89902\n",
            "[355]\ttrain-auc:0.93369\tvalid-auc:0.89903\n",
            "[356]\ttrain-auc:0.93372\tvalid-auc:0.89905\n",
            "[357]\ttrain-auc:0.93379\tvalid-auc:0.89905\n",
            "[358]\ttrain-auc:0.93390\tvalid-auc:0.89908\n",
            "[359]\ttrain-auc:0.93392\tvalid-auc:0.89908\n",
            "[360]\ttrain-auc:0.93408\tvalid-auc:0.89913\n",
            "[361]\ttrain-auc:0.93419\tvalid-auc:0.89918\n",
            "[362]\ttrain-auc:0.93425\tvalid-auc:0.89919\n",
            "[363]\ttrain-auc:0.93432\tvalid-auc:0.89920\n",
            "[364]\ttrain-auc:0.93447\tvalid-auc:0.89925\n",
            "[365]\ttrain-auc:0.93453\tvalid-auc:0.89927\n",
            "[366]\ttrain-auc:0.93459\tvalid-auc:0.89927\n",
            "[367]\ttrain-auc:0.93465\tvalid-auc:0.89928\n",
            "[368]\ttrain-auc:0.93477\tvalid-auc:0.89934\n",
            "[369]\ttrain-auc:0.93488\tvalid-auc:0.89939\n",
            "[370]\ttrain-auc:0.93499\tvalid-auc:0.89943\n",
            "[371]\ttrain-auc:0.93505\tvalid-auc:0.89943\n",
            "[372]\ttrain-auc:0.93519\tvalid-auc:0.89951\n",
            "[373]\ttrain-auc:0.93527\tvalid-auc:0.89951\n",
            "[374]\ttrain-auc:0.93531\tvalid-auc:0.89952\n",
            "[375]\ttrain-auc:0.93536\tvalid-auc:0.89954\n",
            "[376]\ttrain-auc:0.93543\tvalid-auc:0.89957\n",
            "[377]\ttrain-auc:0.93544\tvalid-auc:0.89957\n",
            "[378]\ttrain-auc:0.93556\tvalid-auc:0.89960\n",
            "[379]\ttrain-auc:0.93562\tvalid-auc:0.89964\n",
            "[380]\ttrain-auc:0.93571\tvalid-auc:0.89967\n",
            "[381]\ttrain-auc:0.93574\tvalid-auc:0.89967\n",
            "[382]\ttrain-auc:0.93582\tvalid-auc:0.89969\n",
            "[383]\ttrain-auc:0.93594\tvalid-auc:0.89973\n",
            "[384]\ttrain-auc:0.93600\tvalid-auc:0.89975\n",
            "[385]\ttrain-auc:0.93610\tvalid-auc:0.89978\n",
            "[386]\ttrain-auc:0.93617\tvalid-auc:0.89983\n",
            "[387]\ttrain-auc:0.93628\tvalid-auc:0.89986\n",
            "[388]\ttrain-auc:0.93639\tvalid-auc:0.89989\n",
            "[389]\ttrain-auc:0.93643\tvalid-auc:0.89991\n",
            "[390]\ttrain-auc:0.93649\tvalid-auc:0.89992\n",
            "[391]\ttrain-auc:0.93654\tvalid-auc:0.89993\n",
            "[392]\ttrain-auc:0.93659\tvalid-auc:0.89994\n",
            "[393]\ttrain-auc:0.93665\tvalid-auc:0.89992\n",
            "[394]\ttrain-auc:0.93676\tvalid-auc:0.89993\n",
            "[395]\ttrain-auc:0.93682\tvalid-auc:0.89996\n",
            "[396]\ttrain-auc:0.93691\tvalid-auc:0.89998\n",
            "[397]\ttrain-auc:0.93700\tvalid-auc:0.90003\n",
            "[398]\ttrain-auc:0.93706\tvalid-auc:0.90005\n",
            "[399]\ttrain-auc:0.93713\tvalid-auc:0.90007\n",
            "[400]\ttrain-auc:0.93728\tvalid-auc:0.90014\n",
            "[401]\ttrain-auc:0.93736\tvalid-auc:0.90017\n",
            "[402]\ttrain-auc:0.93745\tvalid-auc:0.90023\n",
            "[403]\ttrain-auc:0.93747\tvalid-auc:0.90023\n",
            "[404]\ttrain-auc:0.93754\tvalid-auc:0.90022\n",
            "[405]\ttrain-auc:0.93761\tvalid-auc:0.90022\n",
            "[406]\ttrain-auc:0.93767\tvalid-auc:0.90024\n",
            "[407]\ttrain-auc:0.93776\tvalid-auc:0.90027\n",
            "[408]\ttrain-auc:0.93781\tvalid-auc:0.90028\n",
            "[409]\ttrain-auc:0.93788\tvalid-auc:0.90028\n",
            "[410]\ttrain-auc:0.93795\tvalid-auc:0.90028\n",
            "[411]\ttrain-auc:0.93801\tvalid-auc:0.90029\n",
            "[412]\ttrain-auc:0.93812\tvalid-auc:0.90031\n",
            "[413]\ttrain-auc:0.93817\tvalid-auc:0.90033\n",
            "[414]\ttrain-auc:0.93831\tvalid-auc:0.90038\n",
            "[415]\ttrain-auc:0.93843\tvalid-auc:0.90040\n",
            "[416]\ttrain-auc:0.93848\tvalid-auc:0.90040\n",
            "[417]\ttrain-auc:0.93858\tvalid-auc:0.90043\n",
            "[418]\ttrain-auc:0.93868\tvalid-auc:0.90046\n",
            "[419]\ttrain-auc:0.93874\tvalid-auc:0.90051\n",
            "[420]\ttrain-auc:0.93887\tvalid-auc:0.90057\n",
            "[421]\ttrain-auc:0.93896\tvalid-auc:0.90060\n",
            "[422]\ttrain-auc:0.93905\tvalid-auc:0.90062\n",
            "[423]\ttrain-auc:0.93909\tvalid-auc:0.90064\n",
            "[424]\ttrain-auc:0.93913\tvalid-auc:0.90065\n",
            "[425]\ttrain-auc:0.93915\tvalid-auc:0.90065\n",
            "[426]\ttrain-auc:0.93923\tvalid-auc:0.90064\n",
            "[427]\ttrain-auc:0.93931\tvalid-auc:0.90067\n",
            "[428]\ttrain-auc:0.93934\tvalid-auc:0.90067\n",
            "[429]\ttrain-auc:0.93944\tvalid-auc:0.90071\n",
            "[430]\ttrain-auc:0.93950\tvalid-auc:0.90072\n",
            "[431]\ttrain-auc:0.93958\tvalid-auc:0.90074\n",
            "[432]\ttrain-auc:0.93964\tvalid-auc:0.90077\n",
            "[433]\ttrain-auc:0.93972\tvalid-auc:0.90079\n",
            "[434]\ttrain-auc:0.93980\tvalid-auc:0.90079\n",
            "[435]\ttrain-auc:0.93987\tvalid-auc:0.90081\n",
            "[436]\ttrain-auc:0.93993\tvalid-auc:0.90082\n",
            "[437]\ttrain-auc:0.94001\tvalid-auc:0.90085\n",
            "[438]\ttrain-auc:0.94007\tvalid-auc:0.90087\n",
            "[439]\ttrain-auc:0.94010\tvalid-auc:0.90088\n",
            "[440]\ttrain-auc:0.94016\tvalid-auc:0.90090\n",
            "[441]\ttrain-auc:0.94028\tvalid-auc:0.90093\n",
            "[442]\ttrain-auc:0.94035\tvalid-auc:0.90093\n",
            "[443]\ttrain-auc:0.94039\tvalid-auc:0.90093\n",
            "[444]\ttrain-auc:0.94049\tvalid-auc:0.90100\n",
            "[445]\ttrain-auc:0.94059\tvalid-auc:0.90106\n",
            "[446]\ttrain-auc:0.94070\tvalid-auc:0.90108\n",
            "[447]\ttrain-auc:0.94075\tvalid-auc:0.90109\n",
            "[448]\ttrain-auc:0.94087\tvalid-auc:0.90112\n",
            "[449]\ttrain-auc:0.94094\tvalid-auc:0.90113\n",
            "[450]\ttrain-auc:0.94098\tvalid-auc:0.90113\n",
            "[451]\ttrain-auc:0.94107\tvalid-auc:0.90115\n",
            "[452]\ttrain-auc:0.94117\tvalid-auc:0.90121\n",
            "[453]\ttrain-auc:0.94119\tvalid-auc:0.90122\n",
            "[454]\ttrain-auc:0.94124\tvalid-auc:0.90124\n",
            "[455]\ttrain-auc:0.94132\tvalid-auc:0.90126\n",
            "[456]\ttrain-auc:0.94141\tvalid-auc:0.90127\n",
            "[457]\ttrain-auc:0.94146\tvalid-auc:0.90128\n",
            "[458]\ttrain-auc:0.94153\tvalid-auc:0.90129\n",
            "[459]\ttrain-auc:0.94163\tvalid-auc:0.90133\n",
            "[460]\ttrain-auc:0.94169\tvalid-auc:0.90135\n",
            "[461]\ttrain-auc:0.94178\tvalid-auc:0.90137\n",
            "[462]\ttrain-auc:0.94185\tvalid-auc:0.90139\n",
            "[463]\ttrain-auc:0.94191\tvalid-auc:0.90140\n",
            "[464]\ttrain-auc:0.94194\tvalid-auc:0.90140\n",
            "[465]\ttrain-auc:0.94200\tvalid-auc:0.90142\n",
            "[466]\ttrain-auc:0.94208\tvalid-auc:0.90145\n",
            "[467]\ttrain-auc:0.94213\tvalid-auc:0.90146\n",
            "[468]\ttrain-auc:0.94224\tvalid-auc:0.90147\n",
            "[469]\ttrain-auc:0.94229\tvalid-auc:0.90149\n",
            "[470]\ttrain-auc:0.94234\tvalid-auc:0.90150\n",
            "[471]\ttrain-auc:0.94239\tvalid-auc:0.90153\n",
            "[472]\ttrain-auc:0.94250\tvalid-auc:0.90155\n",
            "[473]\ttrain-auc:0.94253\tvalid-auc:0.90155\n",
            "[474]\ttrain-auc:0.94256\tvalid-auc:0.90154\n",
            "[475]\ttrain-auc:0.94262\tvalid-auc:0.90156\n",
            "[476]\ttrain-auc:0.94265\tvalid-auc:0.90155\n",
            "[477]\ttrain-auc:0.94276\tvalid-auc:0.90158\n",
            "[478]\ttrain-auc:0.94282\tvalid-auc:0.90158\n",
            "[479]\ttrain-auc:0.94286\tvalid-auc:0.90156\n",
            "[480]\ttrain-auc:0.94295\tvalid-auc:0.90158\n",
            "[481]\ttrain-auc:0.94297\tvalid-auc:0.90158\n",
            "[482]\ttrain-auc:0.94303\tvalid-auc:0.90159\n",
            "[483]\ttrain-auc:0.94306\tvalid-auc:0.90160\n",
            "[484]\ttrain-auc:0.94314\tvalid-auc:0.90162\n",
            "[485]\ttrain-auc:0.94320\tvalid-auc:0.90162\n",
            "[486]\ttrain-auc:0.94328\tvalid-auc:0.90164\n",
            "[487]\ttrain-auc:0.94335\tvalid-auc:0.90167\n",
            "[488]\ttrain-auc:0.94348\tvalid-auc:0.90172\n",
            "[489]\ttrain-auc:0.94353\tvalid-auc:0.90174\n",
            "[490]\ttrain-auc:0.94363\tvalid-auc:0.90178\n",
            "[491]\ttrain-auc:0.94365\tvalid-auc:0.90179\n",
            "[492]\ttrain-auc:0.94375\tvalid-auc:0.90183\n",
            "[493]\ttrain-auc:0.94380\tvalid-auc:0.90182\n",
            "[494]\ttrain-auc:0.94385\tvalid-auc:0.90183\n",
            "[495]\ttrain-auc:0.94390\tvalid-auc:0.90184\n",
            "[496]\ttrain-auc:0.94403\tvalid-auc:0.90187\n",
            "[497]\ttrain-auc:0.94411\tvalid-auc:0.90191\n",
            "[498]\ttrain-auc:0.94421\tvalid-auc:0.90192\n",
            "[499]\ttrain-auc:0.94427\tvalid-auc:0.90194\n",
            "[500]\ttrain-auc:0.94435\tvalid-auc:0.90196\n",
            "[501]\ttrain-auc:0.94446\tvalid-auc:0.90199\n",
            "[502]\ttrain-auc:0.94449\tvalid-auc:0.90200\n",
            "[503]\ttrain-auc:0.94458\tvalid-auc:0.90202\n",
            "[504]\ttrain-auc:0.94465\tvalid-auc:0.90205\n",
            "[505]\ttrain-auc:0.94470\tvalid-auc:0.90207\n",
            "[506]\ttrain-auc:0.94480\tvalid-auc:0.90213\n",
            "[507]\ttrain-auc:0.94488\tvalid-auc:0.90214\n",
            "[508]\ttrain-auc:0.94495\tvalid-auc:0.90215\n",
            "[509]\ttrain-auc:0.94502\tvalid-auc:0.90218\n",
            "[510]\ttrain-auc:0.94510\tvalid-auc:0.90219\n",
            "[511]\ttrain-auc:0.94519\tvalid-auc:0.90220\n",
            "[512]\ttrain-auc:0.94526\tvalid-auc:0.90221\n",
            "[513]\ttrain-auc:0.94533\tvalid-auc:0.90224\n",
            "[514]\ttrain-auc:0.94537\tvalid-auc:0.90227\n",
            "[515]\ttrain-auc:0.94541\tvalid-auc:0.90228\n",
            "[516]\ttrain-auc:0.94544\tvalid-auc:0.90229\n",
            "[517]\ttrain-auc:0.94554\tvalid-auc:0.90234\n",
            "[518]\ttrain-auc:0.94559\tvalid-auc:0.90233\n",
            "[519]\ttrain-auc:0.94564\tvalid-auc:0.90233\n",
            "[520]\ttrain-auc:0.94571\tvalid-auc:0.90235\n",
            "[521]\ttrain-auc:0.94578\tvalid-auc:0.90238\n",
            "[522]\ttrain-auc:0.94585\tvalid-auc:0.90239\n",
            "[523]\ttrain-auc:0.94592\tvalid-auc:0.90242\n",
            "[524]\ttrain-auc:0.94601\tvalid-auc:0.90245\n",
            "[525]\ttrain-auc:0.94610\tvalid-auc:0.90249\n",
            "[526]\ttrain-auc:0.94612\tvalid-auc:0.90248\n",
            "[527]\ttrain-auc:0.94621\tvalid-auc:0.90251\n",
            "[528]\ttrain-auc:0.94626\tvalid-auc:0.90253\n",
            "[529]\ttrain-auc:0.94636\tvalid-auc:0.90256\n",
            "[530]\ttrain-auc:0.94641\tvalid-auc:0.90257\n",
            "[531]\ttrain-auc:0.94648\tvalid-auc:0.90258\n",
            "[532]\ttrain-auc:0.94658\tvalid-auc:0.90258\n",
            "[533]\ttrain-auc:0.94665\tvalid-auc:0.90261\n",
            "[534]\ttrain-auc:0.94671\tvalid-auc:0.90262\n",
            "[535]\ttrain-auc:0.94676\tvalid-auc:0.90264\n",
            "[536]\ttrain-auc:0.94681\tvalid-auc:0.90263\n",
            "[537]\ttrain-auc:0.94687\tvalid-auc:0.90265\n",
            "[538]\ttrain-auc:0.94693\tvalid-auc:0.90266\n",
            "[539]\ttrain-auc:0.94699\tvalid-auc:0.90267\n",
            "[540]\ttrain-auc:0.94710\tvalid-auc:0.90271\n",
            "[541]\ttrain-auc:0.94715\tvalid-auc:0.90270\n",
            "[542]\ttrain-auc:0.94717\tvalid-auc:0.90270\n",
            "[543]\ttrain-auc:0.94723\tvalid-auc:0.90274\n",
            "[544]\ttrain-auc:0.94726\tvalid-auc:0.90274\n",
            "[545]\ttrain-auc:0.94731\tvalid-auc:0.90274\n",
            "[546]\ttrain-auc:0.94736\tvalid-auc:0.90276\n",
            "[547]\ttrain-auc:0.94743\tvalid-auc:0.90277\n",
            "[548]\ttrain-auc:0.94748\tvalid-auc:0.90278\n",
            "[549]\ttrain-auc:0.94751\tvalid-auc:0.90278\n",
            "[550]\ttrain-auc:0.94756\tvalid-auc:0.90280\n",
            "[551]\ttrain-auc:0.94764\tvalid-auc:0.90282\n",
            "[552]\ttrain-auc:0.94774\tvalid-auc:0.90286\n",
            "[553]\ttrain-auc:0.94782\tvalid-auc:0.90290\n",
            "[554]\ttrain-auc:0.94793\tvalid-auc:0.90295\n",
            "[555]\ttrain-auc:0.94800\tvalid-auc:0.90295\n",
            "[556]\ttrain-auc:0.94806\tvalid-auc:0.90296\n",
            "[557]\ttrain-auc:0.94809\tvalid-auc:0.90295\n",
            "[558]\ttrain-auc:0.94815\tvalid-auc:0.90297\n",
            "[559]\ttrain-auc:0.94820\tvalid-auc:0.90295\n",
            "[560]\ttrain-auc:0.94826\tvalid-auc:0.90296\n",
            "[561]\ttrain-auc:0.94828\tvalid-auc:0.90297\n",
            "[562]\ttrain-auc:0.94833\tvalid-auc:0.90297\n",
            "[563]\ttrain-auc:0.94838\tvalid-auc:0.90298\n",
            "[564]\ttrain-auc:0.94845\tvalid-auc:0.90300\n",
            "[565]\ttrain-auc:0.94849\tvalid-auc:0.90301\n",
            "[566]\ttrain-auc:0.94853\tvalid-auc:0.90301\n",
            "[567]\ttrain-auc:0.94857\tvalid-auc:0.90303\n",
            "[568]\ttrain-auc:0.94865\tvalid-auc:0.90304\n",
            "[569]\ttrain-auc:0.94868\tvalid-auc:0.90304\n",
            "[570]\ttrain-auc:0.94877\tvalid-auc:0.90307\n",
            "[571]\ttrain-auc:0.94880\tvalid-auc:0.90306\n",
            "[572]\ttrain-auc:0.94882\tvalid-auc:0.90308\n",
            "[573]\ttrain-auc:0.94884\tvalid-auc:0.90307\n",
            "[574]\ttrain-auc:0.94892\tvalid-auc:0.90310\n",
            "[575]\ttrain-auc:0.94900\tvalid-auc:0.90314\n",
            "[576]\ttrain-auc:0.94908\tvalid-auc:0.90314\n",
            "[577]\ttrain-auc:0.94919\tvalid-auc:0.90314\n",
            "[578]\ttrain-auc:0.94926\tvalid-auc:0.90316\n",
            "[579]\ttrain-auc:0.94933\tvalid-auc:0.90319\n",
            "[580]\ttrain-auc:0.94936\tvalid-auc:0.90319\n",
            "[581]\ttrain-auc:0.94939\tvalid-auc:0.90319\n",
            "[582]\ttrain-auc:0.94946\tvalid-auc:0.90323\n",
            "[583]\ttrain-auc:0.94953\tvalid-auc:0.90323\n",
            "[584]\ttrain-auc:0.94958\tvalid-auc:0.90326\n",
            "[585]\ttrain-auc:0.94964\tvalid-auc:0.90326\n",
            "[586]\ttrain-auc:0.94971\tvalid-auc:0.90328\n",
            "[587]\ttrain-auc:0.94977\tvalid-auc:0.90329\n",
            "[588]\ttrain-auc:0.94985\tvalid-auc:0.90331\n",
            "[589]\ttrain-auc:0.94991\tvalid-auc:0.90333\n",
            "[590]\ttrain-auc:0.94993\tvalid-auc:0.90334\n",
            "[591]\ttrain-auc:0.94998\tvalid-auc:0.90335\n",
            "[592]\ttrain-auc:0.95008\tvalid-auc:0.90336\n",
            "[593]\ttrain-auc:0.95010\tvalid-auc:0.90336\n",
            "[594]\ttrain-auc:0.95015\tvalid-auc:0.90339\n",
            "[595]\ttrain-auc:0.95020\tvalid-auc:0.90340\n",
            "[596]\ttrain-auc:0.95023\tvalid-auc:0.90340\n",
            "[597]\ttrain-auc:0.95028\tvalid-auc:0.90344\n",
            "[598]\ttrain-auc:0.95034\tvalid-auc:0.90344\n",
            "[599]\ttrain-auc:0.95040\tvalid-auc:0.90345\n",
            "[600]\ttrain-auc:0.95044\tvalid-auc:0.90344\n",
            "[601]\ttrain-auc:0.95049\tvalid-auc:0.90346\n",
            "[602]\ttrain-auc:0.95052\tvalid-auc:0.90346\n",
            "[603]\ttrain-auc:0.95057\tvalid-auc:0.90347\n",
            "[604]\ttrain-auc:0.95063\tvalid-auc:0.90347\n",
            "[605]\ttrain-auc:0.95067\tvalid-auc:0.90347\n",
            "[606]\ttrain-auc:0.95076\tvalid-auc:0.90349\n",
            "[607]\ttrain-auc:0.95080\tvalid-auc:0.90349\n",
            "[608]\ttrain-auc:0.95087\tvalid-auc:0.90350\n",
            "[609]\ttrain-auc:0.95091\tvalid-auc:0.90349\n",
            "[610]\ttrain-auc:0.95097\tvalid-auc:0.90351\n",
            "[611]\ttrain-auc:0.95100\tvalid-auc:0.90352\n",
            "[612]\ttrain-auc:0.95104\tvalid-auc:0.90351\n",
            "[613]\ttrain-auc:0.95106\tvalid-auc:0.90351\n",
            "[614]\ttrain-auc:0.95110\tvalid-auc:0.90352\n",
            "[615]\ttrain-auc:0.95117\tvalid-auc:0.90354\n",
            "[616]\ttrain-auc:0.95123\tvalid-auc:0.90355\n",
            "[617]\ttrain-auc:0.95126\tvalid-auc:0.90355\n",
            "[618]\ttrain-auc:0.95131\tvalid-auc:0.90358\n",
            "[619]\ttrain-auc:0.95133\tvalid-auc:0.90358\n",
            "[620]\ttrain-auc:0.95142\tvalid-auc:0.90361\n",
            "[621]\ttrain-auc:0.95147\tvalid-auc:0.90364\n",
            "[622]\ttrain-auc:0.95151\tvalid-auc:0.90365\n",
            "[623]\ttrain-auc:0.95156\tvalid-auc:0.90367\n",
            "[624]\ttrain-auc:0.95157\tvalid-auc:0.90367\n",
            "[625]\ttrain-auc:0.95166\tvalid-auc:0.90367\n",
            "[626]\ttrain-auc:0.95173\tvalid-auc:0.90368\n",
            "[627]\ttrain-auc:0.95178\tvalid-auc:0.90366\n",
            "[628]\ttrain-auc:0.95184\tvalid-auc:0.90366\n",
            "[629]\ttrain-auc:0.95188\tvalid-auc:0.90369\n",
            "[630]\ttrain-auc:0.95198\tvalid-auc:0.90374\n",
            "[631]\ttrain-auc:0.95205\tvalid-auc:0.90373\n",
            "[632]\ttrain-auc:0.95213\tvalid-auc:0.90374\n",
            "[633]\ttrain-auc:0.95216\tvalid-auc:0.90374\n",
            "[634]\ttrain-auc:0.95224\tvalid-auc:0.90376\n",
            "[635]\ttrain-auc:0.95231\tvalid-auc:0.90378\n",
            "[636]\ttrain-auc:0.95239\tvalid-auc:0.90383\n",
            "[637]\ttrain-auc:0.95243\tvalid-auc:0.90383\n",
            "[638]\ttrain-auc:0.95248\tvalid-auc:0.90384\n",
            "[639]\ttrain-auc:0.95256\tvalid-auc:0.90386\n",
            "[640]\ttrain-auc:0.95265\tvalid-auc:0.90388\n",
            "[641]\ttrain-auc:0.95270\tvalid-auc:0.90390\n",
            "[642]\ttrain-auc:0.95276\tvalid-auc:0.90392\n",
            "[643]\ttrain-auc:0.95279\tvalid-auc:0.90393\n",
            "[644]\ttrain-auc:0.95288\tvalid-auc:0.90393\n",
            "[645]\ttrain-auc:0.95295\tvalid-auc:0.90394\n",
            "[646]\ttrain-auc:0.95301\tvalid-auc:0.90395\n",
            "[647]\ttrain-auc:0.95308\tvalid-auc:0.90396\n",
            "[648]\ttrain-auc:0.95314\tvalid-auc:0.90395\n",
            "[649]\ttrain-auc:0.95315\tvalid-auc:0.90395\n",
            "[650]\ttrain-auc:0.95320\tvalid-auc:0.90395\n",
            "[651]\ttrain-auc:0.95323\tvalid-auc:0.90395\n",
            "[652]\ttrain-auc:0.95328\tvalid-auc:0.90397\n",
            "[653]\ttrain-auc:0.95334\tvalid-auc:0.90398\n",
            "[654]\ttrain-auc:0.95338\tvalid-auc:0.90399\n",
            "[655]\ttrain-auc:0.95341\tvalid-auc:0.90401\n",
            "[656]\ttrain-auc:0.95347\tvalid-auc:0.90402\n",
            "[657]\ttrain-auc:0.95351\tvalid-auc:0.90402\n",
            "[658]\ttrain-auc:0.95354\tvalid-auc:0.90403\n",
            "[659]\ttrain-auc:0.95357\tvalid-auc:0.90404\n",
            "[660]\ttrain-auc:0.95360\tvalid-auc:0.90404\n",
            "[661]\ttrain-auc:0.95368\tvalid-auc:0.90407\n",
            "[662]\ttrain-auc:0.95373\tvalid-auc:0.90408\n",
            "[663]\ttrain-auc:0.95375\tvalid-auc:0.90409\n",
            "[664]\ttrain-auc:0.95378\tvalid-auc:0.90409\n",
            "[665]\ttrain-auc:0.95381\tvalid-auc:0.90410\n",
            "[666]\ttrain-auc:0.95384\tvalid-auc:0.90410\n",
            "[667]\ttrain-auc:0.95389\tvalid-auc:0.90413\n",
            "[668]\ttrain-auc:0.95393\tvalid-auc:0.90413\n",
            "[669]\ttrain-auc:0.95399\tvalid-auc:0.90415\n",
            "[670]\ttrain-auc:0.95403\tvalid-auc:0.90416\n",
            "[671]\ttrain-auc:0.95407\tvalid-auc:0.90418\n",
            "[672]\ttrain-auc:0.95413\tvalid-auc:0.90419\n",
            "[673]\ttrain-auc:0.95416\tvalid-auc:0.90419\n",
            "[674]\ttrain-auc:0.95420\tvalid-auc:0.90420\n",
            "[675]\ttrain-auc:0.95422\tvalid-auc:0.90420\n",
            "[676]\ttrain-auc:0.95426\tvalid-auc:0.90422\n",
            "[677]\ttrain-auc:0.95429\tvalid-auc:0.90423\n",
            "[678]\ttrain-auc:0.95434\tvalid-auc:0.90423\n",
            "[679]\ttrain-auc:0.95442\tvalid-auc:0.90426\n",
            "[680]\ttrain-auc:0.95446\tvalid-auc:0.90426\n",
            "[681]\ttrain-auc:0.95454\tvalid-auc:0.90427\n",
            "[682]\ttrain-auc:0.95460\tvalid-auc:0.90428\n",
            "[683]\ttrain-auc:0.95466\tvalid-auc:0.90430\n",
            "[684]\ttrain-auc:0.95469\tvalid-auc:0.90430\n",
            "[685]\ttrain-auc:0.95474\tvalid-auc:0.90432\n",
            "[686]\ttrain-auc:0.95476\tvalid-auc:0.90433\n",
            "[687]\ttrain-auc:0.95481\tvalid-auc:0.90435\n",
            "[688]\ttrain-auc:0.95486\tvalid-auc:0.90437\n",
            "[689]\ttrain-auc:0.95494\tvalid-auc:0.90438\n",
            "[690]\ttrain-auc:0.95498\tvalid-auc:0.90439\n",
            "[691]\ttrain-auc:0.95503\tvalid-auc:0.90440\n",
            "[692]\ttrain-auc:0.95509\tvalid-auc:0.90441\n",
            "[693]\ttrain-auc:0.95513\tvalid-auc:0.90442\n",
            "[694]\ttrain-auc:0.95516\tvalid-auc:0.90442\n",
            "[695]\ttrain-auc:0.95522\tvalid-auc:0.90442\n",
            "[696]\ttrain-auc:0.95526\tvalid-auc:0.90446\n",
            "[697]\ttrain-auc:0.95532\tvalid-auc:0.90445\n",
            "[698]\ttrain-auc:0.95538\tvalid-auc:0.90445\n",
            "[699]\ttrain-auc:0.95542\tvalid-auc:0.90446\n",
            "[700]\ttrain-auc:0.95546\tvalid-auc:0.90448\n",
            "[701]\ttrain-auc:0.95552\tvalid-auc:0.90450\n",
            "[702]\ttrain-auc:0.95558\tvalid-auc:0.90451\n",
            "[703]\ttrain-auc:0.95562\tvalid-auc:0.90451\n",
            "[704]\ttrain-auc:0.95566\tvalid-auc:0.90452\n",
            "[705]\ttrain-auc:0.95573\tvalid-auc:0.90455\n",
            "[706]\ttrain-auc:0.95579\tvalid-auc:0.90457\n",
            "[707]\ttrain-auc:0.95585\tvalid-auc:0.90458\n",
            "[708]\ttrain-auc:0.95594\tvalid-auc:0.90460\n",
            "[709]\ttrain-auc:0.95595\tvalid-auc:0.90460\n",
            "[710]\ttrain-auc:0.95599\tvalid-auc:0.90459\n",
            "[711]\ttrain-auc:0.95606\tvalid-auc:0.90463\n",
            "[712]\ttrain-auc:0.95610\tvalid-auc:0.90464\n",
            "[713]\ttrain-auc:0.95617\tvalid-auc:0.90465\n",
            "[714]\ttrain-auc:0.95624\tvalid-auc:0.90467\n",
            "[715]\ttrain-auc:0.95628\tvalid-auc:0.90467\n",
            "[716]\ttrain-auc:0.95633\tvalid-auc:0.90468\n",
            "[717]\ttrain-auc:0.95638\tvalid-auc:0.90468\n",
            "[718]\ttrain-auc:0.95640\tvalid-auc:0.90468\n",
            "[719]\ttrain-auc:0.95646\tvalid-auc:0.90470\n",
            "[720]\ttrain-auc:0.95654\tvalid-auc:0.90470\n",
            "[721]\ttrain-auc:0.95658\tvalid-auc:0.90470\n",
            "[722]\ttrain-auc:0.95665\tvalid-auc:0.90472\n",
            "[723]\ttrain-auc:0.95667\tvalid-auc:0.90474\n",
            "[724]\ttrain-auc:0.95675\tvalid-auc:0.90478\n",
            "[725]\ttrain-auc:0.95682\tvalid-auc:0.90478\n",
            "[726]\ttrain-auc:0.95685\tvalid-auc:0.90479\n",
            "[727]\ttrain-auc:0.95689\tvalid-auc:0.90479\n",
            "[728]\ttrain-auc:0.95692\tvalid-auc:0.90481\n",
            "[729]\ttrain-auc:0.95696\tvalid-auc:0.90482\n",
            "[730]\ttrain-auc:0.95699\tvalid-auc:0.90484\n",
            "[731]\ttrain-auc:0.95706\tvalid-auc:0.90489\n",
            "[732]\ttrain-auc:0.95710\tvalid-auc:0.90489\n",
            "[733]\ttrain-auc:0.95712\tvalid-auc:0.90490\n",
            "[734]\ttrain-auc:0.95715\tvalid-auc:0.90491\n",
            "[735]\ttrain-auc:0.95720\tvalid-auc:0.90494\n",
            "[736]\ttrain-auc:0.95723\tvalid-auc:0.90494\n",
            "[737]\ttrain-auc:0.95728\tvalid-auc:0.90495\n",
            "[738]\ttrain-auc:0.95734\tvalid-auc:0.90497\n",
            "[739]\ttrain-auc:0.95739\tvalid-auc:0.90499\n",
            "[740]\ttrain-auc:0.95747\tvalid-auc:0.90501\n",
            "[741]\ttrain-auc:0.95753\tvalid-auc:0.90501\n",
            "[742]\ttrain-auc:0.95758\tvalid-auc:0.90503\n",
            "[743]\ttrain-auc:0.95762\tvalid-auc:0.90504\n",
            "[744]\ttrain-auc:0.95768\tvalid-auc:0.90504\n",
            "[745]\ttrain-auc:0.95773\tvalid-auc:0.90504\n",
            "[746]\ttrain-auc:0.95776\tvalid-auc:0.90505\n",
            "[747]\ttrain-auc:0.95778\tvalid-auc:0.90505\n",
            "[748]\ttrain-auc:0.95785\tvalid-auc:0.90505\n",
            "[749]\ttrain-auc:0.95787\tvalid-auc:0.90506\n",
            "[750]\ttrain-auc:0.95789\tvalid-auc:0.90507\n",
            "[751]\ttrain-auc:0.95792\tvalid-auc:0.90507\n",
            "[752]\ttrain-auc:0.95794\tvalid-auc:0.90508\n",
            "[753]\ttrain-auc:0.95799\tvalid-auc:0.90508\n",
            "[754]\ttrain-auc:0.95801\tvalid-auc:0.90508\n",
            "[755]\ttrain-auc:0.95808\tvalid-auc:0.90509\n",
            "[756]\ttrain-auc:0.95814\tvalid-auc:0.90511\n",
            "[757]\ttrain-auc:0.95817\tvalid-auc:0.90512\n",
            "[758]\ttrain-auc:0.95821\tvalid-auc:0.90512\n",
            "[759]\ttrain-auc:0.95825\tvalid-auc:0.90514\n",
            "[760]\ttrain-auc:0.95828\tvalid-auc:0.90513\n",
            "[761]\ttrain-auc:0.95831\tvalid-auc:0.90514\n",
            "[762]\ttrain-auc:0.95834\tvalid-auc:0.90515\n",
            "[763]\ttrain-auc:0.95838\tvalid-auc:0.90516\n",
            "[764]\ttrain-auc:0.95845\tvalid-auc:0.90519\n",
            "[765]\ttrain-auc:0.95850\tvalid-auc:0.90519\n",
            "[766]\ttrain-auc:0.95853\tvalid-auc:0.90519\n",
            "[767]\ttrain-auc:0.95861\tvalid-auc:0.90521\n",
            "[768]\ttrain-auc:0.95863\tvalid-auc:0.90521\n",
            "[769]\ttrain-auc:0.95868\tvalid-auc:0.90522\n",
            "[770]\ttrain-auc:0.95873\tvalid-auc:0.90524\n",
            "[771]\ttrain-auc:0.95878\tvalid-auc:0.90523\n",
            "[772]\ttrain-auc:0.95881\tvalid-auc:0.90523\n",
            "[773]\ttrain-auc:0.95887\tvalid-auc:0.90523\n",
            "[774]\ttrain-auc:0.95892\tvalid-auc:0.90522\n",
            "[775]\ttrain-auc:0.95897\tvalid-auc:0.90522\n",
            "[776]\ttrain-auc:0.95904\tvalid-auc:0.90521\n",
            "[777]\ttrain-auc:0.95907\tvalid-auc:0.90523\n",
            "[778]\ttrain-auc:0.95912\tvalid-auc:0.90524\n",
            "[779]\ttrain-auc:0.95915\tvalid-auc:0.90527\n",
            "[780]\ttrain-auc:0.95925\tvalid-auc:0.90529\n",
            "[781]\ttrain-auc:0.95930\tvalid-auc:0.90530\n",
            "[782]\ttrain-auc:0.95934\tvalid-auc:0.90532\n",
            "[783]\ttrain-auc:0.95938\tvalid-auc:0.90533\n",
            "[784]\ttrain-auc:0.95941\tvalid-auc:0.90532\n",
            "[785]\ttrain-auc:0.95945\tvalid-auc:0.90532\n",
            "[786]\ttrain-auc:0.95948\tvalid-auc:0.90532\n",
            "[787]\ttrain-auc:0.95955\tvalid-auc:0.90532\n",
            "[788]\ttrain-auc:0.95960\tvalid-auc:0.90532\n",
            "[789]\ttrain-auc:0.95964\tvalid-auc:0.90534\n",
            "[790]\ttrain-auc:0.95970\tvalid-auc:0.90535\n",
            "[791]\ttrain-auc:0.95973\tvalid-auc:0.90536\n",
            "[792]\ttrain-auc:0.95977\tvalid-auc:0.90539\n",
            "[793]\ttrain-auc:0.95980\tvalid-auc:0.90538\n",
            "[794]\ttrain-auc:0.95986\tvalid-auc:0.90541\n",
            "[795]\ttrain-auc:0.95991\tvalid-auc:0.90542\n",
            "[796]\ttrain-auc:0.95996\tvalid-auc:0.90542\n",
            "[797]\ttrain-auc:0.96002\tvalid-auc:0.90543\n",
            "[798]\ttrain-auc:0.96005\tvalid-auc:0.90544\n",
            "[799]\ttrain-auc:0.96012\tvalid-auc:0.90545\n",
            "[800]\ttrain-auc:0.96018\tvalid-auc:0.90548\n",
            "[801]\ttrain-auc:0.96022\tvalid-auc:0.90547\n",
            "[802]\ttrain-auc:0.96028\tvalid-auc:0.90547\n",
            "[803]\ttrain-auc:0.96031\tvalid-auc:0.90548\n",
            "[804]\ttrain-auc:0.96035\tvalid-auc:0.90550\n",
            "[805]\ttrain-auc:0.96039\tvalid-auc:0.90552\n",
            "[806]\ttrain-auc:0.96043\tvalid-auc:0.90553\n",
            "[807]\ttrain-auc:0.96044\tvalid-auc:0.90553\n",
            "[808]\ttrain-auc:0.96047\tvalid-auc:0.90554\n",
            "[809]\ttrain-auc:0.96052\tvalid-auc:0.90556\n",
            "[810]\ttrain-auc:0.96059\tvalid-auc:0.90557\n",
            "[811]\ttrain-auc:0.96065\tvalid-auc:0.90558\n",
            "[812]\ttrain-auc:0.96069\tvalid-auc:0.90558\n",
            "[813]\ttrain-auc:0.96073\tvalid-auc:0.90559\n",
            "[814]\ttrain-auc:0.96077\tvalid-auc:0.90559\n",
            "[815]\ttrain-auc:0.96082\tvalid-auc:0.90560\n",
            "[816]\ttrain-auc:0.96086\tvalid-auc:0.90560\n",
            "[817]\ttrain-auc:0.96089\tvalid-auc:0.90560\n",
            "[818]\ttrain-auc:0.96095\tvalid-auc:0.90562\n",
            "[819]\ttrain-auc:0.96096\tvalid-auc:0.90562\n",
            "[820]\ttrain-auc:0.96101\tvalid-auc:0.90561\n",
            "[821]\ttrain-auc:0.96107\tvalid-auc:0.90560\n",
            "[822]\ttrain-auc:0.96110\tvalid-auc:0.90560\n",
            "[823]\ttrain-auc:0.96113\tvalid-auc:0.90560\n",
            "[824]\ttrain-auc:0.96117\tvalid-auc:0.90558\n",
            "[825]\ttrain-auc:0.96120\tvalid-auc:0.90559\n",
            "[826]\ttrain-auc:0.96123\tvalid-auc:0.90560\n",
            "[827]\ttrain-auc:0.96130\tvalid-auc:0.90559\n",
            "[828]\ttrain-auc:0.96135\tvalid-auc:0.90560\n",
            "[829]\ttrain-auc:0.96140\tvalid-auc:0.90562\n",
            "[830]\ttrain-auc:0.96145\tvalid-auc:0.90562\n",
            "[831]\ttrain-auc:0.96150\tvalid-auc:0.90561\n",
            "[832]\ttrain-auc:0.96155\tvalid-auc:0.90563\n",
            "[833]\ttrain-auc:0.96161\tvalid-auc:0.90564\n",
            "[834]\ttrain-auc:0.96166\tvalid-auc:0.90564\n",
            "[835]\ttrain-auc:0.96172\tvalid-auc:0.90564\n",
            "[836]\ttrain-auc:0.96176\tvalid-auc:0.90566\n",
            "[837]\ttrain-auc:0.96179\tvalid-auc:0.90566\n",
            "[838]\ttrain-auc:0.96183\tvalid-auc:0.90567\n",
            "[839]\ttrain-auc:0.96188\tvalid-auc:0.90568\n",
            "[840]\ttrain-auc:0.96192\tvalid-auc:0.90568\n",
            "[841]\ttrain-auc:0.96193\tvalid-auc:0.90568\n",
            "[842]\ttrain-auc:0.96195\tvalid-auc:0.90569\n",
            "[843]\ttrain-auc:0.96201\tvalid-auc:0.90569\n",
            "[844]\ttrain-auc:0.96206\tvalid-auc:0.90570\n",
            "[845]\ttrain-auc:0.96213\tvalid-auc:0.90571\n",
            "[846]\ttrain-auc:0.96214\tvalid-auc:0.90571\n",
            "[847]\ttrain-auc:0.96216\tvalid-auc:0.90571\n",
            "[848]\ttrain-auc:0.96222\tvalid-auc:0.90572\n",
            "[849]\ttrain-auc:0.96225\tvalid-auc:0.90572\n",
            "[850]\ttrain-auc:0.96229\tvalid-auc:0.90573\n",
            "[851]\ttrain-auc:0.96232\tvalid-auc:0.90574\n",
            "[852]\ttrain-auc:0.96236\tvalid-auc:0.90573\n",
            "[853]\ttrain-auc:0.96241\tvalid-auc:0.90574\n",
            "[854]\ttrain-auc:0.96246\tvalid-auc:0.90575\n",
            "[855]\ttrain-auc:0.96251\tvalid-auc:0.90577\n",
            "[856]\ttrain-auc:0.96255\tvalid-auc:0.90577\n",
            "[857]\ttrain-auc:0.96257\tvalid-auc:0.90576\n",
            "[858]\ttrain-auc:0.96259\tvalid-auc:0.90575\n",
            "[859]\ttrain-auc:0.96264\tvalid-auc:0.90575\n",
            "[860]\ttrain-auc:0.96268\tvalid-auc:0.90575\n",
            "[861]\ttrain-auc:0.96273\tvalid-auc:0.90575\n",
            "[862]\ttrain-auc:0.96276\tvalid-auc:0.90577\n",
            "[863]\ttrain-auc:0.96279\tvalid-auc:0.90577\n",
            "[864]\ttrain-auc:0.96284\tvalid-auc:0.90577\n",
            "[865]\ttrain-auc:0.96287\tvalid-auc:0.90578\n",
            "[866]\ttrain-auc:0.96288\tvalid-auc:0.90577\n",
            "[867]\ttrain-auc:0.96290\tvalid-auc:0.90578\n",
            "[868]\ttrain-auc:0.96297\tvalid-auc:0.90578\n",
            "[869]\ttrain-auc:0.96302\tvalid-auc:0.90579\n",
            "[870]\ttrain-auc:0.96304\tvalid-auc:0.90580\n",
            "[871]\ttrain-auc:0.96307\tvalid-auc:0.90581\n",
            "[872]\ttrain-auc:0.96314\tvalid-auc:0.90585\n",
            "[873]\ttrain-auc:0.96318\tvalid-auc:0.90585\n",
            "[874]\ttrain-auc:0.96320\tvalid-auc:0.90586\n",
            "[875]\ttrain-auc:0.96324\tvalid-auc:0.90586\n",
            "[876]\ttrain-auc:0.96328\tvalid-auc:0.90586\n",
            "[877]\ttrain-auc:0.96332\tvalid-auc:0.90587\n",
            "[878]\ttrain-auc:0.96337\tvalid-auc:0.90589\n",
            "[879]\ttrain-auc:0.96340\tvalid-auc:0.90588\n",
            "[880]\ttrain-auc:0.96343\tvalid-auc:0.90589\n",
            "[881]\ttrain-auc:0.96346\tvalid-auc:0.90591\n",
            "[882]\ttrain-auc:0.96352\tvalid-auc:0.90592\n",
            "[883]\ttrain-auc:0.96355\tvalid-auc:0.90593\n",
            "[884]\ttrain-auc:0.96358\tvalid-auc:0.90593\n",
            "[885]\ttrain-auc:0.96363\tvalid-auc:0.90593\n",
            "[886]\ttrain-auc:0.96367\tvalid-auc:0.90594\n",
            "[887]\ttrain-auc:0.96376\tvalid-auc:0.90598\n",
            "[888]\ttrain-auc:0.96381\tvalid-auc:0.90597\n",
            "[889]\ttrain-auc:0.96386\tvalid-auc:0.90600\n",
            "[890]\ttrain-auc:0.96391\tvalid-auc:0.90600\n",
            "[891]\ttrain-auc:0.96395\tvalid-auc:0.90601\n",
            "[892]\ttrain-auc:0.96398\tvalid-auc:0.90602\n",
            "[893]\ttrain-auc:0.96404\tvalid-auc:0.90603\n",
            "[894]\ttrain-auc:0.96409\tvalid-auc:0.90603\n",
            "[895]\ttrain-auc:0.96412\tvalid-auc:0.90604\n",
            "[896]\ttrain-auc:0.96417\tvalid-auc:0.90605\n",
            "[897]\ttrain-auc:0.96418\tvalid-auc:0.90604\n",
            "[898]\ttrain-auc:0.96419\tvalid-auc:0.90604\n",
            "[899]\ttrain-auc:0.96424\tvalid-auc:0.90605\n",
            "[900]\ttrain-auc:0.96428\tvalid-auc:0.90606\n",
            "[901]\ttrain-auc:0.96431\tvalid-auc:0.90607\n",
            "[902]\ttrain-auc:0.96434\tvalid-auc:0.90607\n",
            "[903]\ttrain-auc:0.96441\tvalid-auc:0.90607\n",
            "[904]\ttrain-auc:0.96445\tvalid-auc:0.90607\n",
            "[905]\ttrain-auc:0.96450\tvalid-auc:0.90607\n",
            "[906]\ttrain-auc:0.96454\tvalid-auc:0.90609\n",
            "[907]\ttrain-auc:0.96462\tvalid-auc:0.90611\n",
            "[908]\ttrain-auc:0.96468\tvalid-auc:0.90613\n",
            "[909]\ttrain-auc:0.96474\tvalid-auc:0.90614\n",
            "[910]\ttrain-auc:0.96477\tvalid-auc:0.90613\n",
            "[911]\ttrain-auc:0.96480\tvalid-auc:0.90614\n",
            "[912]\ttrain-auc:0.96485\tvalid-auc:0.90613\n",
            "[913]\ttrain-auc:0.96489\tvalid-auc:0.90613\n",
            "[914]\ttrain-auc:0.96496\tvalid-auc:0.90614\n",
            "[915]\ttrain-auc:0.96499\tvalid-auc:0.90614\n",
            "[916]\ttrain-auc:0.96502\tvalid-auc:0.90612\n",
            "[917]\ttrain-auc:0.96505\tvalid-auc:0.90612\n",
            "[918]\ttrain-auc:0.96510\tvalid-auc:0.90611\n",
            "[919]\ttrain-auc:0.96511\tvalid-auc:0.90610\n",
            "[920]\ttrain-auc:0.96517\tvalid-auc:0.90613\n",
            "[921]\ttrain-auc:0.96524\tvalid-auc:0.90614\n",
            "[922]\ttrain-auc:0.96527\tvalid-auc:0.90616\n",
            "[923]\ttrain-auc:0.96532\tvalid-auc:0.90618\n",
            "[924]\ttrain-auc:0.96538\tvalid-auc:0.90621\n",
            "[925]\ttrain-auc:0.96543\tvalid-auc:0.90621\n",
            "[926]\ttrain-auc:0.96546\tvalid-auc:0.90622\n",
            "[927]\ttrain-auc:0.96553\tvalid-auc:0.90624\n",
            "[928]\ttrain-auc:0.96559\tvalid-auc:0.90626\n",
            "[929]\ttrain-auc:0.96564\tvalid-auc:0.90628\n",
            "[930]\ttrain-auc:0.96568\tvalid-auc:0.90629\n",
            "[931]\ttrain-auc:0.96572\tvalid-auc:0.90632\n",
            "[932]\ttrain-auc:0.96575\tvalid-auc:0.90632\n",
            "[933]\ttrain-auc:0.96579\tvalid-auc:0.90633\n",
            "[934]\ttrain-auc:0.96582\tvalid-auc:0.90634\n",
            "[935]\ttrain-auc:0.96585\tvalid-auc:0.90634\n",
            "[936]\ttrain-auc:0.96588\tvalid-auc:0.90634\n",
            "[937]\ttrain-auc:0.96592\tvalid-auc:0.90635\n",
            "[938]\ttrain-auc:0.96594\tvalid-auc:0.90636\n",
            "[939]\ttrain-auc:0.96600\tvalid-auc:0.90635\n",
            "[940]\ttrain-auc:0.96604\tvalid-auc:0.90636\n",
            "[941]\ttrain-auc:0.96608\tvalid-auc:0.90636\n",
            "[942]\ttrain-auc:0.96610\tvalid-auc:0.90637\n",
            "[943]\ttrain-auc:0.96614\tvalid-auc:0.90638\n",
            "[944]\ttrain-auc:0.96618\tvalid-auc:0.90635\n",
            "[945]\ttrain-auc:0.96625\tvalid-auc:0.90638\n",
            "[946]\ttrain-auc:0.96629\tvalid-auc:0.90637\n",
            "[947]\ttrain-auc:0.96634\tvalid-auc:0.90639\n",
            "[948]\ttrain-auc:0.96640\tvalid-auc:0.90640\n",
            "[949]\ttrain-auc:0.96643\tvalid-auc:0.90641\n",
            "[950]\ttrain-auc:0.96647\tvalid-auc:0.90642\n",
            "[951]\ttrain-auc:0.96653\tvalid-auc:0.90642\n",
            "[952]\ttrain-auc:0.96659\tvalid-auc:0.90641\n",
            "[953]\ttrain-auc:0.96662\tvalid-auc:0.90641\n",
            "[954]\ttrain-auc:0.96664\tvalid-auc:0.90641\n",
            "[955]\ttrain-auc:0.96668\tvalid-auc:0.90642\n",
            "[956]\ttrain-auc:0.96671\tvalid-auc:0.90643\n",
            "[957]\ttrain-auc:0.96674\tvalid-auc:0.90644\n",
            "[958]\ttrain-auc:0.96679\tvalid-auc:0.90644\n",
            "[959]\ttrain-auc:0.96683\tvalid-auc:0.90646\n",
            "[960]\ttrain-auc:0.96685\tvalid-auc:0.90646\n",
            "[961]\ttrain-auc:0.96687\tvalid-auc:0.90647\n",
            "[962]\ttrain-auc:0.96691\tvalid-auc:0.90650\n",
            "[963]\ttrain-auc:0.96698\tvalid-auc:0.90651\n",
            "[964]\ttrain-auc:0.96700\tvalid-auc:0.90651\n",
            "[965]\ttrain-auc:0.96704\tvalid-auc:0.90651\n",
            "[966]\ttrain-auc:0.96706\tvalid-auc:0.90651\n",
            "[967]\ttrain-auc:0.96709\tvalid-auc:0.90652\n",
            "[968]\ttrain-auc:0.96713\tvalid-auc:0.90652\n",
            "[969]\ttrain-auc:0.96715\tvalid-auc:0.90651\n",
            "[970]\ttrain-auc:0.96717\tvalid-auc:0.90651\n",
            "[971]\ttrain-auc:0.96724\tvalid-auc:0.90653\n",
            "[972]\ttrain-auc:0.96729\tvalid-auc:0.90653\n",
            "[973]\ttrain-auc:0.96731\tvalid-auc:0.90653\n",
            "[974]\ttrain-auc:0.96733\tvalid-auc:0.90655\n",
            "[975]\ttrain-auc:0.96737\tvalid-auc:0.90655\n",
            "[976]\ttrain-auc:0.96741\tvalid-auc:0.90655\n",
            "[977]\ttrain-auc:0.96746\tvalid-auc:0.90654\n",
            "[978]\ttrain-auc:0.96751\tvalid-auc:0.90655\n",
            "[979]\ttrain-auc:0.96754\tvalid-auc:0.90656\n",
            "[980]\ttrain-auc:0.96760\tvalid-auc:0.90654\n",
            "[981]\ttrain-auc:0.96764\tvalid-auc:0.90653\n",
            "[982]\ttrain-auc:0.96766\tvalid-auc:0.90654\n",
            "[983]\ttrain-auc:0.96769\tvalid-auc:0.90655\n",
            "[984]\ttrain-auc:0.96772\tvalid-auc:0.90654\n",
            "[985]\ttrain-auc:0.96774\tvalid-auc:0.90655\n",
            "[986]\ttrain-auc:0.96777\tvalid-auc:0.90655\n",
            "[987]\ttrain-auc:0.96780\tvalid-auc:0.90655\n",
            "[988]\ttrain-auc:0.96783\tvalid-auc:0.90655\n",
            "[989]\ttrain-auc:0.96788\tvalid-auc:0.90658\n",
            "[990]\ttrain-auc:0.96792\tvalid-auc:0.90659\n",
            "[991]\ttrain-auc:0.96794\tvalid-auc:0.90658\n",
            "[992]\ttrain-auc:0.96799\tvalid-auc:0.90659\n",
            "[993]\ttrain-auc:0.96800\tvalid-auc:0.90659\n",
            "[994]\ttrain-auc:0.96805\tvalid-auc:0.90659\n",
            "[995]\ttrain-auc:0.96807\tvalid-auc:0.90658\n",
            "[996]\ttrain-auc:0.96812\tvalid-auc:0.90660\n",
            "[997]\ttrain-auc:0.96814\tvalid-auc:0.90660\n",
            "[998]\ttrain-auc:0.96815\tvalid-auc:0.90660\n",
            "[999]\ttrain-auc:0.96820\tvalid-auc:0.90661\n"
          ]
        },
        {
          "name": "stderr",
          "output_type": "stream",
          "text": [
            "C:\\Users\\huber\\AppData\\Local\\Packages\\PythonSoftwareFoundation.Python.3.9_qbz5n2kfra8p0\\LocalCache\\local-packages\\Python39\\site-packages\\xgboost\\core.py:90: UserWarning: ntree_limit is deprecated, use `iteration_range` or model slicing instead.\n",
            "  warnings.warn(\n"
          ]
        },
        {
          "name": "stdout",
          "output_type": "stream",
          "text": [
            "Czas trenowania: 1.72 minut\n"
          ]
        },
        {
          "data": {
            "image/png": "[encoded data removed]",
            "text/plain": [
              "<Figure size 432x288 with 1 Axes>"
            ]
          },
          "metadata": {
            "needs_background": "light"
          },
          "output_type": "display_data"
        }
      ],
      "source": [
        "score, trainPred, testPred, train_history, impFig, imp = run_xgb(X_train, X_valid, features, target, early_stopping_rounds=50)"
      ]
    },
    {
      "cell_type": "code",
      "execution_count": 10,
      "metadata": {},
      "outputs": [
        {
          "data": {
            "image/png": "[encoded data removed]",
            "text/plain": [
              "<Figure size 432x288 with 1 Axes>"
            ]
          },
          "metadata": {
            "needs_background": "light"
          },
          "output_type": "display_data"
        }
      ],
      "source": [
        "train_history.plot()\n",
        "plt.show()"
      ]
    },
    {
      "cell_type": "code",
      "execution_count": 11,
      "metadata": {},
      "outputs": [],
      "source": [
        "from sklearn.model_selection import KFold\n",
        "from sklearn import metrics\n",
        "from sklearn.ensemble import RandomForestClassifier\n",
        "from sklearn.metrics import roc_auc_score\n",
        "\n",
        "\n",
        "def CVTestXGB(nFolds = 5, randomState=2020, features=features, debug=False, *args, **kwargs):\n",
        "    \n",
        "    # Walidacja krzyżowa\n",
        "    kf = KFold(n_splits=nFolds, shuffle=True, random_state=randomState)\n",
        "\n",
        "    # Zapisanie wyników ze zbioru treningowego i testowego\n",
        "    testResults = []\n",
        "    trainResults = []\n",
        "    \n",
        "    # Predykcje dla poszczególnych foldów\n",
        "    predictions = []\n",
        "    \n",
        "    # Indeks w oryginalnym zbiorze danych\n",
        "    indices = []\n",
        "    \n",
        "    # Lista historii\n",
        "    hists = []\n",
        "    fold = 1\n",
        "    for train, test in kf.split(df.index.values):\n",
        "        # Przygotowanie estymatora\n",
        "        score, trainPred, testPred, train_history, impFig, imp = run_xgb(df.iloc[train], df.iloc[test],\n",
        "                                                                         features, target, debug=debug, *args, **kwargs)\n",
        "\n",
        "        # Informacja o predykcjach dla tego foldu\n",
        "        predictions.append(testPred.tolist().copy())\n",
        "        \n",
        "        # Iindeksy w oryginalnym data frame\n",
        "        indices.append(df.iloc[test].index.tolist().copy())\n",
        "        \n",
        "        # Informowanie o każdym foldzie razem z wynikami\n",
        "        trainScore = roc_auc_score(df[target].iloc[train], trainPred)\n",
        "        testScore = roc_auc_score(df[target].iloc[test], testPred)\n",
        "        \n",
        "        trainResults.append(trainScore)\n",
        "        testResults.append(testScore)\n",
        "        \n",
        "        hists.append(train_history.add_suffix('_'+str(fold)))\n",
        "        fold+=1\n",
        "        \n",
        "        if debug:\n",
        "            print(\"Train AUC:\", trainScore,\n",
        "                  \"Valid AUC:\", testScore)\n",
        "        \n",
        "    return trainResults, testResults, predictions, indices, pd.concat(hists, axis=1)"
      ]
    },
    {
      "cell_type": "code",
      "execution_count": 12,
      "metadata": {},
      "outputs": [
        {
          "name": "stdout",
          "output_type": "stream",
          "text": [
            "[07:59:19] WARNING: C:/Users/Administrator/workspace/xgboost-win64_release_1.6.0/src/learner.cc:627: \n",
            "Parameters: { \"early_stopping_rounds\", \"lambdaX\", \"num_boost_round\", \"rate_drop\", \"silent\", \"skip_drop\" } might not be used.\n",
            "\n",
            "  This could be a false alarm, with some parameters getting used by language bindings but\n",
            "  then being mistakenly passed down to XGBoost core, or some parameter actually being used\n",
            "  but getting flagged wrongly here. Please open an issue if you find any such cases.\n",
            "\n",
            "\n"
          ]
        },
        {
          "name": "stderr",
          "output_type": "stream",
          "text": [
            "C:\\Users\\huber\\AppData\\Local\\Packages\\PythonSoftwareFoundation.Python.3.9_qbz5n2kfra8p0\\LocalCache\\local-packages\\Python39\\site-packages\\xgboost\\core.py:90: UserWarning: ntree_limit is deprecated, use `iteration_range` or model slicing instead.\n",
            "  warnings.warn(\n"
          ]
        },
        {
          "name": "stdout",
          "output_type": "stream",
          "text": [
            "[07:59:31] WARNING: C:/Users/Administrator/workspace/xgboost-win64_release_1.6.0/src/learner.cc:627: \n",
            "Parameters: { \"early_stopping_rounds\", \"lambdaX\", \"num_boost_round\", \"rate_drop\", \"silent\", \"skip_drop\" } might not be used.\n",
            "\n",
            "  This could be a false alarm, with some parameters getting used by language bindings but\n",
            "  then being mistakenly passed down to XGBoost core, or some parameter actually being used\n",
            "  but getting flagged wrongly here. Please open an issue if you find any such cases.\n",
            "\n",
            "\n"
          ]
        },
        {
          "name": "stderr",
          "output_type": "stream",
          "text": [
            "C:\\Users\\huber\\AppData\\Local\\Packages\\PythonSoftwareFoundation.Python.3.9_qbz5n2kfra8p0\\LocalCache\\local-packages\\Python39\\site-packages\\xgboost\\core.py:90: UserWarning: ntree_limit is deprecated, use `iteration_range` or model slicing instead.\n",
            "  warnings.warn(\n"
          ]
        },
        {
          "name": "stdout",
          "output_type": "stream",
          "text": [
            "[07:59:43] WARNING: C:/Users/Administrator/workspace/xgboost-win64_release_1.6.0/src/learner.cc:627: \n",
            "Parameters: { \"early_stopping_rounds\", \"lambdaX\", \"num_boost_round\", \"rate_drop\", \"silent\", \"skip_drop\" } might not be used.\n",
            "\n",
            "  This could be a false alarm, with some parameters getting used by language bindings but\n",
            "  then being mistakenly passed down to XGBoost core, or some parameter actually being used\n",
            "  but getting flagged wrongly here. Please open an issue if you find any such cases.\n",
            "\n",
            "\n"
          ]
        },
        {
          "name": "stderr",
          "output_type": "stream",
          "text": [
            "C:\\Users\\huber\\AppData\\Local\\Packages\\PythonSoftwareFoundation.Python.3.9_qbz5n2kfra8p0\\LocalCache\\local-packages\\Python39\\site-packages\\xgboost\\core.py:90: UserWarning: ntree_limit is deprecated, use `iteration_range` or model slicing instead.\n",
            "  warnings.warn(\n"
          ]
        },
        {
          "name": "stdout",
          "output_type": "stream",
          "text": [
            "[07:59:55] WARNING: C:/Users/Administrator/workspace/xgboost-win64_release_1.6.0/src/learner.cc:627: \n",
            "Parameters: { \"early_stopping_rounds\", \"lambdaX\", \"num_boost_round\", \"rate_drop\", \"silent\", \"skip_drop\" } might not be used.\n",
            "\n",
            "  This could be a false alarm, with some parameters getting used by language bindings but\n",
            "  then being mistakenly passed down to XGBoost core, or some parameter actually being used\n",
            "  but getting flagged wrongly here. Please open an issue if you find any such cases.\n",
            "\n",
            "\n"
          ]
        },
        {
          "name": "stderr",
          "output_type": "stream",
          "text": [
            "C:\\Users\\huber\\AppData\\Local\\Packages\\PythonSoftwareFoundation.Python.3.9_qbz5n2kfra8p0\\LocalCache\\local-packages\\Python39\\site-packages\\xgboost\\core.py:90: UserWarning: ntree_limit is deprecated, use `iteration_range` or model slicing instead.\n",
            "  warnings.warn(\n"
          ]
        },
        {
          "name": "stdout",
          "output_type": "stream",
          "text": [
            "[08:00:07] WARNING: C:/Users/Administrator/workspace/xgboost-win64_release_1.6.0/src/learner.cc:627: \n",
            "Parameters: { \"early_stopping_rounds\", \"lambdaX\", \"num_boost_round\", \"rate_drop\", \"silent\", \"skip_drop\" } might not be used.\n",
            "\n",
            "  This could be a false alarm, with some parameters getting used by language bindings but\n",
            "  then being mistakenly passed down to XGBoost core, or some parameter actually being used\n",
            "  but getting flagged wrongly here. Please open an issue if you find any such cases.\n",
            "\n",
            "\n"
          ]
        },
        {
          "name": "stderr",
          "output_type": "stream",
          "text": [
            "C:\\Users\\huber\\AppData\\Local\\Packages\\PythonSoftwareFoundation.Python.3.9_qbz5n2kfra8p0\\LocalCache\\local-packages\\Python39\\site-packages\\xgboost\\core.py:90: UserWarning: ntree_limit is deprecated, use `iteration_range` or model slicing instead.\n",
            "  warnings.warn(\n"
          ]
        },
        {
          "name": "stdout",
          "output_type": "stream",
          "text": [
            "0.9047064930858488 (8, 0.8340309259359733, 0.8973435454270858, 5.465227140162185, 2.98087574722821)\n",
            "[08:00:19] WARNING: C:/Users/Administrator/workspace/xgboost-win64_release_1.6.0/src/learner.cc:627: \n",
            "Parameters: { \"early_stopping_rounds\", \"lambdaX\", \"num_boost_round\", \"rate_drop\", \"silent\", \"skip_drop\" } might not be used.\n",
            "\n",
            "  This could be a false alarm, with some parameters getting used by language bindings but\n",
            "  then being mistakenly passed down to XGBoost core, or some parameter actually being used\n",
            "  but getting flagged wrongly here. Please open an issue if you find any such cases.\n",
            "\n",
            "\n"
          ]
        },
        {
          "name": "stderr",
          "output_type": "stream",
          "text": [
            "C:\\Users\\huber\\AppData\\Local\\Packages\\PythonSoftwareFoundation.Python.3.9_qbz5n2kfra8p0\\LocalCache\\local-packages\\Python39\\site-packages\\xgboost\\core.py:90: UserWarning: ntree_limit is deprecated, use `iteration_range` or model slicing instead.\n",
            "  warnings.warn(\n"
          ]
        },
        {
          "name": "stdout",
          "output_type": "stream",
          "text": [
            "[08:00:25] WARNING: C:/Users/Administrator/workspace/xgboost-win64_release_1.6.0/src/learner.cc:627: \n",
            "Parameters: { \"early_stopping_rounds\", \"lambdaX\", \"num_boost_round\", \"rate_drop\", \"silent\", \"skip_drop\" } might not be used.\n",
            "\n",
            "  This could be a false alarm, with some parameters getting used by language bindings but\n",
            "  then being mistakenly passed down to XGBoost core, or some parameter actually being used\n",
            "  but getting flagged wrongly here. Please open an issue if you find any such cases.\n",
            "\n",
            "\n"
          ]
        },
        {
          "name": "stderr",
          "output_type": "stream",
          "text": [
            "C:\\Users\\huber\\AppData\\Local\\Packages\\PythonSoftwareFoundation.Python.3.9_qbz5n2kfra8p0\\LocalCache\\local-packages\\Python39\\site-packages\\xgboost\\core.py:90: UserWarning: ntree_limit is deprecated, use `iteration_range` or model slicing instead.\n",
            "  warnings.warn(\n"
          ]
        },
        {
          "name": "stdout",
          "output_type": "stream",
          "text": [
            "[08:00:31] WARNING: C:/Users/Administrator/workspace/xgboost-win64_release_1.6.0/src/learner.cc:627: \n",
            "Parameters: { \"early_stopping_rounds\", \"lambdaX\", \"num_boost_round\", \"rate_drop\", \"silent\", \"skip_drop\" } might not be used.\n",
            "\n",
            "  This could be a false alarm, with some parameters getting used by language bindings but\n",
            "  then being mistakenly passed down to XGBoost core, or some parameter actually being used\n",
            "  but getting flagged wrongly here. Please open an issue if you find any such cases.\n",
            "\n",
            "\n"
          ]
        },
        {
          "name": "stderr",
          "output_type": "stream",
          "text": [
            "C:\\Users\\huber\\AppData\\Local\\Packages\\PythonSoftwareFoundation.Python.3.9_qbz5n2kfra8p0\\LocalCache\\local-packages\\Python39\\site-packages\\xgboost\\core.py:90: UserWarning: ntree_limit is deprecated, use `iteration_range` or model slicing instead.\n",
            "  warnings.warn(\n"
          ]
        },
        {
          "name": "stdout",
          "output_type": "stream",
          "text": [
            "[08:00:37] WARNING: C:/Users/Administrator/workspace/xgboost-win64_release_1.6.0/src/learner.cc:627: \n",
            "Parameters: { \"early_stopping_rounds\", \"lambdaX\", \"num_boost_round\", \"rate_drop\", \"silent\", \"skip_drop\" } might not be used.\n",
            "\n",
            "  This could be a false alarm, with some parameters getting used by language bindings but\n",
            "  then being mistakenly passed down to XGBoost core, or some parameter actually being used\n",
            "  but getting flagged wrongly here. Please open an issue if you find any such cases.\n",
            "\n",
            "\n"
          ]
        },
        {
          "name": "stderr",
          "output_type": "stream",
          "text": [
            "C:\\Users\\huber\\AppData\\Local\\Packages\\PythonSoftwareFoundation.Python.3.9_qbz5n2kfra8p0\\LocalCache\\local-packages\\Python39\\site-packages\\xgboost\\core.py:90: UserWarning: ntree_limit is deprecated, use `iteration_range` or model slicing instead.\n",
            "  warnings.warn(\n"
          ]
        },
        {
          "name": "stdout",
          "output_type": "stream",
          "text": [
            "[08:00:43] WARNING: C:/Users/Administrator/workspace/xgboost-win64_release_1.6.0/src/learner.cc:627: \n",
            "Parameters: { \"early_stopping_rounds\", \"lambdaX\", \"num_boost_round\", \"rate_drop\", \"silent\", \"skip_drop\" } might not be used.\n",
            "\n",
            "  This could be a false alarm, with some parameters getting used by language bindings but\n",
            "  then being mistakenly passed down to XGBoost core, or some parameter actually being used\n",
            "  but getting flagged wrongly here. Please open an issue if you find any such cases.\n",
            "\n",
            "\n"
          ]
        },
        {
          "name": "stderr",
          "output_type": "stream",
          "text": [
            "C:\\Users\\huber\\AppData\\Local\\Packages\\PythonSoftwareFoundation.Python.3.9_qbz5n2kfra8p0\\LocalCache\\local-packages\\Python39\\site-packages\\xgboost\\core.py:90: UserWarning: ntree_limit is deprecated, use `iteration_range` or model slicing instead.\n",
            "  warnings.warn(\n"
          ]
        },
        {
          "name": "stdout",
          "output_type": "stream",
          "text": [
            "0.8980907015515843 (4, 0.6879443850367897, 0.651113054631435, 6.866642368678189, 0.8046875260675179)\n",
            "[08:00:49] WARNING: C:/Users/Administrator/workspace/xgboost-win64_release_1.6.0/src/learner.cc:627: \n",
            "Parameters: { \"early_stopping_rounds\", \"lambdaX\", \"num_boost_round\", \"rate_drop\", \"silent\", \"skip_drop\" } might not be used.\n",
            "\n",
            "  This could be a false alarm, with some parameters getting used by language bindings but\n",
            "  then being mistakenly passed down to XGBoost core, or some parameter actually being used\n",
            "  but getting flagged wrongly here. Please open an issue if you find any such cases.\n",
            "\n",
            "\n"
          ]
        },
        {
          "name": "stderr",
          "output_type": "stream",
          "text": [
            "C:\\Users\\huber\\AppData\\Local\\Packages\\PythonSoftwareFoundation.Python.3.9_qbz5n2kfra8p0\\LocalCache\\local-packages\\Python39\\site-packages\\xgboost\\core.py:90: UserWarning: ntree_limit is deprecated, use `iteration_range` or model slicing instead.\n",
            "  warnings.warn(\n"
          ]
        },
        {
          "name": "stdout",
          "output_type": "stream",
          "text": [
            "[08:00:56] WARNING: C:/Users/Administrator/workspace/xgboost-win64_release_1.6.0/src/learner.cc:627: \n",
            "Parameters: { \"early_stopping_rounds\", \"lambdaX\", \"num_boost_round\", \"rate_drop\", \"silent\", \"skip_drop\" } might not be used.\n",
            "\n",
            "  This could be a false alarm, with some parameters getting used by language bindings but\n",
            "  then being mistakenly passed down to XGBoost core, or some parameter actually being used\n",
            "  but getting flagged wrongly here. Please open an issue if you find any such cases.\n",
            "\n",
            "\n"
          ]
        },
        {
          "name": "stderr",
          "output_type": "stream",
          "text": [
            "C:\\Users\\huber\\AppData\\Local\\Packages\\PythonSoftwareFoundation.Python.3.9_qbz5n2kfra8p0\\LocalCache\\local-packages\\Python39\\site-packages\\xgboost\\core.py:90: UserWarning: ntree_limit is deprecated, use `iteration_range` or model slicing instead.\n",
            "  warnings.warn(\n"
          ]
        },
        {
          "name": "stdout",
          "output_type": "stream",
          "text": [
            "[08:01:02] WARNING: C:/Users/Administrator/workspace/xgboost-win64_release_1.6.0/src/learner.cc:627: \n",
            "Parameters: { \"early_stopping_rounds\", \"lambdaX\", \"num_boost_round\", \"rate_drop\", \"silent\", \"skip_drop\" } might not be used.\n",
            "\n",
            "  This could be a false alarm, with some parameters getting used by language bindings but\n",
            "  then being mistakenly passed down to XGBoost core, or some parameter actually being used\n",
            "  but getting flagged wrongly here. Please open an issue if you find any such cases.\n",
            "\n",
            "\n"
          ]
        },
        {
          "name": "stderr",
          "output_type": "stream",
          "text": [
            "C:\\Users\\huber\\AppData\\Local\\Packages\\PythonSoftwareFoundation.Python.3.9_qbz5n2kfra8p0\\LocalCache\\local-packages\\Python39\\site-packages\\xgboost\\core.py:90: UserWarning: ntree_limit is deprecated, use `iteration_range` or model slicing instead.\n",
            "  warnings.warn(\n"
          ]
        },
        {
          "name": "stdout",
          "output_type": "stream",
          "text": [
            "[08:01:08] WARNING: C:/Users/Administrator/workspace/xgboost-win64_release_1.6.0/src/learner.cc:627: \n",
            "Parameters: { \"early_stopping_rounds\", \"lambdaX\", \"num_boost_round\", \"rate_drop\", \"silent\", \"skip_drop\" } might not be used.\n",
            "\n",
            "  This could be a false alarm, with some parameters getting used by language bindings but\n",
            "  then being mistakenly passed down to XGBoost core, or some parameter actually being used\n",
            "  but getting flagged wrongly here. Please open an issue if you find any such cases.\n",
            "\n",
            "\n"
          ]
        },
        {
          "name": "stderr",
          "output_type": "stream",
          "text": [
            "C:\\Users\\huber\\AppData\\Local\\Packages\\PythonSoftwareFoundation.Python.3.9_qbz5n2kfra8p0\\LocalCache\\local-packages\\Python39\\site-packages\\xgboost\\core.py:90: UserWarning: ntree_limit is deprecated, use `iteration_range` or model slicing instead.\n",
            "  warnings.warn(\n"
          ]
        },
        {
          "name": "stdout",
          "output_type": "stream",
          "text": [
            "[08:01:15] WARNING: C:/Users/Administrator/workspace/xgboost-win64_release_1.6.0/src/learner.cc:627: \n",
            "Parameters: { \"early_stopping_rounds\", \"lambdaX\", \"num_boost_round\", \"rate_drop\", \"silent\", \"skip_drop\" } might not be used.\n",
            "\n",
            "  This could be a false alarm, with some parameters getting used by language bindings but\n",
            "  then being mistakenly passed down to XGBoost core, or some parameter actually being used\n",
            "  but getting flagged wrongly here. Please open an issue if you find any such cases.\n",
            "\n",
            "\n"
          ]
        },
        {
          "name": "stderr",
          "output_type": "stream",
          "text": [
            "C:\\Users\\huber\\AppData\\Local\\Packages\\PythonSoftwareFoundation.Python.3.9_qbz5n2kfra8p0\\LocalCache\\local-packages\\Python39\\site-packages\\xgboost\\core.py:90: UserWarning: ntree_limit is deprecated, use `iteration_range` or model slicing instead.\n",
            "  warnings.warn(\n"
          ]
        },
        {
          "name": "stdout",
          "output_type": "stream",
          "text": [
            "0.8955727070906455 (7, 0.7263868504397224, 0.3500510524045962, 0.47527033086693926, 8.189918622806363)\n",
            "[08:01:21] WARNING: C:/Users/Administrator/workspace/xgboost-win64_release_1.6.0/src/learner.cc:627: \n",
            "Parameters: { \"early_stopping_rounds\", \"lambdaX\", \"num_boost_round\", \"rate_drop\", \"silent\", \"skip_drop\" } might not be used.\n",
            "\n",
            "  This could be a false alarm, with some parameters getting used by language bindings but\n",
            "  then being mistakenly passed down to XGBoost core, or some parameter actually being used\n",
            "  but getting flagged wrongly here. Please open an issue if you find any such cases.\n",
            "\n",
            "\n"
          ]
        },
        {
          "name": "stderr",
          "output_type": "stream",
          "text": [
            "C:\\Users\\huber\\AppData\\Local\\Packages\\PythonSoftwareFoundation.Python.3.9_qbz5n2kfra8p0\\LocalCache\\local-packages\\Python39\\site-packages\\xgboost\\core.py:90: UserWarning: ntree_limit is deprecated, use `iteration_range` or model slicing instead.\n",
            "  warnings.warn(\n"
          ]
        },
        {
          "name": "stdout",
          "output_type": "stream",
          "text": [
            "[08:01:34] WARNING: C:/Users/Administrator/workspace/xgboost-win64_release_1.6.0/src/learner.cc:627: \n",
            "Parameters: { \"early_stopping_rounds\", \"lambdaX\", \"num_boost_round\", \"rate_drop\", \"silent\", \"skip_drop\" } might not be used.\n",
            "\n",
            "  This could be a false alarm, with some parameters getting used by language bindings but\n",
            "  then being mistakenly passed down to XGBoost core, or some parameter actually being used\n",
            "  but getting flagged wrongly here. Please open an issue if you find any such cases.\n",
            "\n",
            "\n"
          ]
        },
        {
          "name": "stderr",
          "output_type": "stream",
          "text": [
            "C:\\Users\\huber\\AppData\\Local\\Packages\\PythonSoftwareFoundation.Python.3.9_qbz5n2kfra8p0\\LocalCache\\local-packages\\Python39\\site-packages\\xgboost\\core.py:90: UserWarning: ntree_limit is deprecated, use `iteration_range` or model slicing instead.\n",
            "  warnings.warn(\n"
          ]
        },
        {
          "name": "stdout",
          "output_type": "stream",
          "text": [
            "[08:01:46] WARNING: C:/Users/Administrator/workspace/xgboost-win64_release_1.6.0/src/learner.cc:627: \n",
            "Parameters: { \"early_stopping_rounds\", \"lambdaX\", \"num_boost_round\", \"rate_drop\", \"silent\", \"skip_drop\" } might not be used.\n",
            "\n",
            "  This could be a false alarm, with some parameters getting used by language bindings but\n",
            "  then being mistakenly passed down to XGBoost core, or some parameter actually being used\n",
            "  but getting flagged wrongly here. Please open an issue if you find any such cases.\n",
            "\n",
            "\n"
          ]
        },
        {
          "name": "stderr",
          "output_type": "stream",
          "text": [
            "C:\\Users\\huber\\AppData\\Local\\Packages\\PythonSoftwareFoundation.Python.3.9_qbz5n2kfra8p0\\LocalCache\\local-packages\\Python39\\site-packages\\xgboost\\core.py:90: UserWarning: ntree_limit is deprecated, use `iteration_range` or model slicing instead.\n",
            "  warnings.warn(\n"
          ]
        },
        {
          "name": "stdout",
          "output_type": "stream",
          "text": [
            "[08:01:59] WARNING: C:/Users/Administrator/workspace/xgboost-win64_release_1.6.0/src/learner.cc:627: \n",
            "Parameters: { \"early_stopping_rounds\", \"lambdaX\", \"num_boost_round\", \"rate_drop\", \"silent\", \"skip_drop\" } might not be used.\n",
            "\n",
            "  This could be a false alarm, with some parameters getting used by language bindings but\n",
            "  then being mistakenly passed down to XGBoost core, or some parameter actually being used\n",
            "  but getting flagged wrongly here. Please open an issue if you find any such cases.\n",
            "\n",
            "\n"
          ]
        },
        {
          "name": "stderr",
          "output_type": "stream",
          "text": [
            "C:\\Users\\huber\\AppData\\Local\\Packages\\PythonSoftwareFoundation.Python.3.9_qbz5n2kfra8p0\\LocalCache\\local-packages\\Python39\\site-packages\\xgboost\\core.py:90: UserWarning: ntree_limit is deprecated, use `iteration_range` or model slicing instead.\n",
            "  warnings.warn(\n"
          ]
        },
        {
          "name": "stdout",
          "output_type": "stream",
          "text": [
            "[08:02:11] WARNING: C:/Users/Administrator/workspace/xgboost-win64_release_1.6.0/src/learner.cc:627: \n",
            "Parameters: { \"early_stopping_rounds\", \"lambdaX\", \"num_boost_round\", \"rate_drop\", \"silent\", \"skip_drop\" } might not be used.\n",
            "\n",
            "  This could be a false alarm, with some parameters getting used by language bindings but\n",
            "  then being mistakenly passed down to XGBoost core, or some parameter actually being used\n",
            "  but getting flagged wrongly here. Please open an issue if you find any such cases.\n",
            "\n",
            "\n"
          ]
        },
        {
          "name": "stderr",
          "output_type": "stream",
          "text": [
            "C:\\Users\\huber\\AppData\\Local\\Packages\\PythonSoftwareFoundation.Python.3.9_qbz5n2kfra8p0\\LocalCache\\local-packages\\Python39\\site-packages\\xgboost\\core.py:90: UserWarning: ntree_limit is deprecated, use `iteration_range` or model slicing instead.\n",
            "  warnings.warn(\n"
          ]
        },
        {
          "name": "stdout",
          "output_type": "stream",
          "text": [
            "0.900531531130526 (7, 0.7328006176870686, 0.17722579178761322, 8.213137074923685, 1.2703443966167771)\n",
            "[08:02:24] WARNING: C:/Users/Administrator/workspace/xgboost-win64_release_1.6.0/src/learner.cc:627: \n",
            "Parameters: { \"early_stopping_rounds\", \"lambdaX\", \"num_boost_round\", \"rate_drop\", \"silent\", \"skip_drop\" } might not be used.\n",
            "\n",
            "  This could be a false alarm, with some parameters getting used by language bindings but\n",
            "  then being mistakenly passed down to XGBoost core, or some parameter actually being used\n",
            "  but getting flagged wrongly here. Please open an issue if you find any such cases.\n",
            "\n",
            "\n"
          ]
        },
        {
          "name": "stderr",
          "output_type": "stream",
          "text": [
            "C:\\Users\\huber\\AppData\\Local\\Packages\\PythonSoftwareFoundation.Python.3.9_qbz5n2kfra8p0\\LocalCache\\local-packages\\Python39\\site-packages\\xgboost\\core.py:90: UserWarning: ntree_limit is deprecated, use `iteration_range` or model slicing instead.\n",
            "  warnings.warn(\n"
          ]
        },
        {
          "name": "stdout",
          "output_type": "stream",
          "text": [
            "[08:02:30] WARNING: C:/Users/Administrator/workspace/xgboost-win64_release_1.6.0/src/learner.cc:627: \n",
            "Parameters: { \"early_stopping_rounds\", \"lambdaX\", \"num_boost_round\", \"rate_drop\", \"silent\", \"skip_drop\" } might not be used.\n",
            "\n",
            "  This could be a false alarm, with some parameters getting used by language bindings but\n",
            "  then being mistakenly passed down to XGBoost core, or some parameter actually being used\n",
            "  but getting flagged wrongly here. Please open an issue if you find any such cases.\n",
            "\n",
            "\n"
          ]
        },
        {
          "name": "stderr",
          "output_type": "stream",
          "text": [
            "C:\\Users\\huber\\AppData\\Local\\Packages\\PythonSoftwareFoundation.Python.3.9_qbz5n2kfra8p0\\LocalCache\\local-packages\\Python39\\site-packages\\xgboost\\core.py:90: UserWarning: ntree_limit is deprecated, use `iteration_range` or model slicing instead.\n",
            "  warnings.warn(\n"
          ]
        },
        {
          "name": "stdout",
          "output_type": "stream",
          "text": [
            "[08:02:36] WARNING: C:/Users/Administrator/workspace/xgboost-win64_release_1.6.0/src/learner.cc:627: \n",
            "Parameters: { \"early_stopping_rounds\", \"lambdaX\", \"num_boost_round\", \"rate_drop\", \"silent\", \"skip_drop\" } might not be used.\n",
            "\n",
            "  This could be a false alarm, with some parameters getting used by language bindings but\n",
            "  then being mistakenly passed down to XGBoost core, or some parameter actually being used\n",
            "  but getting flagged wrongly here. Please open an issue if you find any such cases.\n",
            "\n",
            "\n"
          ]
        },
        {
          "name": "stderr",
          "output_type": "stream",
          "text": [
            "C:\\Users\\huber\\AppData\\Local\\Packages\\PythonSoftwareFoundation.Python.3.9_qbz5n2kfra8p0\\LocalCache\\local-packages\\Python39\\site-packages\\xgboost\\core.py:90: UserWarning: ntree_limit is deprecated, use `iteration_range` or model slicing instead.\n",
            "  warnings.warn(\n"
          ]
        },
        {
          "name": "stdout",
          "output_type": "stream",
          "text": [
            "[08:02:43] WARNING: C:/Users/Administrator/workspace/xgboost-win64_release_1.6.0/src/learner.cc:627: \n",
            "Parameters: { \"early_stopping_rounds\", \"lambdaX\", \"num_boost_round\", \"rate_drop\", \"silent\", \"skip_drop\" } might not be used.\n",
            "\n",
            "  This could be a false alarm, with some parameters getting used by language bindings but\n",
            "  then being mistakenly passed down to XGBoost core, or some parameter actually being used\n",
            "  but getting flagged wrongly here. Please open an issue if you find any such cases.\n",
            "\n",
            "\n"
          ]
        },
        {
          "name": "stderr",
          "output_type": "stream",
          "text": [
            "C:\\Users\\huber\\AppData\\Local\\Packages\\PythonSoftwareFoundation.Python.3.9_qbz5n2kfra8p0\\LocalCache\\local-packages\\Python39\\site-packages\\xgboost\\core.py:90: UserWarning: ntree_limit is deprecated, use `iteration_range` or model slicing instead.\n",
            "  warnings.warn(\n"
          ]
        },
        {
          "name": "stdout",
          "output_type": "stream",
          "text": [
            "[08:02:49] WARNING: C:/Users/Administrator/workspace/xgboost-win64_release_1.6.0/src/learner.cc:627: \n",
            "Parameters: { \"early_stopping_rounds\", \"lambdaX\", \"num_boost_round\", \"rate_drop\", \"silent\", \"skip_drop\" } might not be used.\n",
            "\n",
            "  This could be a false alarm, with some parameters getting used by language bindings but\n",
            "  then being mistakenly passed down to XGBoost core, or some parameter actually being used\n",
            "  but getting flagged wrongly here. Please open an issue if you find any such cases.\n",
            "\n",
            "\n"
          ]
        },
        {
          "name": "stderr",
          "output_type": "stream",
          "text": [
            "C:\\Users\\huber\\AppData\\Local\\Packages\\PythonSoftwareFoundation.Python.3.9_qbz5n2kfra8p0\\LocalCache\\local-packages\\Python39\\site-packages\\xgboost\\core.py:90: UserWarning: ntree_limit is deprecated, use `iteration_range` or model slicing instead.\n",
            "  warnings.warn(\n"
          ]
        },
        {
          "name": "stdout",
          "output_type": "stream",
          "text": [
            "0.8934995337262304 (5, 0.16670781378351274, 0.2288766993813277, 9.242990209876734, 2.9057249278118222)\n",
            "[08:02:56] WARNING: C:/Users/Administrator/workspace/xgboost-win64_release_1.6.0/src/learner.cc:627: \n",
            "Parameters: { \"early_stopping_rounds\", \"lambdaX\", \"num_boost_round\", \"rate_drop\", \"silent\", \"skip_drop\" } might not be used.\n",
            "\n",
            "  This could be a false alarm, with some parameters getting used by language bindings but\n",
            "  then being mistakenly passed down to XGBoost core, or some parameter actually being used\n",
            "  but getting flagged wrongly here. Please open an issue if you find any such cases.\n",
            "\n",
            "\n"
          ]
        },
        {
          "name": "stderr",
          "output_type": "stream",
          "text": [
            "C:\\Users\\huber\\AppData\\Local\\Packages\\PythonSoftwareFoundation.Python.3.9_qbz5n2kfra8p0\\LocalCache\\local-packages\\Python39\\site-packages\\xgboost\\core.py:90: UserWarning: ntree_limit is deprecated, use `iteration_range` or model slicing instead.\n",
            "  warnings.warn(\n"
          ]
        },
        {
          "name": "stdout",
          "output_type": "stream",
          "text": [
            "[08:03:02] WARNING: C:/Users/Administrator/workspace/xgboost-win64_release_1.6.0/src/learner.cc:627: \n",
            "Parameters: { \"early_stopping_rounds\", \"lambdaX\", \"num_boost_round\", \"rate_drop\", \"silent\", \"skip_drop\" } might not be used.\n",
            "\n",
            "  This could be a false alarm, with some parameters getting used by language bindings but\n",
            "  then being mistakenly passed down to XGBoost core, or some parameter actually being used\n",
            "  but getting flagged wrongly here. Please open an issue if you find any such cases.\n",
            "\n",
            "\n"
          ]
        },
        {
          "name": "stderr",
          "output_type": "stream",
          "text": [
            "C:\\Users\\huber\\AppData\\Local\\Packages\\PythonSoftwareFoundation.Python.3.9_qbz5n2kfra8p0\\LocalCache\\local-packages\\Python39\\site-packages\\xgboost\\core.py:90: UserWarning: ntree_limit is deprecated, use `iteration_range` or model slicing instead.\n",
            "  warnings.warn(\n"
          ]
        },
        {
          "name": "stdout",
          "output_type": "stream",
          "text": [
            "[08:03:09] WARNING: C:/Users/Administrator/workspace/xgboost-win64_release_1.6.0/src/learner.cc:627: \n",
            "Parameters: { \"early_stopping_rounds\", \"lambdaX\", \"num_boost_round\", \"rate_drop\", \"silent\", \"skip_drop\" } might not be used.\n",
            "\n",
            "  This could be a false alarm, with some parameters getting used by language bindings but\n",
            "  then being mistakenly passed down to XGBoost core, or some parameter actually being used\n",
            "  but getting flagged wrongly here. Please open an issue if you find any such cases.\n",
            "\n",
            "\n"
          ]
        },
        {
          "name": "stderr",
          "output_type": "stream",
          "text": [
            "C:\\Users\\huber\\AppData\\Local\\Packages\\PythonSoftwareFoundation.Python.3.9_qbz5n2kfra8p0\\LocalCache\\local-packages\\Python39\\site-packages\\xgboost\\core.py:90: UserWarning: ntree_limit is deprecated, use `iteration_range` or model slicing instead.\n",
            "  warnings.warn(\n"
          ]
        },
        {
          "name": "stdout",
          "output_type": "stream",
          "text": [
            "[08:03:15] WARNING: C:/Users/Administrator/workspace/xgboost-win64_release_1.6.0/src/learner.cc:627: \n",
            "Parameters: { \"early_stopping_rounds\", \"lambdaX\", \"num_boost_round\", \"rate_drop\", \"silent\", \"skip_drop\" } might not be used.\n",
            "\n",
            "  This could be a false alarm, with some parameters getting used by language bindings but\n",
            "  then being mistakenly passed down to XGBoost core, or some parameter actually being used\n",
            "  but getting flagged wrongly here. Please open an issue if you find any such cases.\n",
            "\n",
            "\n"
          ]
        },
        {
          "name": "stderr",
          "output_type": "stream",
          "text": [
            "C:\\Users\\huber\\AppData\\Local\\Packages\\PythonSoftwareFoundation.Python.3.9_qbz5n2kfra8p0\\LocalCache\\local-packages\\Python39\\site-packages\\xgboost\\core.py:90: UserWarning: ntree_limit is deprecated, use `iteration_range` or model slicing instead.\n",
            "  warnings.warn(\n"
          ]
        },
        {
          "name": "stdout",
          "output_type": "stream",
          "text": [
            "[08:03:22] WARNING: C:/Users/Administrator/workspace/xgboost-win64_release_1.6.0/src/learner.cc:627: \n",
            "Parameters: { \"early_stopping_rounds\", \"lambdaX\", \"num_boost_round\", \"rate_drop\", \"silent\", \"skip_drop\" } might not be used.\n",
            "\n",
            "  This could be a false alarm, with some parameters getting used by language bindings but\n",
            "  then being mistakenly passed down to XGBoost core, or some parameter actually being used\n",
            "  but getting flagged wrongly here. Please open an issue if you find any such cases.\n",
            "\n",
            "\n"
          ]
        },
        {
          "name": "stderr",
          "output_type": "stream",
          "text": [
            "C:\\Users\\huber\\AppData\\Local\\Packages\\PythonSoftwareFoundation.Python.3.9_qbz5n2kfra8p0\\LocalCache\\local-packages\\Python39\\site-packages\\xgboost\\core.py:90: UserWarning: ntree_limit is deprecated, use `iteration_range` or model slicing instead.\n",
            "  warnings.warn(\n"
          ]
        },
        {
          "name": "stdout",
          "output_type": "stream",
          "text": [
            "0.8986159307682682 (6, 0.7100178691301923, 0.6615087548501121, 5.448485428774161, 5.852858712391801)\n",
            "[08:03:28] WARNING: C:/Users/Administrator/workspace/xgboost-win64_release_1.6.0/src/learner.cc:627: \n",
            "Parameters: { \"early_stopping_rounds\", \"lambdaX\", \"num_boost_round\", \"rate_drop\", \"silent\", \"skip_drop\" } might not be used.\n",
            "\n",
            "  This could be a false alarm, with some parameters getting used by language bindings but\n",
            "  then being mistakenly passed down to XGBoost core, or some parameter actually being used\n",
            "  but getting flagged wrongly here. Please open an issue if you find any such cases.\n",
            "\n",
            "\n"
          ]
        },
        {
          "name": "stderr",
          "output_type": "stream",
          "text": [
            "C:\\Users\\huber\\AppData\\Local\\Packages\\PythonSoftwareFoundation.Python.3.9_qbz5n2kfra8p0\\LocalCache\\local-packages\\Python39\\site-packages\\xgboost\\core.py:90: UserWarning: ntree_limit is deprecated, use `iteration_range` or model slicing instead.\n",
            "  warnings.warn(\n"
          ]
        },
        {
          "name": "stdout",
          "output_type": "stream",
          "text": [
            "[08:03:35] WARNING: C:/Users/Administrator/workspace/xgboost-win64_release_1.6.0/src/learner.cc:627: \n",
            "Parameters: { \"early_stopping_rounds\", \"lambdaX\", \"num_boost_round\", \"rate_drop\", \"silent\", \"skip_drop\" } might not be used.\n",
            "\n",
            "  This could be a false alarm, with some parameters getting used by language bindings but\n",
            "  then being mistakenly passed down to XGBoost core, or some parameter actually being used\n",
            "  but getting flagged wrongly here. Please open an issue if you find any such cases.\n",
            "\n",
            "\n"
          ]
        },
        {
          "name": "stderr",
          "output_type": "stream",
          "text": [
            "C:\\Users\\huber\\AppData\\Local\\Packages\\PythonSoftwareFoundation.Python.3.9_qbz5n2kfra8p0\\LocalCache\\local-packages\\Python39\\site-packages\\xgboost\\core.py:90: UserWarning: ntree_limit is deprecated, use `iteration_range` or model slicing instead.\n",
            "  warnings.warn(\n"
          ]
        },
        {
          "name": "stdout",
          "output_type": "stream",
          "text": [
            "[08:03:41] WARNING: C:/Users/Administrator/workspace/xgboost-win64_release_1.6.0/src/learner.cc:627: \n",
            "Parameters: { \"early_stopping_rounds\", \"lambdaX\", \"num_boost_round\", \"rate_drop\", \"silent\", \"skip_drop\" } might not be used.\n",
            "\n",
            "  This could be a false alarm, with some parameters getting used by language bindings but\n",
            "  then being mistakenly passed down to XGBoost core, or some parameter actually being used\n",
            "  but getting flagged wrongly here. Please open an issue if you find any such cases.\n",
            "\n",
            "\n"
          ]
        },
        {
          "name": "stderr",
          "output_type": "stream",
          "text": [
            "C:\\Users\\huber\\AppData\\Local\\Packages\\PythonSoftwareFoundation.Python.3.9_qbz5n2kfra8p0\\LocalCache\\local-packages\\Python39\\site-packages\\xgboost\\core.py:90: UserWarning: ntree_limit is deprecated, use `iteration_range` or model slicing instead.\n",
            "  warnings.warn(\n"
          ]
        },
        {
          "name": "stdout",
          "output_type": "stream",
          "text": [
            "[08:03:47] WARNING: C:/Users/Administrator/workspace/xgboost-win64_release_1.6.0/src/learner.cc:627: \n",
            "Parameters: { \"early_stopping_rounds\", \"lambdaX\", \"num_boost_round\", \"rate_drop\", \"silent\", \"skip_drop\" } might not be used.\n",
            "\n",
            "  This could be a false alarm, with some parameters getting used by language bindings but\n",
            "  then being mistakenly passed down to XGBoost core, or some parameter actually being used\n",
            "  but getting flagged wrongly here. Please open an issue if you find any such cases.\n",
            "\n",
            "\n"
          ]
        },
        {
          "name": "stderr",
          "output_type": "stream",
          "text": [
            "C:\\Users\\huber\\AppData\\Local\\Packages\\PythonSoftwareFoundation.Python.3.9_qbz5n2kfra8p0\\LocalCache\\local-packages\\Python39\\site-packages\\xgboost\\core.py:90: UserWarning: ntree_limit is deprecated, use `iteration_range` or model slicing instead.\n",
            "  warnings.warn(\n"
          ]
        },
        {
          "name": "stdout",
          "output_type": "stream",
          "text": [
            "[08:03:53] WARNING: C:/Users/Administrator/workspace/xgboost-win64_release_1.6.0/src/learner.cc:627: \n",
            "Parameters: { \"early_stopping_rounds\", \"lambdaX\", \"num_boost_round\", \"rate_drop\", \"silent\", \"skip_drop\" } might not be used.\n",
            "\n",
            "  This could be a false alarm, with some parameters getting used by language bindings but\n",
            "  then being mistakenly passed down to XGBoost core, or some parameter actually being used\n",
            "  but getting flagged wrongly here. Please open an issue if you find any such cases.\n",
            "\n",
            "\n"
          ]
        },
        {
          "name": "stderr",
          "output_type": "stream",
          "text": [
            "C:\\Users\\huber\\AppData\\Local\\Packages\\PythonSoftwareFoundation.Python.3.9_qbz5n2kfra8p0\\LocalCache\\local-packages\\Python39\\site-packages\\xgboost\\core.py:90: UserWarning: ntree_limit is deprecated, use `iteration_range` or model slicing instead.\n",
            "  warnings.warn(\n"
          ]
        },
        {
          "name": "stdout",
          "output_type": "stream",
          "text": [
            "0.8948311392615544 (8, 0.2703792143310071, 0.7451194004294173, 8.377702000430276, 8.001384864721459)\n",
            "[08:04:00] WARNING: C:/Users/Administrator/workspace/xgboost-win64_release_1.6.0/src/learner.cc:627: \n",
            "Parameters: { \"early_stopping_rounds\", \"lambdaX\", \"num_boost_round\", \"rate_drop\", \"silent\", \"skip_drop\" } might not be used.\n",
            "\n",
            "  This could be a false alarm, with some parameters getting used by language bindings but\n",
            "  then being mistakenly passed down to XGBoost core, or some parameter actually being used\n",
            "  but getting flagged wrongly here. Please open an issue if you find any such cases.\n",
            "\n",
            "\n"
          ]
        },
        {
          "name": "stderr",
          "output_type": "stream",
          "text": [
            "C:\\Users\\huber\\AppData\\Local\\Packages\\PythonSoftwareFoundation.Python.3.9_qbz5n2kfra8p0\\LocalCache\\local-packages\\Python39\\site-packages\\xgboost\\core.py:90: UserWarning: ntree_limit is deprecated, use `iteration_range` or model slicing instead.\n",
            "  warnings.warn(\n"
          ]
        },
        {
          "name": "stdout",
          "output_type": "stream",
          "text": [
            "[08:04:06] WARNING: C:/Users/Administrator/workspace/xgboost-win64_release_1.6.0/src/learner.cc:627: \n",
            "Parameters: { \"early_stopping_rounds\", \"lambdaX\", \"num_boost_round\", \"rate_drop\", \"silent\", \"skip_drop\" } might not be used.\n",
            "\n",
            "  This could be a false alarm, with some parameters getting used by language bindings but\n",
            "  then being mistakenly passed down to XGBoost core, or some parameter actually being used\n",
            "  but getting flagged wrongly here. Please open an issue if you find any such cases.\n",
            "\n",
            "\n"
          ]
        },
        {
          "name": "stderr",
          "output_type": "stream",
          "text": [
            "C:\\Users\\huber\\AppData\\Local\\Packages\\PythonSoftwareFoundation.Python.3.9_qbz5n2kfra8p0\\LocalCache\\local-packages\\Python39\\site-packages\\xgboost\\core.py:90: UserWarning: ntree_limit is deprecated, use `iteration_range` or model slicing instead.\n",
            "  warnings.warn(\n"
          ]
        },
        {
          "name": "stdout",
          "output_type": "stream",
          "text": [
            "[08:04:12] WARNING: C:/Users/Administrator/workspace/xgboost-win64_release_1.6.0/src/learner.cc:627: \n",
            "Parameters: { \"early_stopping_rounds\", \"lambdaX\", \"num_boost_round\", \"rate_drop\", \"silent\", \"skip_drop\" } might not be used.\n",
            "\n",
            "  This could be a false alarm, with some parameters getting used by language bindings but\n",
            "  then being mistakenly passed down to XGBoost core, or some parameter actually being used\n",
            "  but getting flagged wrongly here. Please open an issue if you find any such cases.\n",
            "\n",
            "\n"
          ]
        },
        {
          "name": "stderr",
          "output_type": "stream",
          "text": [
            "C:\\Users\\huber\\AppData\\Local\\Packages\\PythonSoftwareFoundation.Python.3.9_qbz5n2kfra8p0\\LocalCache\\local-packages\\Python39\\site-packages\\xgboost\\core.py:90: UserWarning: ntree_limit is deprecated, use `iteration_range` or model slicing instead.\n",
            "  warnings.warn(\n"
          ]
        },
        {
          "name": "stdout",
          "output_type": "stream",
          "text": [
            "[08:04:19] WARNING: C:/Users/Administrator/workspace/xgboost-win64_release_1.6.0/src/learner.cc:627: \n",
            "Parameters: { \"early_stopping_rounds\", \"lambdaX\", \"num_boost_round\", \"rate_drop\", \"silent\", \"skip_drop\" } might not be used.\n",
            "\n",
            "  This could be a false alarm, with some parameters getting used by language bindings but\n",
            "  then being mistakenly passed down to XGBoost core, or some parameter actually being used\n",
            "  but getting flagged wrongly here. Please open an issue if you find any such cases.\n",
            "\n",
            "\n"
          ]
        },
        {
          "name": "stderr",
          "output_type": "stream",
          "text": [
            "C:\\Users\\huber\\AppData\\Local\\Packages\\PythonSoftwareFoundation.Python.3.9_qbz5n2kfra8p0\\LocalCache\\local-packages\\Python39\\site-packages\\xgboost\\core.py:90: UserWarning: ntree_limit is deprecated, use `iteration_range` or model slicing instead.\n",
            "  warnings.warn(\n"
          ]
        },
        {
          "name": "stdout",
          "output_type": "stream",
          "text": [
            "[08:04:25] WARNING: C:/Users/Administrator/workspace/xgboost-win64_release_1.6.0/src/learner.cc:627: \n",
            "Parameters: { \"early_stopping_rounds\", \"lambdaX\", \"num_boost_round\", \"rate_drop\", \"silent\", \"skip_drop\" } might not be used.\n",
            "\n",
            "  This could be a false alarm, with some parameters getting used by language bindings but\n",
            "  then being mistakenly passed down to XGBoost core, or some parameter actually being used\n",
            "  but getting flagged wrongly here. Please open an issue if you find any such cases.\n",
            "\n",
            "\n"
          ]
        },
        {
          "name": "stderr",
          "output_type": "stream",
          "text": [
            "C:\\Users\\huber\\AppData\\Local\\Packages\\PythonSoftwareFoundation.Python.3.9_qbz5n2kfra8p0\\LocalCache\\local-packages\\Python39\\site-packages\\xgboost\\core.py:90: UserWarning: ntree_limit is deprecated, use `iteration_range` or model slicing instead.\n",
            "  warnings.warn(\n"
          ]
        },
        {
          "name": "stdout",
          "output_type": "stream",
          "text": [
            "0.8963330935294247 (6, 0.8744815329678934, 0.588593611418675, 2.172634062251878, 6.486298530724461)\n",
            "[08:04:31] WARNING: C:/Users/Administrator/workspace/xgboost-win64_release_1.6.0/src/learner.cc:627: \n",
            "Parameters: { \"early_stopping_rounds\", \"lambdaX\", \"num_boost_round\", \"rate_drop\", \"silent\", \"skip_drop\" } might not be used.\n",
            "\n",
            "  This could be a false alarm, with some parameters getting used by language bindings but\n",
            "  then being mistakenly passed down to XGBoost core, or some parameter actually being used\n",
            "  but getting flagged wrongly here. Please open an issue if you find any such cases.\n",
            "\n",
            "\n"
          ]
        },
        {
          "name": "stderr",
          "output_type": "stream",
          "text": [
            "C:\\Users\\huber\\AppData\\Local\\Packages\\PythonSoftwareFoundation.Python.3.9_qbz5n2kfra8p0\\LocalCache\\local-packages\\Python39\\site-packages\\xgboost\\core.py:90: UserWarning: ntree_limit is deprecated, use `iteration_range` or model slicing instead.\n",
            "  warnings.warn(\n"
          ]
        },
        {
          "name": "stdout",
          "output_type": "stream",
          "text": [
            "[08:04:37] WARNING: C:/Users/Administrator/workspace/xgboost-win64_release_1.6.0/src/learner.cc:627: \n",
            "Parameters: { \"early_stopping_rounds\", \"lambdaX\", \"num_boost_round\", \"rate_drop\", \"silent\", \"skip_drop\" } might not be used.\n",
            "\n",
            "  This could be a false alarm, with some parameters getting used by language bindings but\n",
            "  then being mistakenly passed down to XGBoost core, or some parameter actually being used\n",
            "  but getting flagged wrongly here. Please open an issue if you find any such cases.\n",
            "\n",
            "\n"
          ]
        },
        {
          "name": "stderr",
          "output_type": "stream",
          "text": [
            "C:\\Users\\huber\\AppData\\Local\\Packages\\PythonSoftwareFoundation.Python.3.9_qbz5n2kfra8p0\\LocalCache\\local-packages\\Python39\\site-packages\\xgboost\\core.py:90: UserWarning: ntree_limit is deprecated, use `iteration_range` or model slicing instead.\n",
            "  warnings.warn(\n"
          ]
        },
        {
          "name": "stdout",
          "output_type": "stream",
          "text": [
            "[08:04:43] WARNING: C:/Users/Administrator/workspace/xgboost-win64_release_1.6.0/src/learner.cc:627: \n",
            "Parameters: { \"early_stopping_rounds\", \"lambdaX\", \"num_boost_round\", \"rate_drop\", \"silent\", \"skip_drop\" } might not be used.\n",
            "\n",
            "  This could be a false alarm, with some parameters getting used by language bindings but\n",
            "  then being mistakenly passed down to XGBoost core, or some parameter actually being used\n",
            "  but getting flagged wrongly here. Please open an issue if you find any such cases.\n",
            "\n",
            "\n"
          ]
        },
        {
          "name": "stderr",
          "output_type": "stream",
          "text": [
            "C:\\Users\\huber\\AppData\\Local\\Packages\\PythonSoftwareFoundation.Python.3.9_qbz5n2kfra8p0\\LocalCache\\local-packages\\Python39\\site-packages\\xgboost\\core.py:90: UserWarning: ntree_limit is deprecated, use `iteration_range` or model slicing instead.\n",
            "  warnings.warn(\n"
          ]
        },
        {
          "name": "stdout",
          "output_type": "stream",
          "text": [
            "[08:04:50] WARNING: C:/Users/Administrator/workspace/xgboost-win64_release_1.6.0/src/learner.cc:627: \n",
            "Parameters: { \"early_stopping_rounds\", \"lambdaX\", \"num_boost_round\", \"rate_drop\", \"silent\", \"skip_drop\" } might not be used.\n",
            "\n",
            "  This could be a false alarm, with some parameters getting used by language bindings but\n",
            "  then being mistakenly passed down to XGBoost core, or some parameter actually being used\n",
            "  but getting flagged wrongly here. Please open an issue if you find any such cases.\n",
            "\n",
            "\n"
          ]
        },
        {
          "name": "stderr",
          "output_type": "stream",
          "text": [
            "C:\\Users\\huber\\AppData\\Local\\Packages\\PythonSoftwareFoundation.Python.3.9_qbz5n2kfra8p0\\LocalCache\\local-packages\\Python39\\site-packages\\xgboost\\core.py:90: UserWarning: ntree_limit is deprecated, use `iteration_range` or model slicing instead.\n",
            "  warnings.warn(\n"
          ]
        },
        {
          "name": "stdout",
          "output_type": "stream",
          "text": [
            "[08:04:58] WARNING: C:/Users/Administrator/workspace/xgboost-win64_release_1.6.0/src/learner.cc:627: \n",
            "Parameters: { \"early_stopping_rounds\", \"lambdaX\", \"num_boost_round\", \"rate_drop\", \"silent\", \"skip_drop\" } might not be used.\n",
            "\n",
            "  This could be a false alarm, with some parameters getting used by language bindings but\n",
            "  then being mistakenly passed down to XGBoost core, or some parameter actually being used\n",
            "  but getting flagged wrongly here. Please open an issue if you find any such cases.\n",
            "\n",
            "\n"
          ]
        },
        {
          "name": "stderr",
          "output_type": "stream",
          "text": [
            "C:\\Users\\huber\\AppData\\Local\\Packages\\PythonSoftwareFoundation.Python.3.9_qbz5n2kfra8p0\\LocalCache\\local-packages\\Python39\\site-packages\\xgboost\\core.py:90: UserWarning: ntree_limit is deprecated, use `iteration_range` or model slicing instead.\n",
            "  warnings.warn(\n"
          ]
        },
        {
          "name": "stdout",
          "output_type": "stream",
          "text": [
            "0.8943279403161559 (9, 0.548615228248261, 0.470901785504241, 0.5299383873260177, 9.782641001233722)\n",
            "[08:05:04] WARNING: C:/Users/Administrator/workspace/xgboost-win64_release_1.6.0/src/learner.cc:627: \n",
            "Parameters: { \"early_stopping_rounds\", \"lambdaX\", \"num_boost_round\", \"rate_drop\", \"silent\", \"skip_drop\" } might not be used.\n",
            "\n",
            "  This could be a false alarm, with some parameters getting used by language bindings but\n",
            "  then being mistakenly passed down to XGBoost core, or some parameter actually being used\n",
            "  but getting flagged wrongly here. Please open an issue if you find any such cases.\n",
            "\n",
            "\n"
          ]
        },
        {
          "name": "stderr",
          "output_type": "stream",
          "text": [
            "C:\\Users\\huber\\AppData\\Local\\Packages\\PythonSoftwareFoundation.Python.3.9_qbz5n2kfra8p0\\LocalCache\\local-packages\\Python39\\site-packages\\xgboost\\core.py:90: UserWarning: ntree_limit is deprecated, use `iteration_range` or model slicing instead.\n",
            "  warnings.warn(\n"
          ]
        },
        {
          "name": "stdout",
          "output_type": "stream",
          "text": [
            "[08:05:10] WARNING: C:/Users/Administrator/workspace/xgboost-win64_release_1.6.0/src/learner.cc:627: \n",
            "Parameters: { \"early_stopping_rounds\", \"lambdaX\", \"num_boost_round\", \"rate_drop\", \"silent\", \"skip_drop\" } might not be used.\n",
            "\n",
            "  This could be a false alarm, with some parameters getting used by language bindings but\n",
            "  then being mistakenly passed down to XGBoost core, or some parameter actually being used\n",
            "  but getting flagged wrongly here. Please open an issue if you find any such cases.\n",
            "\n",
            "\n"
          ]
        },
        {
          "name": "stderr",
          "output_type": "stream",
          "text": [
            "C:\\Users\\huber\\AppData\\Local\\Packages\\PythonSoftwareFoundation.Python.3.9_qbz5n2kfra8p0\\LocalCache\\local-packages\\Python39\\site-packages\\xgboost\\core.py:90: UserWarning: ntree_limit is deprecated, use `iteration_range` or model slicing instead.\n",
            "  warnings.warn(\n"
          ]
        },
        {
          "name": "stdout",
          "output_type": "stream",
          "text": [
            "[08:05:16] WARNING: C:/Users/Administrator/workspace/xgboost-win64_release_1.6.0/src/learner.cc:627: \n",
            "Parameters: { \"early_stopping_rounds\", \"lambdaX\", \"num_boost_round\", \"rate_drop\", \"silent\", \"skip_drop\" } might not be used.\n",
            "\n",
            "  This could be a false alarm, with some parameters getting used by language bindings but\n",
            "  then being mistakenly passed down to XGBoost core, or some parameter actually being used\n",
            "  but getting flagged wrongly here. Please open an issue if you find any such cases.\n",
            "\n",
            "\n"
          ]
        },
        {
          "name": "stderr",
          "output_type": "stream",
          "text": [
            "C:\\Users\\huber\\AppData\\Local\\Packages\\PythonSoftwareFoundation.Python.3.9_qbz5n2kfra8p0\\LocalCache\\local-packages\\Python39\\site-packages\\xgboost\\core.py:90: UserWarning: ntree_limit is deprecated, use `iteration_range` or model slicing instead.\n",
            "  warnings.warn(\n"
          ]
        },
        {
          "name": "stdout",
          "output_type": "stream",
          "text": [
            "[08:05:22] WARNING: C:/Users/Administrator/workspace/xgboost-win64_release_1.6.0/src/learner.cc:627: \n",
            "Parameters: { \"early_stopping_rounds\", \"lambdaX\", \"num_boost_round\", \"rate_drop\", \"silent\", \"skip_drop\" } might not be used.\n",
            "\n",
            "  This could be a false alarm, with some parameters getting used by language bindings but\n",
            "  then being mistakenly passed down to XGBoost core, or some parameter actually being used\n",
            "  but getting flagged wrongly here. Please open an issue if you find any such cases.\n",
            "\n",
            "\n"
          ]
        },
        {
          "name": "stderr",
          "output_type": "stream",
          "text": [
            "C:\\Users\\huber\\AppData\\Local\\Packages\\PythonSoftwareFoundation.Python.3.9_qbz5n2kfra8p0\\LocalCache\\local-packages\\Python39\\site-packages\\xgboost\\core.py:90: UserWarning: ntree_limit is deprecated, use `iteration_range` or model slicing instead.\n",
            "  warnings.warn(\n"
          ]
        },
        {
          "name": "stdout",
          "output_type": "stream",
          "text": [
            "[08:05:28] WARNING: C:/Users/Administrator/workspace/xgboost-win64_release_1.6.0/src/learner.cc:627: \n",
            "Parameters: { \"early_stopping_rounds\", \"lambdaX\", \"num_boost_round\", \"rate_drop\", \"silent\", \"skip_drop\" } might not be used.\n",
            "\n",
            "  This could be a false alarm, with some parameters getting used by language bindings but\n",
            "  then being mistakenly passed down to XGBoost core, or some parameter actually being used\n",
            "  but getting flagged wrongly here. Please open an issue if you find any such cases.\n",
            "\n",
            "\n"
          ]
        },
        {
          "name": "stderr",
          "output_type": "stream",
          "text": [
            "C:\\Users\\huber\\AppData\\Local\\Packages\\PythonSoftwareFoundation.Python.3.9_qbz5n2kfra8p0\\LocalCache\\local-packages\\Python39\\site-packages\\xgboost\\core.py:90: UserWarning: ntree_limit is deprecated, use `iteration_range` or model slicing instead.\n",
            "  warnings.warn(\n"
          ]
        },
        {
          "name": "stdout",
          "output_type": "stream",
          "text": [
            "0.894717880846513 (7, 0.7459622389934791, 0.47668104542531553, 7.614865979496993, 8.52051594203122)\n",
            "[08:05:35] WARNING: C:/Users/Administrator/workspace/xgboost-win64_release_1.6.0/src/learner.cc:627: \n",
            "Parameters: { \"early_stopping_rounds\", \"lambdaX\", \"num_boost_round\", \"rate_drop\", \"silent\", \"skip_drop\" } might not be used.\n",
            "\n",
            "  This could be a false alarm, with some parameters getting used by language bindings but\n",
            "  then being mistakenly passed down to XGBoost core, or some parameter actually being used\n",
            "  but getting flagged wrongly here. Please open an issue if you find any such cases.\n",
            "\n",
            "\n"
          ]
        },
        {
          "name": "stderr",
          "output_type": "stream",
          "text": [
            "C:\\Users\\huber\\AppData\\Local\\Packages\\PythonSoftwareFoundation.Python.3.9_qbz5n2kfra8p0\\LocalCache\\local-packages\\Python39\\site-packages\\xgboost\\core.py:90: UserWarning: ntree_limit is deprecated, use `iteration_range` or model slicing instead.\n",
            "  warnings.warn(\n"
          ]
        },
        {
          "name": "stdout",
          "output_type": "stream",
          "text": [
            "[08:05:40] WARNING: C:/Users/Administrator/workspace/xgboost-win64_release_1.6.0/src/learner.cc:627: \n",
            "Parameters: { \"early_stopping_rounds\", \"lambdaX\", \"num_boost_round\", \"rate_drop\", \"silent\", \"skip_drop\" } might not be used.\n",
            "\n",
            "  This could be a false alarm, with some parameters getting used by language bindings but\n",
            "  then being mistakenly passed down to XGBoost core, or some parameter actually being used\n",
            "  but getting flagged wrongly here. Please open an issue if you find any such cases.\n",
            "\n",
            "\n"
          ]
        },
        {
          "name": "stderr",
          "output_type": "stream",
          "text": [
            "C:\\Users\\huber\\AppData\\Local\\Packages\\PythonSoftwareFoundation.Python.3.9_qbz5n2kfra8p0\\LocalCache\\local-packages\\Python39\\site-packages\\xgboost\\core.py:90: UserWarning: ntree_limit is deprecated, use `iteration_range` or model slicing instead.\n",
            "  warnings.warn(\n"
          ]
        },
        {
          "name": "stdout",
          "output_type": "stream",
          "text": [
            "[08:05:45] WARNING: C:/Users/Administrator/workspace/xgboost-win64_release_1.6.0/src/learner.cc:627: \n",
            "Parameters: { \"early_stopping_rounds\", \"lambdaX\", \"num_boost_round\", \"rate_drop\", \"silent\", \"skip_drop\" } might not be used.\n",
            "\n",
            "  This could be a false alarm, with some parameters getting used by language bindings but\n",
            "  then being mistakenly passed down to XGBoost core, or some parameter actually being used\n",
            "  but getting flagged wrongly here. Please open an issue if you find any such cases.\n",
            "\n",
            "\n"
          ]
        },
        {
          "name": "stderr",
          "output_type": "stream",
          "text": [
            "C:\\Users\\huber\\AppData\\Local\\Packages\\PythonSoftwareFoundation.Python.3.9_qbz5n2kfra8p0\\LocalCache\\local-packages\\Python39\\site-packages\\xgboost\\core.py:90: UserWarning: ntree_limit is deprecated, use `iteration_range` or model slicing instead.\n",
            "  warnings.warn(\n"
          ]
        },
        {
          "name": "stdout",
          "output_type": "stream",
          "text": [
            "[08:05:50] WARNING: C:/Users/Administrator/workspace/xgboost-win64_release_1.6.0/src/learner.cc:627: \n",
            "Parameters: { \"early_stopping_rounds\", \"lambdaX\", \"num_boost_round\", \"rate_drop\", \"silent\", \"skip_drop\" } might not be used.\n",
            "\n",
            "  This could be a false alarm, with some parameters getting used by language bindings but\n",
            "  then being mistakenly passed down to XGBoost core, or some parameter actually being used\n",
            "  but getting flagged wrongly here. Please open an issue if you find any such cases.\n",
            "\n",
            "\n"
          ]
        },
        {
          "name": "stderr",
          "output_type": "stream",
          "text": [
            "C:\\Users\\huber\\AppData\\Local\\Packages\\PythonSoftwareFoundation.Python.3.9_qbz5n2kfra8p0\\LocalCache\\local-packages\\Python39\\site-packages\\xgboost\\core.py:90: UserWarning: ntree_limit is deprecated, use `iteration_range` or model slicing instead.\n",
            "  warnings.warn(\n"
          ]
        },
        {
          "name": "stdout",
          "output_type": "stream",
          "text": [
            "[08:05:55] WARNING: C:/Users/Administrator/workspace/xgboost-win64_release_1.6.0/src/learner.cc:627: \n",
            "Parameters: { \"early_stopping_rounds\", \"lambdaX\", \"num_boost_round\", \"rate_drop\", \"silent\", \"skip_drop\" } might not be used.\n",
            "\n",
            "  This could be a false alarm, with some parameters getting used by language bindings but\n",
            "  then being mistakenly passed down to XGBoost core, or some parameter actually being used\n",
            "  but getting flagged wrongly here. Please open an issue if you find any such cases.\n",
            "\n",
            "\n"
          ]
        },
        {
          "name": "stderr",
          "output_type": "stream",
          "text": [
            "C:\\Users\\huber\\AppData\\Local\\Packages\\PythonSoftwareFoundation.Python.3.9_qbz5n2kfra8p0\\LocalCache\\local-packages\\Python39\\site-packages\\xgboost\\core.py:90: UserWarning: ntree_limit is deprecated, use `iteration_range` or model slicing instead.\n",
            "  warnings.warn(\n"
          ]
        },
        {
          "name": "stdout",
          "output_type": "stream",
          "text": [
            "0.8838131897143204 (9, 0.11881090822912999, 0.4505272947418628, 9.733167021365377, 9.622058424234421)\n",
            "[08:06:00] WARNING: C:/Users/Administrator/workspace/xgboost-win64_release_1.6.0/src/learner.cc:627: \n",
            "Parameters: { \"early_stopping_rounds\", \"lambdaX\", \"num_boost_round\", \"rate_drop\", \"silent\", \"skip_drop\" } might not be used.\n",
            "\n",
            "  This could be a false alarm, with some parameters getting used by language bindings but\n",
            "  then being mistakenly passed down to XGBoost core, or some parameter actually being used\n",
            "  but getting flagged wrongly here. Please open an issue if you find any such cases.\n",
            "\n",
            "\n"
          ]
        },
        {
          "name": "stderr",
          "output_type": "stream",
          "text": [
            "C:\\Users\\huber\\AppData\\Local\\Packages\\PythonSoftwareFoundation.Python.3.9_qbz5n2kfra8p0\\LocalCache\\local-packages\\Python39\\site-packages\\xgboost\\core.py:90: UserWarning: ntree_limit is deprecated, use `iteration_range` or model slicing instead.\n",
            "  warnings.warn(\n"
          ]
        },
        {
          "name": "stdout",
          "output_type": "stream",
          "text": [
            "[08:06:12] WARNING: C:/Users/Administrator/workspace/xgboost-win64_release_1.6.0/src/learner.cc:627: \n",
            "Parameters: { \"early_stopping_rounds\", \"lambdaX\", \"num_boost_round\", \"rate_drop\", \"silent\", \"skip_drop\" } might not be used.\n",
            "\n",
            "  This could be a false alarm, with some parameters getting used by language bindings but\n",
            "  then being mistakenly passed down to XGBoost core, or some parameter actually being used\n",
            "  but getting flagged wrongly here. Please open an issue if you find any such cases.\n",
            "\n",
            "\n"
          ]
        },
        {
          "name": "stderr",
          "output_type": "stream",
          "text": [
            "C:\\Users\\huber\\AppData\\Local\\Packages\\PythonSoftwareFoundation.Python.3.9_qbz5n2kfra8p0\\LocalCache\\local-packages\\Python39\\site-packages\\xgboost\\core.py:90: UserWarning: ntree_limit is deprecated, use `iteration_range` or model slicing instead.\n",
            "  warnings.warn(\n"
          ]
        },
        {
          "name": "stdout",
          "output_type": "stream",
          "text": [
            "[08:06:25] WARNING: C:/Users/Administrator/workspace/xgboost-win64_release_1.6.0/src/learner.cc:627: \n",
            "Parameters: { \"early_stopping_rounds\", \"lambdaX\", \"num_boost_round\", \"rate_drop\", \"silent\", \"skip_drop\" } might not be used.\n",
            "\n",
            "  This could be a false alarm, with some parameters getting used by language bindings but\n",
            "  then being mistakenly passed down to XGBoost core, or some parameter actually being used\n",
            "  but getting flagged wrongly here. Please open an issue if you find any such cases.\n",
            "\n",
            "\n"
          ]
        },
        {
          "name": "stderr",
          "output_type": "stream",
          "text": [
            "C:\\Users\\huber\\AppData\\Local\\Packages\\PythonSoftwareFoundation.Python.3.9_qbz5n2kfra8p0\\LocalCache\\local-packages\\Python39\\site-packages\\xgboost\\core.py:90: UserWarning: ntree_limit is deprecated, use `iteration_range` or model slicing instead.\n",
            "  warnings.warn(\n"
          ]
        },
        {
          "name": "stdout",
          "output_type": "stream",
          "text": [
            "[08:06:37] WARNING: C:/Users/Administrator/workspace/xgboost-win64_release_1.6.0/src/learner.cc:627: \n",
            "Parameters: { \"early_stopping_rounds\", \"lambdaX\", \"num_boost_round\", \"rate_drop\", \"silent\", \"skip_drop\" } might not be used.\n",
            "\n",
            "  This could be a false alarm, with some parameters getting used by language bindings but\n",
            "  then being mistakenly passed down to XGBoost core, or some parameter actually being used\n",
            "  but getting flagged wrongly here. Please open an issue if you find any such cases.\n",
            "\n",
            "\n"
          ]
        },
        {
          "name": "stderr",
          "output_type": "stream",
          "text": [
            "C:\\Users\\huber\\AppData\\Local\\Packages\\PythonSoftwareFoundation.Python.3.9_qbz5n2kfra8p0\\LocalCache\\local-packages\\Python39\\site-packages\\xgboost\\core.py:90: UserWarning: ntree_limit is deprecated, use `iteration_range` or model slicing instead.\n",
            "  warnings.warn(\n"
          ]
        },
        {
          "name": "stdout",
          "output_type": "stream",
          "text": [
            "[08:06:49] WARNING: C:/Users/Administrator/workspace/xgboost-win64_release_1.6.0/src/learner.cc:627: \n",
            "Parameters: { \"early_stopping_rounds\", \"lambdaX\", \"num_boost_round\", \"rate_drop\", \"silent\", \"skip_drop\" } might not be used.\n",
            "\n",
            "  This could be a false alarm, with some parameters getting used by language bindings but\n",
            "  then being mistakenly passed down to XGBoost core, or some parameter actually being used\n",
            "  but getting flagged wrongly here. Please open an issue if you find any such cases.\n",
            "\n",
            "\n"
          ]
        },
        {
          "name": "stderr",
          "output_type": "stream",
          "text": [
            "C:\\Users\\huber\\AppData\\Local\\Packages\\PythonSoftwareFoundation.Python.3.9_qbz5n2kfra8p0\\LocalCache\\local-packages\\Python39\\site-packages\\xgboost\\core.py:90: UserWarning: ntree_limit is deprecated, use `iteration_range` or model slicing instead.\n",
            "  warnings.warn(\n"
          ]
        },
        {
          "name": "stdout",
          "output_type": "stream",
          "text": [
            "0.9051317810629911 (6, 0.7772703562895031, 0.7366965091252163, 6.204082513808489, 0.6326308390564828)\n",
            "[08:07:02] WARNING: C:/Users/Administrator/workspace/xgboost-win64_release_1.6.0/src/learner.cc:627: \n",
            "Parameters: { \"early_stopping_rounds\", \"lambdaX\", \"num_boost_round\", \"rate_drop\", \"silent\", \"skip_drop\" } might not be used.\n",
            "\n",
            "  This could be a false alarm, with some parameters getting used by language bindings but\n",
            "  then being mistakenly passed down to XGBoost core, or some parameter actually being used\n",
            "  but getting flagged wrongly here. Please open an issue if you find any such cases.\n",
            "\n",
            "\n"
          ]
        },
        {
          "name": "stderr",
          "output_type": "stream",
          "text": [
            "C:\\Users\\huber\\AppData\\Local\\Packages\\PythonSoftwareFoundation.Python.3.9_qbz5n2kfra8p0\\LocalCache\\local-packages\\Python39\\site-packages\\xgboost\\core.py:90: UserWarning: ntree_limit is deprecated, use `iteration_range` or model slicing instead.\n",
            "  warnings.warn(\n"
          ]
        },
        {
          "name": "stdout",
          "output_type": "stream",
          "text": [
            "[08:07:15] WARNING: C:/Users/Administrator/workspace/xgboost-win64_release_1.6.0/src/learner.cc:627: \n",
            "Parameters: { \"early_stopping_rounds\", \"lambdaX\", \"num_boost_round\", \"rate_drop\", \"silent\", \"skip_drop\" } might not be used.\n",
            "\n",
            "  This could be a false alarm, with some parameters getting used by language bindings but\n",
            "  then being mistakenly passed down to XGBoost core, or some parameter actually being used\n",
            "  but getting flagged wrongly here. Please open an issue if you find any such cases.\n",
            "\n",
            "\n"
          ]
        },
        {
          "name": "stderr",
          "output_type": "stream",
          "text": [
            "C:\\Users\\huber\\AppData\\Local\\Packages\\PythonSoftwareFoundation.Python.3.9_qbz5n2kfra8p0\\LocalCache\\local-packages\\Python39\\site-packages\\xgboost\\core.py:90: UserWarning: ntree_limit is deprecated, use `iteration_range` or model slicing instead.\n",
            "  warnings.warn(\n"
          ]
        },
        {
          "name": "stdout",
          "output_type": "stream",
          "text": [
            "[08:07:28] WARNING: C:/Users/Administrator/workspace/xgboost-win64_release_1.6.0/src/learner.cc:627: \n",
            "Parameters: { \"early_stopping_rounds\", \"lambdaX\", \"num_boost_round\", \"rate_drop\", \"silent\", \"skip_drop\" } might not be used.\n",
            "\n",
            "  This could be a false alarm, with some parameters getting used by language bindings but\n",
            "  then being mistakenly passed down to XGBoost core, or some parameter actually being used\n",
            "  but getting flagged wrongly here. Please open an issue if you find any such cases.\n",
            "\n",
            "\n"
          ]
        },
        {
          "name": "stderr",
          "output_type": "stream",
          "text": [
            "C:\\Users\\huber\\AppData\\Local\\Packages\\PythonSoftwareFoundation.Python.3.9_qbz5n2kfra8p0\\LocalCache\\local-packages\\Python39\\site-packages\\xgboost\\core.py:90: UserWarning: ntree_limit is deprecated, use `iteration_range` or model slicing instead.\n",
            "  warnings.warn(\n"
          ]
        },
        {
          "name": "stdout",
          "output_type": "stream",
          "text": [
            "[08:07:41] WARNING: C:/Users/Administrator/workspace/xgboost-win64_release_1.6.0/src/learner.cc:627: \n",
            "Parameters: { \"early_stopping_rounds\", \"lambdaX\", \"num_boost_round\", \"rate_drop\", \"silent\", \"skip_drop\" } might not be used.\n",
            "\n",
            "  This could be a false alarm, with some parameters getting used by language bindings but\n",
            "  then being mistakenly passed down to XGBoost core, or some parameter actually being used\n",
            "  but getting flagged wrongly here. Please open an issue if you find any such cases.\n",
            "\n",
            "\n"
          ]
        },
        {
          "name": "stderr",
          "output_type": "stream",
          "text": [
            "C:\\Users\\huber\\AppData\\Local\\Packages\\PythonSoftwareFoundation.Python.3.9_qbz5n2kfra8p0\\LocalCache\\local-packages\\Python39\\site-packages\\xgboost\\core.py:90: UserWarning: ntree_limit is deprecated, use `iteration_range` or model slicing instead.\n",
            "  warnings.warn(\n"
          ]
        },
        {
          "name": "stdout",
          "output_type": "stream",
          "text": [
            "[08:07:54] WARNING: C:/Users/Administrator/workspace/xgboost-win64_release_1.6.0/src/learner.cc:627: \n",
            "Parameters: { \"early_stopping_rounds\", \"lambdaX\", \"num_boost_round\", \"rate_drop\", \"silent\", \"skip_drop\" } might not be used.\n",
            "\n",
            "  This could be a false alarm, with some parameters getting used by language bindings but\n",
            "  then being mistakenly passed down to XGBoost core, or some parameter actually being used\n",
            "  but getting flagged wrongly here. Please open an issue if you find any such cases.\n",
            "\n",
            "\n"
          ]
        },
        {
          "name": "stderr",
          "output_type": "stream",
          "text": [
            "C:\\Users\\huber\\AppData\\Local\\Packages\\PythonSoftwareFoundation.Python.3.9_qbz5n2kfra8p0\\LocalCache\\local-packages\\Python39\\site-packages\\xgboost\\core.py:90: UserWarning: ntree_limit is deprecated, use `iteration_range` or model slicing instead.\n",
            "  warnings.warn(\n"
          ]
        },
        {
          "name": "stdout",
          "output_type": "stream",
          "text": [
            "0.9046980410587718 (6, 0.5928373978928871, 0.5353283089081836, 5.936135381908806, 1.2635613282631086)\n",
            "[08:08:07] WARNING: C:/Users/Administrator/workspace/xgboost-win64_release_1.6.0/src/learner.cc:627: \n",
            "Parameters: { \"early_stopping_rounds\", \"lambdaX\", \"num_boost_round\", \"rate_drop\", \"silent\", \"skip_drop\" } might not be used.\n",
            "\n",
            "  This could be a false alarm, with some parameters getting used by language bindings but\n",
            "  then being mistakenly passed down to XGBoost core, or some parameter actually being used\n",
            "  but getting flagged wrongly here. Please open an issue if you find any such cases.\n",
            "\n",
            "\n"
          ]
        },
        {
          "name": "stderr",
          "output_type": "stream",
          "text": [
            "C:\\Users\\huber\\AppData\\Local\\Packages\\PythonSoftwareFoundation.Python.3.9_qbz5n2kfra8p0\\LocalCache\\local-packages\\Python39\\site-packages\\xgboost\\core.py:90: UserWarning: ntree_limit is deprecated, use `iteration_range` or model slicing instead.\n",
            "  warnings.warn(\n"
          ]
        },
        {
          "name": "stdout",
          "output_type": "stream",
          "text": [
            "[08:08:15] WARNING: C:/Users/Administrator/workspace/xgboost-win64_release_1.6.0/src/learner.cc:627: \n",
            "Parameters: { \"early_stopping_rounds\", \"lambdaX\", \"num_boost_round\", \"rate_drop\", \"silent\", \"skip_drop\" } might not be used.\n",
            "\n",
            "  This could be a false alarm, with some parameters getting used by language bindings but\n",
            "  then being mistakenly passed down to XGBoost core, or some parameter actually being used\n",
            "  but getting flagged wrongly here. Please open an issue if you find any such cases.\n",
            "\n",
            "\n"
          ]
        },
        {
          "name": "stderr",
          "output_type": "stream",
          "text": [
            "C:\\Users\\huber\\AppData\\Local\\Packages\\PythonSoftwareFoundation.Python.3.9_qbz5n2kfra8p0\\LocalCache\\local-packages\\Python39\\site-packages\\xgboost\\core.py:90: UserWarning: ntree_limit is deprecated, use `iteration_range` or model slicing instead.\n",
            "  warnings.warn(\n"
          ]
        },
        {
          "name": "stdout",
          "output_type": "stream",
          "text": [
            "[08:08:22] WARNING: C:/Users/Administrator/workspace/xgboost-win64_release_1.6.0/src/learner.cc:627: \n",
            "Parameters: { \"early_stopping_rounds\", \"lambdaX\", \"num_boost_round\", \"rate_drop\", \"silent\", \"skip_drop\" } might not be used.\n",
            "\n",
            "  This could be a false alarm, with some parameters getting used by language bindings but\n",
            "  then being mistakenly passed down to XGBoost core, or some parameter actually being used\n",
            "  but getting flagged wrongly here. Please open an issue if you find any such cases.\n",
            "\n",
            "\n"
          ]
        },
        {
          "name": "stderr",
          "output_type": "stream",
          "text": [
            "C:\\Users\\huber\\AppData\\Local\\Packages\\PythonSoftwareFoundation.Python.3.9_qbz5n2kfra8p0\\LocalCache\\local-packages\\Python39\\site-packages\\xgboost\\core.py:90: UserWarning: ntree_limit is deprecated, use `iteration_range` or model slicing instead.\n",
            "  warnings.warn(\n"
          ]
        },
        {
          "name": "stdout",
          "output_type": "stream",
          "text": [
            "[08:08:30] WARNING: C:/Users/Administrator/workspace/xgboost-win64_release_1.6.0/src/learner.cc:627: \n",
            "Parameters: { \"early_stopping_rounds\", \"lambdaX\", \"num_boost_round\", \"rate_drop\", \"silent\", \"skip_drop\" } might not be used.\n",
            "\n",
            "  This could be a false alarm, with some parameters getting used by language bindings but\n",
            "  then being mistakenly passed down to XGBoost core, or some parameter actually being used\n",
            "  but getting flagged wrongly here. Please open an issue if you find any such cases.\n",
            "\n",
            "\n"
          ]
        },
        {
          "name": "stderr",
          "output_type": "stream",
          "text": [
            "C:\\Users\\huber\\AppData\\Local\\Packages\\PythonSoftwareFoundation.Python.3.9_qbz5n2kfra8p0\\LocalCache\\local-packages\\Python39\\site-packages\\xgboost\\core.py:90: UserWarning: ntree_limit is deprecated, use `iteration_range` or model slicing instead.\n",
            "  warnings.warn(\n"
          ]
        },
        {
          "name": "stdout",
          "output_type": "stream",
          "text": [
            "[08:08:38] WARNING: C:/Users/Administrator/workspace/xgboost-win64_release_1.6.0/src/learner.cc:627: \n",
            "Parameters: { \"early_stopping_rounds\", \"lambdaX\", \"num_boost_round\", \"rate_drop\", \"silent\", \"skip_drop\" } might not be used.\n",
            "\n",
            "  This could be a false alarm, with some parameters getting used by language bindings but\n",
            "  then being mistakenly passed down to XGBoost core, or some parameter actually being used\n",
            "  but getting flagged wrongly here. Please open an issue if you find any such cases.\n",
            "\n",
            "\n"
          ]
        },
        {
          "name": "stderr",
          "output_type": "stream",
          "text": [
            "C:\\Users\\huber\\AppData\\Local\\Packages\\PythonSoftwareFoundation.Python.3.9_qbz5n2kfra8p0\\LocalCache\\local-packages\\Python39\\site-packages\\xgboost\\core.py:90: UserWarning: ntree_limit is deprecated, use `iteration_range` or model slicing instead.\n",
            "  warnings.warn(\n"
          ]
        },
        {
          "name": "stdout",
          "output_type": "stream",
          "text": [
            "0.8978594325679701 (6, 0.6004079284095801, 0.6328044325783042, 1.403023234922579, 6.897589203826048)\n",
            "[08:08:46] WARNING: C:/Users/Administrator/workspace/xgboost-win64_release_1.6.0/src/learner.cc:627: \n",
            "Parameters: { \"early_stopping_rounds\", \"lambdaX\", \"num_boost_round\", \"rate_drop\", \"silent\", \"skip_drop\" } might not be used.\n",
            "\n",
            "  This could be a false alarm, with some parameters getting used by language bindings but\n",
            "  then being mistakenly passed down to XGBoost core, or some parameter actually being used\n",
            "  but getting flagged wrongly here. Please open an issue if you find any such cases.\n",
            "\n",
            "\n"
          ]
        },
        {
          "name": "stderr",
          "output_type": "stream",
          "text": [
            "C:\\Users\\huber\\AppData\\Local\\Packages\\PythonSoftwareFoundation.Python.3.9_qbz5n2kfra8p0\\LocalCache\\local-packages\\Python39\\site-packages\\xgboost\\core.py:90: UserWarning: ntree_limit is deprecated, use `iteration_range` or model slicing instead.\n",
            "  warnings.warn(\n"
          ]
        },
        {
          "name": "stdout",
          "output_type": "stream",
          "text": [
            "[08:08:53] WARNING: C:/Users/Administrator/workspace/xgboost-win64_release_1.6.0/src/learner.cc:627: \n",
            "Parameters: { \"early_stopping_rounds\", \"lambdaX\", \"num_boost_round\", \"rate_drop\", \"silent\", \"skip_drop\" } might not be used.\n",
            "\n",
            "  This could be a false alarm, with some parameters getting used by language bindings but\n",
            "  then being mistakenly passed down to XGBoost core, or some parameter actually being used\n",
            "  but getting flagged wrongly here. Please open an issue if you find any such cases.\n",
            "\n",
            "\n"
          ]
        },
        {
          "name": "stderr",
          "output_type": "stream",
          "text": [
            "C:\\Users\\huber\\AppData\\Local\\Packages\\PythonSoftwareFoundation.Python.3.9_qbz5n2kfra8p0\\LocalCache\\local-packages\\Python39\\site-packages\\xgboost\\core.py:90: UserWarning: ntree_limit is deprecated, use `iteration_range` or model slicing instead.\n",
            "  warnings.warn(\n"
          ]
        },
        {
          "name": "stdout",
          "output_type": "stream",
          "text": [
            "[08:09:00] WARNING: C:/Users/Administrator/workspace/xgboost-win64_release_1.6.0/src/learner.cc:627: \n",
            "Parameters: { \"early_stopping_rounds\", \"lambdaX\", \"num_boost_round\", \"rate_drop\", \"silent\", \"skip_drop\" } might not be used.\n",
            "\n",
            "  This could be a false alarm, with some parameters getting used by language bindings but\n",
            "  then being mistakenly passed down to XGBoost core, or some parameter actually being used\n",
            "  but getting flagged wrongly here. Please open an issue if you find any such cases.\n",
            "\n",
            "\n"
          ]
        },
        {
          "name": "stderr",
          "output_type": "stream",
          "text": [
            "C:\\Users\\huber\\AppData\\Local\\Packages\\PythonSoftwareFoundation.Python.3.9_qbz5n2kfra8p0\\LocalCache\\local-packages\\Python39\\site-packages\\xgboost\\core.py:90: UserWarning: ntree_limit is deprecated, use `iteration_range` or model slicing instead.\n",
            "  warnings.warn(\n"
          ]
        },
        {
          "name": "stdout",
          "output_type": "stream",
          "text": [
            "[08:09:07] WARNING: C:/Users/Administrator/workspace/xgboost-win64_release_1.6.0/src/learner.cc:627: \n",
            "Parameters: { \"early_stopping_rounds\", \"lambdaX\", \"num_boost_round\", \"rate_drop\", \"silent\", \"skip_drop\" } might not be used.\n",
            "\n",
            "  This could be a false alarm, with some parameters getting used by language bindings but\n",
            "  then being mistakenly passed down to XGBoost core, or some parameter actually being used\n",
            "  but getting flagged wrongly here. Please open an issue if you find any such cases.\n",
            "\n",
            "\n"
          ]
        },
        {
          "name": "stderr",
          "output_type": "stream",
          "text": [
            "C:\\Users\\huber\\AppData\\Local\\Packages\\PythonSoftwareFoundation.Python.3.9_qbz5n2kfra8p0\\LocalCache\\local-packages\\Python39\\site-packages\\xgboost\\core.py:90: UserWarning: ntree_limit is deprecated, use `iteration_range` or model slicing instead.\n",
            "  warnings.warn(\n"
          ]
        },
        {
          "name": "stdout",
          "output_type": "stream",
          "text": [
            "[08:09:14] WARNING: C:/Users/Administrator/workspace/xgboost-win64_release_1.6.0/src/learner.cc:627: \n",
            "Parameters: { \"early_stopping_rounds\", \"lambdaX\", \"num_boost_round\", \"rate_drop\", \"silent\", \"skip_drop\" } might not be used.\n",
            "\n",
            "  This could be a false alarm, with some parameters getting used by language bindings but\n",
            "  then being mistakenly passed down to XGBoost core, or some parameter actually being used\n",
            "  but getting flagged wrongly here. Please open an issue if you find any such cases.\n",
            "\n",
            "\n"
          ]
        },
        {
          "name": "stderr",
          "output_type": "stream",
          "text": [
            "C:\\Users\\huber\\AppData\\Local\\Packages\\PythonSoftwareFoundation.Python.3.9_qbz5n2kfra8p0\\LocalCache\\local-packages\\Python39\\site-packages\\xgboost\\core.py:90: UserWarning: ntree_limit is deprecated, use `iteration_range` or model slicing instead.\n",
            "  warnings.warn(\n"
          ]
        },
        {
          "name": "stdout",
          "output_type": "stream",
          "text": [
            "0.8896911011721811 (6, 0.18011182972893974, 0.18175393783519356, 6.172808673719567, 4.798412490223495)\n",
            "[08:09:22] WARNING: C:/Users/Administrator/workspace/xgboost-win64_release_1.6.0/src/learner.cc:627: \n",
            "Parameters: { \"early_stopping_rounds\", \"lambdaX\", \"num_boost_round\", \"rate_drop\", \"silent\", \"skip_drop\" } might not be used.\n",
            "\n",
            "  This could be a false alarm, with some parameters getting used by language bindings but\n",
            "  then being mistakenly passed down to XGBoost core, or some parameter actually being used\n",
            "  but getting flagged wrongly here. Please open an issue if you find any such cases.\n",
            "\n",
            "\n"
          ]
        },
        {
          "name": "stderr",
          "output_type": "stream",
          "text": [
            "C:\\Users\\huber\\AppData\\Local\\Packages\\PythonSoftwareFoundation.Python.3.9_qbz5n2kfra8p0\\LocalCache\\local-packages\\Python39\\site-packages\\xgboost\\core.py:90: UserWarning: ntree_limit is deprecated, use `iteration_range` or model slicing instead.\n",
            "  warnings.warn(\n"
          ]
        },
        {
          "name": "stdout",
          "output_type": "stream",
          "text": [
            "[08:09:31] WARNING: C:/Users/Administrator/workspace/xgboost-win64_release_1.6.0/src/learner.cc:627: \n",
            "Parameters: { \"early_stopping_rounds\", \"lambdaX\", \"num_boost_round\", \"rate_drop\", \"silent\", \"skip_drop\" } might not be used.\n",
            "\n",
            "  This could be a false alarm, with some parameters getting used by language bindings but\n",
            "  then being mistakenly passed down to XGBoost core, or some parameter actually being used\n",
            "  but getting flagged wrongly here. Please open an issue if you find any such cases.\n",
            "\n",
            "\n"
          ]
        },
        {
          "name": "stderr",
          "output_type": "stream",
          "text": [
            "C:\\Users\\huber\\AppData\\Local\\Packages\\PythonSoftwareFoundation.Python.3.9_qbz5n2kfra8p0\\LocalCache\\local-packages\\Python39\\site-packages\\xgboost\\core.py:90: UserWarning: ntree_limit is deprecated, use `iteration_range` or model slicing instead.\n",
            "  warnings.warn(\n"
          ]
        },
        {
          "name": "stdout",
          "output_type": "stream",
          "text": [
            "[08:09:40] WARNING: C:/Users/Administrator/workspace/xgboost-win64_release_1.6.0/src/learner.cc:627: \n",
            "Parameters: { \"early_stopping_rounds\", \"lambdaX\", \"num_boost_round\", \"rate_drop\", \"silent\", \"skip_drop\" } might not be used.\n",
            "\n",
            "  This could be a false alarm, with some parameters getting used by language bindings but\n",
            "  then being mistakenly passed down to XGBoost core, or some parameter actually being used\n",
            "  but getting flagged wrongly here. Please open an issue if you find any such cases.\n",
            "\n",
            "\n"
          ]
        },
        {
          "name": "stderr",
          "output_type": "stream",
          "text": [
            "C:\\Users\\huber\\AppData\\Local\\Packages\\PythonSoftwareFoundation.Python.3.9_qbz5n2kfra8p0\\LocalCache\\local-packages\\Python39\\site-packages\\xgboost\\core.py:90: UserWarning: ntree_limit is deprecated, use `iteration_range` or model slicing instead.\n",
            "  warnings.warn(\n"
          ]
        },
        {
          "name": "stdout",
          "output_type": "stream",
          "text": [
            "[08:09:50] WARNING: C:/Users/Administrator/workspace/xgboost-win64_release_1.6.0/src/learner.cc:627: \n",
            "Parameters: { \"early_stopping_rounds\", \"lambdaX\", \"num_boost_round\", \"rate_drop\", \"silent\", \"skip_drop\" } might not be used.\n",
            "\n",
            "  This could be a false alarm, with some parameters getting used by language bindings but\n",
            "  then being mistakenly passed down to XGBoost core, or some parameter actually being used\n",
            "  but getting flagged wrongly here. Please open an issue if you find any such cases.\n",
            "\n",
            "\n"
          ]
        },
        {
          "name": "stderr",
          "output_type": "stream",
          "text": [
            "C:\\Users\\huber\\AppData\\Local\\Packages\\PythonSoftwareFoundation.Python.3.9_qbz5n2kfra8p0\\LocalCache\\local-packages\\Python39\\site-packages\\xgboost\\core.py:90: UserWarning: ntree_limit is deprecated, use `iteration_range` or model slicing instead.\n",
            "  warnings.warn(\n"
          ]
        },
        {
          "name": "stdout",
          "output_type": "stream",
          "text": [
            "[08:09:59] WARNING: C:/Users/Administrator/workspace/xgboost-win64_release_1.6.0/src/learner.cc:627: \n",
            "Parameters: { \"early_stopping_rounds\", \"lambdaX\", \"num_boost_round\", \"rate_drop\", \"silent\", \"skip_drop\" } might not be used.\n",
            "\n",
            "  This could be a false alarm, with some parameters getting used by language bindings but\n",
            "  then being mistakenly passed down to XGBoost core, or some parameter actually being used\n",
            "  but getting flagged wrongly here. Please open an issue if you find any such cases.\n",
            "\n",
            "\n"
          ]
        },
        {
          "name": "stderr",
          "output_type": "stream",
          "text": [
            "C:\\Users\\huber\\AppData\\Local\\Packages\\PythonSoftwareFoundation.Python.3.9_qbz5n2kfra8p0\\LocalCache\\local-packages\\Python39\\site-packages\\xgboost\\core.py:90: UserWarning: ntree_limit is deprecated, use `iteration_range` or model slicing instead.\n",
            "  warnings.warn(\n"
          ]
        },
        {
          "name": "stdout",
          "output_type": "stream",
          "text": [
            "0.8979587644870215 (8, 0.5848229294261846, 0.2802382396735549, 3.1877616843944634, 5.677706883622111)\n",
            "[08:10:09] WARNING: C:/Users/Administrator/workspace/xgboost-win64_release_1.6.0/src/learner.cc:627: \n",
            "Parameters: { \"early_stopping_rounds\", \"lambdaX\", \"num_boost_round\", \"rate_drop\", \"silent\", \"skip_drop\" } might not be used.\n",
            "\n",
            "  This could be a false alarm, with some parameters getting used by language bindings but\n",
            "  then being mistakenly passed down to XGBoost core, or some parameter actually being used\n",
            "  but getting flagged wrongly here. Please open an issue if you find any such cases.\n",
            "\n",
            "\n"
          ]
        },
        {
          "name": "stderr",
          "output_type": "stream",
          "text": [
            "C:\\Users\\huber\\AppData\\Local\\Packages\\PythonSoftwareFoundation.Python.3.9_qbz5n2kfra8p0\\LocalCache\\local-packages\\Python39\\site-packages\\xgboost\\core.py:90: UserWarning: ntree_limit is deprecated, use `iteration_range` or model slicing instead.\n",
            "  warnings.warn(\n"
          ]
        },
        {
          "name": "stdout",
          "output_type": "stream",
          "text": [
            "[08:10:15] WARNING: C:/Users/Administrator/workspace/xgboost-win64_release_1.6.0/src/learner.cc:627: \n",
            "Parameters: { \"early_stopping_rounds\", \"lambdaX\", \"num_boost_round\", \"rate_drop\", \"silent\", \"skip_drop\" } might not be used.\n",
            "\n",
            "  This could be a false alarm, with some parameters getting used by language bindings but\n",
            "  then being mistakenly passed down to XGBoost core, or some parameter actually being used\n",
            "  but getting flagged wrongly here. Please open an issue if you find any such cases.\n",
            "\n",
            "\n"
          ]
        },
        {
          "name": "stderr",
          "output_type": "stream",
          "text": [
            "C:\\Users\\huber\\AppData\\Local\\Packages\\PythonSoftwareFoundation.Python.3.9_qbz5n2kfra8p0\\LocalCache\\local-packages\\Python39\\site-packages\\xgboost\\core.py:90: UserWarning: ntree_limit is deprecated, use `iteration_range` or model slicing instead.\n",
            "  warnings.warn(\n"
          ]
        },
        {
          "name": "stdout",
          "output_type": "stream",
          "text": [
            "[08:10:21] WARNING: C:/Users/Administrator/workspace/xgboost-win64_release_1.6.0/src/learner.cc:627: \n",
            "Parameters: { \"early_stopping_rounds\", \"lambdaX\", \"num_boost_round\", \"rate_drop\", \"silent\", \"skip_drop\" } might not be used.\n",
            "\n",
            "  This could be a false alarm, with some parameters getting used by language bindings but\n",
            "  then being mistakenly passed down to XGBoost core, or some parameter actually being used\n",
            "  but getting flagged wrongly here. Please open an issue if you find any such cases.\n",
            "\n",
            "\n"
          ]
        },
        {
          "name": "stderr",
          "output_type": "stream",
          "text": [
            "C:\\Users\\huber\\AppData\\Local\\Packages\\PythonSoftwareFoundation.Python.3.9_qbz5n2kfra8p0\\LocalCache\\local-packages\\Python39\\site-packages\\xgboost\\core.py:90: UserWarning: ntree_limit is deprecated, use `iteration_range` or model slicing instead.\n",
            "  warnings.warn(\n"
          ]
        },
        {
          "name": "stdout",
          "output_type": "stream",
          "text": [
            "[08:10:27] WARNING: C:/Users/Administrator/workspace/xgboost-win64_release_1.6.0/src/learner.cc:627: \n",
            "Parameters: { \"early_stopping_rounds\", \"lambdaX\", \"num_boost_round\", \"rate_drop\", \"silent\", \"skip_drop\" } might not be used.\n",
            "\n",
            "  This could be a false alarm, with some parameters getting used by language bindings but\n",
            "  then being mistakenly passed down to XGBoost core, or some parameter actually being used\n",
            "  but getting flagged wrongly here. Please open an issue if you find any such cases.\n",
            "\n",
            "\n"
          ]
        },
        {
          "name": "stderr",
          "output_type": "stream",
          "text": [
            "C:\\Users\\huber\\AppData\\Local\\Packages\\PythonSoftwareFoundation.Python.3.9_qbz5n2kfra8p0\\LocalCache\\local-packages\\Python39\\site-packages\\xgboost\\core.py:90: UserWarning: ntree_limit is deprecated, use `iteration_range` or model slicing instead.\n",
            "  warnings.warn(\n"
          ]
        },
        {
          "name": "stdout",
          "output_type": "stream",
          "text": [
            "[08:10:33] WARNING: C:/Users/Administrator/workspace/xgboost-win64_release_1.6.0/src/learner.cc:627: \n",
            "Parameters: { \"early_stopping_rounds\", \"lambdaX\", \"num_boost_round\", \"rate_drop\", \"silent\", \"skip_drop\" } might not be used.\n",
            "\n",
            "  This could be a false alarm, with some parameters getting used by language bindings but\n",
            "  then being mistakenly passed down to XGBoost core, or some parameter actually being used\n",
            "  but getting flagged wrongly here. Please open an issue if you find any such cases.\n",
            "\n",
            "\n"
          ]
        },
        {
          "name": "stderr",
          "output_type": "stream",
          "text": [
            "C:\\Users\\huber\\AppData\\Local\\Packages\\PythonSoftwareFoundation.Python.3.9_qbz5n2kfra8p0\\LocalCache\\local-packages\\Python39\\site-packages\\xgboost\\core.py:90: UserWarning: ntree_limit is deprecated, use `iteration_range` or model slicing instead.\n",
            "  warnings.warn(\n"
          ]
        },
        {
          "name": "stdout",
          "output_type": "stream",
          "text": [
            "0.8901590684775152 (3, 0.5776292939767974, 0.6197576803572655, 9.369067524246388, 7.559149774813729)\n",
            "[08:10:39] WARNING: C:/Users/Administrator/workspace/xgboost-win64_release_1.6.0/src/learner.cc:627: \n",
            "Parameters: { \"early_stopping_rounds\", \"lambdaX\", \"num_boost_round\", \"rate_drop\", \"silent\", \"skip_drop\" } might not be used.\n",
            "\n",
            "  This could be a false alarm, with some parameters getting used by language bindings but\n",
            "  then being mistakenly passed down to XGBoost core, or some parameter actually being used\n",
            "  but getting flagged wrongly here. Please open an issue if you find any such cases.\n",
            "\n",
            "\n"
          ]
        },
        {
          "name": "stderr",
          "output_type": "stream",
          "text": [
            "C:\\Users\\huber\\AppData\\Local\\Packages\\PythonSoftwareFoundation.Python.3.9_qbz5n2kfra8p0\\LocalCache\\local-packages\\Python39\\site-packages\\xgboost\\core.py:90: UserWarning: ntree_limit is deprecated, use `iteration_range` or model slicing instead.\n",
            "  warnings.warn(\n"
          ]
        },
        {
          "name": "stdout",
          "output_type": "stream",
          "text": [
            "[08:10:58] WARNING: C:/Users/Administrator/workspace/xgboost-win64_release_1.6.0/src/learner.cc:627: \n",
            "Parameters: { \"early_stopping_rounds\", \"lambdaX\", \"num_boost_round\", \"rate_drop\", \"silent\", \"skip_drop\" } might not be used.\n",
            "\n",
            "  This could be a false alarm, with some parameters getting used by language bindings but\n",
            "  then being mistakenly passed down to XGBoost core, or some parameter actually being used\n",
            "  but getting flagged wrongly here. Please open an issue if you find any such cases.\n",
            "\n",
            "\n"
          ]
        },
        {
          "name": "stderr",
          "output_type": "stream",
          "text": [
            "C:\\Users\\huber\\AppData\\Local\\Packages\\PythonSoftwareFoundation.Python.3.9_qbz5n2kfra8p0\\LocalCache\\local-packages\\Python39\\site-packages\\xgboost\\core.py:90: UserWarning: ntree_limit is deprecated, use `iteration_range` or model slicing instead.\n",
            "  warnings.warn(\n"
          ]
        },
        {
          "name": "stdout",
          "output_type": "stream",
          "text": [
            "[08:11:17] WARNING: C:/Users/Administrator/workspace/xgboost-win64_release_1.6.0/src/learner.cc:627: \n",
            "Parameters: { \"early_stopping_rounds\", \"lambdaX\", \"num_boost_round\", \"rate_drop\", \"silent\", \"skip_drop\" } might not be used.\n",
            "\n",
            "  This could be a false alarm, with some parameters getting used by language bindings but\n",
            "  then being mistakenly passed down to XGBoost core, or some parameter actually being used\n",
            "  but getting flagged wrongly here. Please open an issue if you find any such cases.\n",
            "\n",
            "\n"
          ]
        },
        {
          "name": "stderr",
          "output_type": "stream",
          "text": [
            "C:\\Users\\huber\\AppData\\Local\\Packages\\PythonSoftwareFoundation.Python.3.9_qbz5n2kfra8p0\\LocalCache\\local-packages\\Python39\\site-packages\\xgboost\\core.py:90: UserWarning: ntree_limit is deprecated, use `iteration_range` or model slicing instead.\n",
            "  warnings.warn(\n"
          ]
        },
        {
          "name": "stdout",
          "output_type": "stream",
          "text": [
            "[08:11:36] WARNING: C:/Users/Administrator/workspace/xgboost-win64_release_1.6.0/src/learner.cc:627: \n",
            "Parameters: { \"early_stopping_rounds\", \"lambdaX\", \"num_boost_round\", \"rate_drop\", \"silent\", \"skip_drop\" } might not be used.\n",
            "\n",
            "  This could be a false alarm, with some parameters getting used by language bindings but\n",
            "  then being mistakenly passed down to XGBoost core, or some parameter actually being used\n",
            "  but getting flagged wrongly here. Please open an issue if you find any such cases.\n",
            "\n",
            "\n"
          ]
        },
        {
          "name": "stderr",
          "output_type": "stream",
          "text": [
            "C:\\Users\\huber\\AppData\\Local\\Packages\\PythonSoftwareFoundation.Python.3.9_qbz5n2kfra8p0\\LocalCache\\local-packages\\Python39\\site-packages\\xgboost\\core.py:90: UserWarning: ntree_limit is deprecated, use `iteration_range` or model slicing instead.\n",
            "  warnings.warn(\n"
          ]
        },
        {
          "name": "stdout",
          "output_type": "stream",
          "text": [
            "[08:11:55] WARNING: C:/Users/Administrator/workspace/xgboost-win64_release_1.6.0/src/learner.cc:627: \n",
            "Parameters: { \"early_stopping_rounds\", \"lambdaX\", \"num_boost_round\", \"rate_drop\", \"silent\", \"skip_drop\" } might not be used.\n",
            "\n",
            "  This could be a false alarm, with some parameters getting used by language bindings but\n",
            "  then being mistakenly passed down to XGBoost core, or some parameter actually being used\n",
            "  but getting flagged wrongly here. Please open an issue if you find any such cases.\n",
            "\n",
            "\n"
          ]
        },
        {
          "name": "stderr",
          "output_type": "stream",
          "text": [
            "C:\\Users\\huber\\AppData\\Local\\Packages\\PythonSoftwareFoundation.Python.3.9_qbz5n2kfra8p0\\LocalCache\\local-packages\\Python39\\site-packages\\xgboost\\core.py:90: UserWarning: ntree_limit is deprecated, use `iteration_range` or model slicing instead.\n",
            "  warnings.warn(\n"
          ]
        },
        {
          "name": "stdout",
          "output_type": "stream",
          "text": [
            "0.9061729516567528 (7, 0.4003839715137969, 0.6579974937444091, 6.270422338815809, 0.9758923959853338)\n",
            "[08:12:14] WARNING: C:/Users/Administrator/workspace/xgboost-win64_release_1.6.0/src/learner.cc:627: \n",
            "Parameters: { \"early_stopping_rounds\", \"lambdaX\", \"num_boost_round\", \"rate_drop\", \"silent\", \"skip_drop\" } might not be used.\n",
            "\n",
            "  This could be a false alarm, with some parameters getting used by language bindings but\n",
            "  then being mistakenly passed down to XGBoost core, or some parameter actually being used\n",
            "  but getting flagged wrongly here. Please open an issue if you find any such cases.\n",
            "\n",
            "\n"
          ]
        },
        {
          "name": "stderr",
          "output_type": "stream",
          "text": [
            "C:\\Users\\huber\\AppData\\Local\\Packages\\PythonSoftwareFoundation.Python.3.9_qbz5n2kfra8p0\\LocalCache\\local-packages\\Python39\\site-packages\\xgboost\\core.py:90: UserWarning: ntree_limit is deprecated, use `iteration_range` or model slicing instead.\n",
            "  warnings.warn(\n"
          ]
        },
        {
          "name": "stdout",
          "output_type": "stream",
          "text": [
            "[08:12:20] WARNING: C:/Users/Administrator/workspace/xgboost-win64_release_1.6.0/src/learner.cc:627: \n",
            "Parameters: { \"early_stopping_rounds\", \"lambdaX\", \"num_boost_round\", \"rate_drop\", \"silent\", \"skip_drop\" } might not be used.\n",
            "\n",
            "  This could be a false alarm, with some parameters getting used by language bindings but\n",
            "  then being mistakenly passed down to XGBoost core, or some parameter actually being used\n",
            "  but getting flagged wrongly here. Please open an issue if you find any such cases.\n",
            "\n",
            "\n"
          ]
        },
        {
          "name": "stderr",
          "output_type": "stream",
          "text": [
            "C:\\Users\\huber\\AppData\\Local\\Packages\\PythonSoftwareFoundation.Python.3.9_qbz5n2kfra8p0\\LocalCache\\local-packages\\Python39\\site-packages\\xgboost\\core.py:90: UserWarning: ntree_limit is deprecated, use `iteration_range` or model slicing instead.\n",
            "  warnings.warn(\n"
          ]
        },
        {
          "name": "stdout",
          "output_type": "stream",
          "text": [
            "[08:12:26] WARNING: C:/Users/Administrator/workspace/xgboost-win64_release_1.6.0/src/learner.cc:627: \n",
            "Parameters: { \"early_stopping_rounds\", \"lambdaX\", \"num_boost_round\", \"rate_drop\", \"silent\", \"skip_drop\" } might not be used.\n",
            "\n",
            "  This could be a false alarm, with some parameters getting used by language bindings but\n",
            "  then being mistakenly passed down to XGBoost core, or some parameter actually being used\n",
            "  but getting flagged wrongly here. Please open an issue if you find any such cases.\n",
            "\n",
            "\n"
          ]
        },
        {
          "name": "stderr",
          "output_type": "stream",
          "text": [
            "C:\\Users\\huber\\AppData\\Local\\Packages\\PythonSoftwareFoundation.Python.3.9_qbz5n2kfra8p0\\LocalCache\\local-packages\\Python39\\site-packages\\xgboost\\core.py:90: UserWarning: ntree_limit is deprecated, use `iteration_range` or model slicing instead.\n",
            "  warnings.warn(\n"
          ]
        },
        {
          "name": "stdout",
          "output_type": "stream",
          "text": [
            "[08:12:33] WARNING: C:/Users/Administrator/workspace/xgboost-win64_release_1.6.0/src/learner.cc:627: \n",
            "Parameters: { \"early_stopping_rounds\", \"lambdaX\", \"num_boost_round\", \"rate_drop\", \"silent\", \"skip_drop\" } might not be used.\n",
            "\n",
            "  This could be a false alarm, with some parameters getting used by language bindings but\n",
            "  then being mistakenly passed down to XGBoost core, or some parameter actually being used\n",
            "  but getting flagged wrongly here. Please open an issue if you find any such cases.\n",
            "\n",
            "\n"
          ]
        },
        {
          "name": "stderr",
          "output_type": "stream",
          "text": [
            "C:\\Users\\huber\\AppData\\Local\\Packages\\PythonSoftwareFoundation.Python.3.9_qbz5n2kfra8p0\\LocalCache\\local-packages\\Python39\\site-packages\\xgboost\\core.py:90: UserWarning: ntree_limit is deprecated, use `iteration_range` or model slicing instead.\n",
            "  warnings.warn(\n"
          ]
        },
        {
          "name": "stdout",
          "output_type": "stream",
          "text": [
            "[08:12:39] WARNING: C:/Users/Administrator/workspace/xgboost-win64_release_1.6.0/src/learner.cc:627: \n",
            "Parameters: { \"early_stopping_rounds\", \"lambdaX\", \"num_boost_round\", \"rate_drop\", \"silent\", \"skip_drop\" } might not be used.\n",
            "\n",
            "  This could be a false alarm, with some parameters getting used by language bindings but\n",
            "  then being mistakenly passed down to XGBoost core, or some parameter actually being used\n",
            "  but getting flagged wrongly here. Please open an issue if you find any such cases.\n",
            "\n",
            "\n"
          ]
        },
        {
          "name": "stderr",
          "output_type": "stream",
          "text": [
            "C:\\Users\\huber\\AppData\\Local\\Packages\\PythonSoftwareFoundation.Python.3.9_qbz5n2kfra8p0\\LocalCache\\local-packages\\Python39\\site-packages\\xgboost\\core.py:90: UserWarning: ntree_limit is deprecated, use `iteration_range` or model slicing instead.\n",
            "  warnings.warn(\n"
          ]
        },
        {
          "name": "stdout",
          "output_type": "stream",
          "text": [
            "0.8897416917022548 (3, 0.3301396567432954, 0.36375227475353167, 2.16992655827121, 6.08788441019937)\n",
            "[08:12:45] WARNING: C:/Users/Administrator/workspace/xgboost-win64_release_1.6.0/src/learner.cc:627: \n",
            "Parameters: { \"early_stopping_rounds\", \"lambdaX\", \"num_boost_round\", \"rate_drop\", \"silent\", \"skip_drop\" } might not be used.\n",
            "\n",
            "  This could be a false alarm, with some parameters getting used by language bindings but\n",
            "  then being mistakenly passed down to XGBoost core, or some parameter actually being used\n",
            "  but getting flagged wrongly here. Please open an issue if you find any such cases.\n",
            "\n",
            "\n"
          ]
        },
        {
          "name": "stderr",
          "output_type": "stream",
          "text": [
            "C:\\Users\\huber\\AppData\\Local\\Packages\\PythonSoftwareFoundation.Python.3.9_qbz5n2kfra8p0\\LocalCache\\local-packages\\Python39\\site-packages\\xgboost\\core.py:90: UserWarning: ntree_limit is deprecated, use `iteration_range` or model slicing instead.\n",
            "  warnings.warn(\n"
          ]
        },
        {
          "name": "stdout",
          "output_type": "stream",
          "text": [
            "[08:12:57] WARNING: C:/Users/Administrator/workspace/xgboost-win64_release_1.6.0/src/learner.cc:627: \n",
            "Parameters: { \"early_stopping_rounds\", \"lambdaX\", \"num_boost_round\", \"rate_drop\", \"silent\", \"skip_drop\" } might not be used.\n",
            "\n",
            "  This could be a false alarm, with some parameters getting used by language bindings but\n",
            "  then being mistakenly passed down to XGBoost core, or some parameter actually being used\n",
            "  but getting flagged wrongly here. Please open an issue if you find any such cases.\n",
            "\n",
            "\n"
          ]
        },
        {
          "name": "stderr",
          "output_type": "stream",
          "text": [
            "C:\\Users\\huber\\AppData\\Local\\Packages\\PythonSoftwareFoundation.Python.3.9_qbz5n2kfra8p0\\LocalCache\\local-packages\\Python39\\site-packages\\xgboost\\core.py:90: UserWarning: ntree_limit is deprecated, use `iteration_range` or model slicing instead.\n",
            "  warnings.warn(\n"
          ]
        },
        {
          "name": "stdout",
          "output_type": "stream",
          "text": [
            "[08:13:09] WARNING: C:/Users/Administrator/workspace/xgboost-win64_release_1.6.0/src/learner.cc:627: \n",
            "Parameters: { \"early_stopping_rounds\", \"lambdaX\", \"num_boost_round\", \"rate_drop\", \"silent\", \"skip_drop\" } might not be used.\n",
            "\n",
            "  This could be a false alarm, with some parameters getting used by language bindings but\n",
            "  then being mistakenly passed down to XGBoost core, or some parameter actually being used\n",
            "  but getting flagged wrongly here. Please open an issue if you find any such cases.\n",
            "\n",
            "\n"
          ]
        },
        {
          "name": "stderr",
          "output_type": "stream",
          "text": [
            "C:\\Users\\huber\\AppData\\Local\\Packages\\PythonSoftwareFoundation.Python.3.9_qbz5n2kfra8p0\\LocalCache\\local-packages\\Python39\\site-packages\\xgboost\\core.py:90: UserWarning: ntree_limit is deprecated, use `iteration_range` or model slicing instead.\n",
            "  warnings.warn(\n"
          ]
        },
        {
          "name": "stdout",
          "output_type": "stream",
          "text": [
            "[08:13:22] WARNING: C:/Users/Administrator/workspace/xgboost-win64_release_1.6.0/src/learner.cc:627: \n",
            "Parameters: { \"early_stopping_rounds\", \"lambdaX\", \"num_boost_round\", \"rate_drop\", \"silent\", \"skip_drop\" } might not be used.\n",
            "\n",
            "  This could be a false alarm, with some parameters getting used by language bindings but\n",
            "  then being mistakenly passed down to XGBoost core, or some parameter actually being used\n",
            "  but getting flagged wrongly here. Please open an issue if you find any such cases.\n",
            "\n",
            "\n"
          ]
        },
        {
          "name": "stderr",
          "output_type": "stream",
          "text": [
            "C:\\Users\\huber\\AppData\\Local\\Packages\\PythonSoftwareFoundation.Python.3.9_qbz5n2kfra8p0\\LocalCache\\local-packages\\Python39\\site-packages\\xgboost\\core.py:90: UserWarning: ntree_limit is deprecated, use `iteration_range` or model slicing instead.\n",
            "  warnings.warn(\n"
          ]
        },
        {
          "name": "stdout",
          "output_type": "stream",
          "text": [
            "[08:13:34] WARNING: C:/Users/Administrator/workspace/xgboost-win64_release_1.6.0/src/learner.cc:627: \n",
            "Parameters: { \"early_stopping_rounds\", \"lambdaX\", \"num_boost_round\", \"rate_drop\", \"silent\", \"skip_drop\" } might not be used.\n",
            "\n",
            "  This could be a false alarm, with some parameters getting used by language bindings but\n",
            "  then being mistakenly passed down to XGBoost core, or some parameter actually being used\n",
            "  but getting flagged wrongly here. Please open an issue if you find any such cases.\n",
            "\n",
            "\n"
          ]
        },
        {
          "name": "stderr",
          "output_type": "stream",
          "text": [
            "C:\\Users\\huber\\AppData\\Local\\Packages\\PythonSoftwareFoundation.Python.3.9_qbz5n2kfra8p0\\LocalCache\\local-packages\\Python39\\site-packages\\xgboost\\core.py:90: UserWarning: ntree_limit is deprecated, use `iteration_range` or model slicing instead.\n",
            "  warnings.warn(\n"
          ]
        },
        {
          "name": "stdout",
          "output_type": "stream",
          "text": [
            "0.9031478668827541 (6, 0.7614860882412393, 0.3562758770760607, 9.26682282409374, 1.6334440864388589)\n"
          ]
        }
      ],
      "source": [
        "import random\n",
        "results=[]\n",
        "paramList = []\n",
        "for x in range(100):\n",
        "    params = {\"depth\": random.randint(3, 9), \n",
        "              \"subsample\": random.uniform(0.1, 0.9), \n",
        "              \"colsample\": random.uniform(0.1, 0.9), \n",
        "              \"lambdaX\": random.uniform(0, 10), \n",
        "              \"gamma\": random.uniform(0, 10)\n",
        "             }\n",
        "    \n",
        "    trainResults, testResults, predictions, indices, hists = CVTestXGB(\n",
        "        max_depth=params['depth'],\n",
        "        subsample = params['subsample'],\n",
        "        colsample_bytree = params['colsample'],\n",
        "        lambdaX=params['lambdaX'],\n",
        "        gamma=params['gamma'],\n",
        "        tree_method='gpu_hist')\n",
        "    \n",
        "    print(np.mean(testResults), params)\n",
        "    results.append(np.mean(testResults))\n",
        "    paramList.append(params)\n"
      ]
    },
    {
      "cell_type": "code",
      "execution_count": 15,
      "metadata": {},
      "outputs": [
        {
          "name": "stdout",
          "output_type": "stream",
          "text": [
            "(0.9061729516567528, (7, 0.4003839715137969, 0.6579974937444091, 6.270422338815809, 0.9758923959853338))\n",
            "(0.9051317810629911, (6, 0.7772703562895031, 0.7366965091252163, 6.204082513808489, 0.6326308390564828))\n",
            "(0.9047064930858488, (8, 0.8340309259359733, 0.8973435454270858, 5.465227140162185, 2.98087574722821))\n",
            "(0.9046980410587718, (6, 0.5928373978928871, 0.5353283089081836, 5.936135381908806, 1.2635613282631086))\n",
            "(0.9031478668827541, (6, 0.7614860882412393, 0.3562758770760607, 9.26682282409374, 1.6334440864388589))\n",
            "(0.900531531130526, (7, 0.7328006176870686, 0.17722579178761322, 8.213137074923685, 1.2703443966167771))\n",
            "(0.8986159307682682, (6, 0.7100178691301923, 0.6615087548501121, 5.448485428774161, 5.852858712391801))\n",
            "(0.8980907015515843, (4, 0.6879443850367897, 0.651113054631435, 6.866642368678189, 0.8046875260675179))\n",
            "(0.8979587644870215, (8, 0.5848229294261846, 0.2802382396735549, 3.1877616843944634, 5.677706883622111))\n",
            "(0.8978594325679701, (6, 0.6004079284095801, 0.6328044325783042, 1.403023234922579, 6.897589203826048))\n"
          ]
        }
      ],
      "source": [
        "maxRes = []\n",
        "for i in range(1, len(paramList)):\n",
        "    maxRes.append(max(results[0:i]))\n",
        "imp = list(zip(results, paramList))\n",
        "imp.sort(reverse=True)\n",
        "for row in imp[0:10]:\n",
        "    print(row)"
      ]
    },
    {
      "cell_type": "code",
      "execution_count": 16,
      "metadata": {},
      "outputs": [
        {
          "data": {
            "image/png": "[encoded data removed]",
            "text/plain": [
              "<Figure size 432x288 with 1 Axes>"
            ]
          },
          "metadata": {
            "needs_background": "light"
          },
          "output_type": "display_data"
        }
      ],
      "source": [
        "plt.plot(list(range(len(results)-1)), maxRes)\n",
        "plt.show()"
      ]
    }
  ],
  "metadata": {
    "kernelspec": {
      "display_name": "Python 3.9.13 64-bit (windows store)",
      "language": "python",
      "name": "python3"
    },
    "language_info": {
      "codemirror_mode": {
        "name": "ipython",
        "version": 3
      },
      "file_extension": ".py",
      "mimetype": "text/x-python",
      "name": "python",
      "nbconvert_exporter": "python",
      "pygments_lexer": "ipython3",
      "version": "3.9.13"
    },
    "orig_nbformat": 4,
    "vscode": {
      "interpreter": {
        "hash": "4fddd19d77c5dd8864147f3110d0455767aeb796c5c0172c4a7ac7b5fb861d3a"
      }
    }
  },
  "nbformat": 4,
  "nbformat_minor": 2
}
