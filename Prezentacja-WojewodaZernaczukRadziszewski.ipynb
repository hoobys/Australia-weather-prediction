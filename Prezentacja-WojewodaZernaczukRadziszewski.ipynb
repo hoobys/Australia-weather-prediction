{
 "cells": [
  {
   "cell_type": "markdown",
   "id": "5dd3868e-26d6-4c24-998c-2b37211a565c",
   "metadata": {},
   "source": [
    "# Prezentacja pracy zaliczeniowej na przedmiot \"Praktyczny Machine Learning w Pythonie\"\n",
    "__Autor__: Hubert Wojewoda, Andrzej Żernaczuk, Piotr Radziszewski\n",
    "\n",
    "__github__: \n",
    "### Contents: \n",
    "1. Data description\n",
    "2. Data engineering \n",
    "3. Models and results\n",
    "4. Results\n",
    "5. Conclusions\n"
   ]
  },
  {
   "cell_type": "markdown",
   "id": "2d38dea1-4deb-4248-99a0-f780190f66a8",
   "metadata": {},
   "source": [
    "# 1. Data description\n",
    "\n",
    "### 1.1. Data Source\n",
    "\n",
    "Dane: https://www.kaggle.com/datasets/jsphyg/weather-dataset-rattle-package/metadata?resource=download\n",
    "\n",
    "### 1.2 Variables\n",
    "\n",
    "\n",
    "__RainTomorrow__ is the target variable to predict. The amount of next day rain in mm. Used to create response variable RainTomorrow. It means: did it rain the next day, Yes or No? This column is Yes if the rain for that day was 1mm or more.\n",
    "\n",
    "\n",
    "Zmienne objaśniające:\n",
    "\n",
    "\n",
    "__Date__ - The date of observation\n",
    "\n",
    "__Location__ - The common name of the location of the weather station \n",
    "\n",
    "__MinTemp__ - The minimum temperature in degrees celsius\n",
    "\n",
    "__MaxTemp__ - The maximum temperature in degrees celsius\n",
    "\n",
    "__Rainfall__ - The amount of rainfall recorded for the day in mm\n",
    "\n",
    "__Evaporation__ - The so-called Class A pan evaporation (mm) in the 24 hours to 9am\n",
    "\n",
    "__Sunshine__ - The number of hours of bright sunshine in the day.\n",
    "\n",
    "__WindGustDir__ - The direction of the strongest wind gust in the 24 hours to midnight\n",
    "\n",
    "__WindGustSpeed__ - The speed (km/h) of the strongest wind gust in the 24 hours to midnight\n",
    "\n",
    "__WindDir9am__ - Direction of the wind at 9am\n",
    "\n",
    "__WindDir3pm__ - Direction of the wind at 3pm\n",
    "\n",
    "__WindSpeed9am__ - Wind speed (km/hr) averaged over 10 minutes prior to 9am\n",
    "\n",
    "__WindSpeed3pm__ - Wind speed (km/hr) averaged over 10 minutes prior to 3pm\n",
    "\n",
    "__Humidity9am__ - Humidity (percent) at 9am\n",
    "\n",
    "__Humidity3pm__ - Humidity (percent) at 3pm\n",
    "\n",
    "__Pressure9am__ - Atmospheric pressure (hpa) reduced to mean sea level at 9am\n",
    "\n",
    "__Pressure3pm__ - Atmospheric pressure (hpa) reduced to mean sea level at 3pm\n",
    "\n",
    "__Cloud9am__ - Fraction of sky obscured by cloud at 9am. This is measured in \"oktas\", which are a unit of eigths. It records how many\n",
    "\n",
    "__Cloud3pm__ - Fraction of sky obscured by cloud (in \"oktas\": eighths) at 3pm. See Cload9am for a description of the values\n",
    "\n",
    "__Temp9am__ - Temperature (degrees C) at 9am\n",
    "\n",
    "__Temp3pm__ - Temperature (degrees C) at 3pm\n",
    "\n",
    "__RainToday__ - Boolean: 1 if precipitation (mm) in the 24 hours to 9am exceeds 1mm, otherwise 0\n",
    "\n",
    "\n",
    "### 1.3 Data exploration"
   ]
  },
  {
   "cell_type": "code",
   "execution_count": null,
   "id": "57158940-8f9e-4ffe-90b9-79308a6ba77a",
   "metadata": {},
   "outputs": [],
   "source": [
    "import seaborn as sns \n",
    "import matplotlib.pyplot as plt\n",
    "import pandas as pd\n",
    "raw_data = pd.read_csv(\"weatherAUS.csv\")\n",
    "features = raw_data.columns.tolist()\n",
    "features.remove('RainTomorrow')\n",
    "sns.countplot(x=raw_data['RainTomorrow'])\n",
    "sns.set(rc={'figure.figsize':(11.7,8.27)})\n",
    "plt.title('Porównanie liczebności klas')\n",
    "plt.show()"
   ]
  },
  {
   "cell_type": "code",
   "execution_count": null,
   "id": "c72aa95c-0b4c-4f2b-a9cc-fbf93166a720",
   "metadata": {
    "scrolled": true
   },
   "outputs": [],
   "source": [
    "for col in features:\n",
    "    try:\n",
    "        raw_data[col].plot.hist(bins=10)\n",
    "        plt.title(col)\n",
    "    except TypeError:\n",
    "        plt.barh(raw_data[col].value_counts().index, raw_data[col].value_counts().values)\n",
    "    plt.show()"
   ]
  },
  {
   "cell_type": "markdown",
   "id": "f4350d69-3c33-48b6-9c57-dc1b58dd7015",
   "metadata": {},
   "source": [
    "# 2 Data engineering\n",
    "1. Raw data was taken from kaggle (saved as __weatherAUS.csv__) and then passed to data frame\n",
    "2. One Hot Encoding of Location and Winds columns\n",
    "3. Grouping months into year seasons \n",
    "4. Cities names changed to geographic coordinates (?)"
   ]
  },
  {
   "cell_type": "code",
   "execution_count": 34,
   "id": "f79b8a60-ce26-497c-81aa-8de25e131cf2",
   "metadata": {},
   "outputs": [],
   "source": [
    "import pickle\n",
    "with open('mutual_info.pkl', 'rb') as f:\n",
    "    mutual_info = pickle.load(f)\n",
    "with open('spearman.pkl', 'rb') as f:\n",
    "    spearman = pickle.load(f)\n",
    "with open('xgb_info.pkl', 'rb') as f:\n",
    "    xgb_info = pickle.load(f)"
   ]
  },
  {
   "cell_type": "code",
   "execution_count": null,
   "id": "61e447bb-ba7a-4c71-8b4f-5ca9a484466c",
   "metadata": {},
   "outputs": [],
   "source": [
    "mutual_info"
   ]
  },
  {
   "cell_type": "code",
   "execution_count": null,
   "id": "7035bf14-b21f-4f98-8394-1ae22aaabbc3",
   "metadata": {},
   "outputs": [],
   "source": [
    "spearman"
   ]
  },
  {
   "cell_type": "code",
   "execution_count": null,
   "id": "df90cb95-2ccf-43db-8dc0-03c6529703e2",
   "metadata": {},
   "outputs": [],
   "source": [
    "xgb_info"
   ]
  },
  {
   "cell_type": "code",
   "execution_count": null,
   "id": "1eae0009",
   "metadata": {},
   "outputs": [],
   "source": [
    "#regresja!!!!!"
   ]
  },
  {
   "cell_type": "markdown",
   "id": "17323c0f-0927-4076-9001-22d3e20f0111",
   "metadata": {},
   "source": [
    "# 3. Modele\n",
    "Każdy model był sprawdzany StratifiedKfold\n",
    "### 3.1 Regresja liniowa\n",
    "- Model bazowy\n",
    "- Bardzo szybki\n",
    "- Brak tuningu hiper-parametrów\n",
    "- Zaskakująco wysoki ROC_AUC:\n",
    "    0.840 na zbiorze testowym\n",
    "    \n",
    "### 3.2 KNN \n",
    "- Użyte zostały wyskalowane dane (zarówno standard jak i minmax)\n",
    "- Bardzo wolny\n",
    "- Tuning hiper-parametrów (random_search):  \n",
    "    1. n_neighbours  \n",
    "    2. p  \n",
    "- Bardzo słabe wyniki przy random_search:\n",
    "    ROC_AUC w okolicach 0.76\n",
    "    \n",
    "### 3.3 SVM\n",
    "- Użyte zostały wyskalowane dane (zarówno standard jak i minmax)\n",
    "- Bardzo wolny\n",
    "- Jedynie przy braniu samplowych 10000 wierszy jakkolwiek działał\n",
    "- Zbyt wolny na tuning hiper-parametrów\n",
    "- Bazowo bardzo słaby wynik:\n",
    "    ROC_AUC w okolicach 0.77\n",
    " \n",
    "### 3.4 Lasy losowe\n",
    "- Zauważalnie szybszy algorytm\n",
    "- Użyte zostały dane poddane Label Encodingowi\n",
    "- Tuning hiper-parametrów (random_search):\n",
    "    1. n_estimators\n",
    "    2. max_depth\n",
    "    3. max_features\n",
    "    4. min_samples_split\n",
    "- Wyniki lepsze od KNN i SVM, jednak dalej zauważalnie gorsze od Regresji Liniowej \n",
    "    ROC_AUC = 0.781\n",
    "    \n",
    "### 3.5 XGBoost \n",
    "- Podobna prędkość jak Lasy Losowe (możliwy random_search)\n",
    "- Użyte zostały dane poddane Label Encodingowi\n",
    "- Tuning hiper-parametrów (random_search):\n",
    "    1. max_depth\n",
    "    2. subsample\n",
    "    3. colsample_bytree\n",
    "    4. reg_lambda\n",
    "    5. gamma (zamiennie z reg_lambda)\n",
    "- Najlepszy wynik:\n",
    "    ROC_AUC = 80\n",
    "    \n",
    "### 3.6 Głębokie sieci neuronowe\n",
    "- Bezdyskusyjnie najskuteczniejsz model \n",
    "- Zostały użyte wyskalowane dane (standard)\n",
    "- Bardzo dokładny tuning hiper-parametrów (random_search): \n",
    "    1. Optimizer (Adam, SGD)\n",
    "    2. Batch Size \n",
    "    3. Dropout \n",
    "    4. Regularyzacja L2\n",
    "- Do tego zostały sprawdzone różne konfiguracje liczby warstw, neuronów oraz funkcje aktywacji. Algorytm działał w następujący sposób: \n",
    "    1. Losował funkcje aktywacji oraz liczbe warstw\n",
    "    2. Dla każdej warstwy losował liczbę neuronów\n",
    "- Funkcja stary jaka zostala użyta to BinaryCrossEntropy \n",
    "- Funkcją aktywacji ostatniego neurona jest sigmoid \n",
    "- W najlepszej konfiguracji udało się uzyskać wynik:  \n",
    " __ROC_AUC = 0.912 na zbiorze testowym__ \n",
    " \n",
    " # 4. Results"
   ]
  },
  {
   "cell_type": "code",
   "execution_count": 43,
   "id": "03a63067-1420-426a-bced-0e437c32eb5d",
   "metadata": {},
   "outputs": [
    {
     "data": {
      "text/plain": [
       "['Regresja liniowa', 'KNN', 'SVM', 'Lasy losowe', 'XGBoost', 'Sieci neuronowe']"
      ]
     },
     "execution_count": 43,
     "metadata": {},
     "output_type": "execute_result"
    }
   ],
   "source": [
    "results = {\n",
    "    'Regresja liniowa': 0.84,\n",
    "    'KNN': 0.76,\n",
    "    'SVM': 0.77, \n",
    "    'Lasy losowe': 0.781,\n",
    "    'XGBoost': 0.8,\n",
    "    'Sieci neuronowe': 0.912\n",
    "}\n",
    "results_df = pd.DataFrame(data=results, index=[0])\n",
    "results_df.columns.tolist()\n"
   ]
  },
  {
   "cell_type": "code",
   "execution_count": 47,
   "id": "a004c92b-9de1-4dcd-86fe-6f55651e5244",
   "metadata": {},
   "outputs": [
    {
     "data": {
      "text/plain": [
       "[0.84, 0.76, 0.77, 0.781, 0.8, 0.912]"
      ]
     },
     "execution_count": 47,
     "metadata": {},
     "output_type": "execute_result"
    }
   ],
   "source": [
    "results_df.values.tolist()[0]"
   ]
  },
  {
   "cell_type": "code",
   "execution_count": 58,
   "id": "47f2ce6a-aed9-4c93-9430-dbf1773b1a5e",
   "metadata": {},
   "outputs": [
    {
     "data": {
      "image/png": "[encoded data removed]",
      "text/plain": [
       "<Figure size 842.4x595.44 with 1 Axes>"
      ]
     },
     "metadata": {},
     "output_type": "display_data"
    }
   ],
   "source": [
    "import matplotlib.pyplot as plt\n",
    "fig = plt.figure()\n",
    "ax = fig.add_axes([0,0,1,1])\n",
    "plt.ylim([0, 1.1])\n",
    "ax.bar(results_df.columns.tolist(), results_df.values.tolist()[0])\n",
    "plt.show()"
   ]
  },
  {
   "cell_type": "markdown",
   "id": "c5385d92-a23a-4cad-b0cb-3f2a9d41eb66",
   "metadata": {},
   "source": [
    "# 5. Conclusions\n",
    "- Bardzo ciekawe  wyniki\n",
    "- Zaskakująco dobry wynik regresji liniowej\n",
    "- Dataset nie nadający się do KNN ani SVM, obliczenia trwają zbyt długo na tuning hiper-parametrów oraz feature engineering\n",
    "- Zaskakująco słaby wynik Lasów losowych oraz XGBoost\n",
    "- Zdecydowanie najlepszy wynik głębokich sieci neuronowych \n",
    "- Możliwe powód:   \n",
    "  Silne zależności liniowe"
   ]
  },
  {
   "cell_type": "code",
   "execution_count": null,
   "id": "6486d9bf-727e-4313-bf00-2e72235b5bc6",
   "metadata": {},
   "outputs": [],
   "source": []
  }
 ],
 "metadata": {
  "kernelspec": {
   "display_name": "Python 3 (ipykernel)",
   "language": "python",
   "name": "python3"
  },
  "language_info": {
   "codemirror_mode": {
    "name": "ipython",
    "version": 3
   },
   "file_extension": ".py",
   "mimetype": "text/x-python",
   "name": "python",
   "nbconvert_exporter": "python",
   "pygments_lexer": "ipython3",
   "version": "3.9.1"
  }
 },
 "nbformat": 4,
 "nbformat_minor": 5
}
