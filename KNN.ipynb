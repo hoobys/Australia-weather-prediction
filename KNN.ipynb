{
 "cells": [
  {
   "cell_type": "code",
   "execution_count": 2,
   "metadata": {},
   "outputs": [],
   "source": [
    "import pandas as pd\n",
    "import numpy as np\n",
    "\n",
    "import matplotlib.pyplot as plt\n",
    "plt.style.use('seaborn-ticks')\n",
    "%matplotlib inline"
   ]
  },
  {
   "cell_type": "code",
   "execution_count": 3,
   "metadata": {},
   "outputs": [
    {
     "name": "stdout",
     "output_type": "stream",
     "text": [
      "(123710, 31)\n"
     ]
    },
    {
     "data": {
      "text/html": [
       "<div>\n",
       "<style scoped>\n",
       "    .dataframe tbody tr th:only-of-type {\n",
       "        vertical-align: middle;\n",
       "    }\n",
       "\n",
       "    .dataframe tbody tr th {\n",
       "        vertical-align: top;\n",
       "    }\n",
       "\n",
       "    .dataframe thead th {\n",
       "        text-align: right;\n",
       "    }\n",
       "</style>\n",
       "<table border=\"1\" class=\"dataframe\">\n",
       "  <thead>\n",
       "    <tr style=\"text-align: right;\">\n",
       "      <th></th>\n",
       "      <th>MinTemp</th>\n",
       "      <th>MaxTemp</th>\n",
       "      <th>Rainfall</th>\n",
       "      <th>Evaporation</th>\n",
       "      <th>Sunshine</th>\n",
       "      <th>WindGustSpeed</th>\n",
       "      <th>WindSpeed9am</th>\n",
       "      <th>WindSpeed3pm</th>\n",
       "      <th>Humidity9am</th>\n",
       "      <th>Humidity3pm</th>\n",
       "      <th>...</th>\n",
       "      <th>spring</th>\n",
       "      <th>summer</th>\n",
       "      <th>autumn</th>\n",
       "      <th>winterRain</th>\n",
       "      <th>springRain</th>\n",
       "      <th>summerRain</th>\n",
       "      <th>autumnRain</th>\n",
       "      <th>latitude</th>\n",
       "      <th>longitude</th>\n",
       "      <th>RainTomorrow</th>\n",
       "    </tr>\n",
       "  </thead>\n",
       "  <tbody>\n",
       "    <tr>\n",
       "      <th>0</th>\n",
       "      <td>13.4</td>\n",
       "      <td>22.9</td>\n",
       "      <td>0.6</td>\n",
       "      <td>4.8</td>\n",
       "      <td>8.6</td>\n",
       "      <td>44.0</td>\n",
       "      <td>20.0</td>\n",
       "      <td>24.0</td>\n",
       "      <td>71.0</td>\n",
       "      <td>22.0</td>\n",
       "      <td>...</td>\n",
       "      <td>False</td>\n",
       "      <td>False</td>\n",
       "      <td>False</td>\n",
       "      <td>False</td>\n",
       "      <td>False</td>\n",
       "      <td>False</td>\n",
       "      <td>False</td>\n",
       "      <td>-36.080477</td>\n",
       "      <td>146.91628</td>\n",
       "      <td>0</td>\n",
       "    </tr>\n",
       "    <tr>\n",
       "      <th>1</th>\n",
       "      <td>7.4</td>\n",
       "      <td>25.1</td>\n",
       "      <td>0.0</td>\n",
       "      <td>4.8</td>\n",
       "      <td>8.6</td>\n",
       "      <td>44.0</td>\n",
       "      <td>4.0</td>\n",
       "      <td>22.0</td>\n",
       "      <td>44.0</td>\n",
       "      <td>25.0</td>\n",
       "      <td>...</td>\n",
       "      <td>False</td>\n",
       "      <td>False</td>\n",
       "      <td>False</td>\n",
       "      <td>False</td>\n",
       "      <td>False</td>\n",
       "      <td>False</td>\n",
       "      <td>False</td>\n",
       "      <td>-36.080477</td>\n",
       "      <td>146.91628</td>\n",
       "      <td>0</td>\n",
       "    </tr>\n",
       "    <tr>\n",
       "      <th>2</th>\n",
       "      <td>12.9</td>\n",
       "      <td>25.7</td>\n",
       "      <td>0.0</td>\n",
       "      <td>4.8</td>\n",
       "      <td>8.6</td>\n",
       "      <td>46.0</td>\n",
       "      <td>19.0</td>\n",
       "      <td>26.0</td>\n",
       "      <td>38.0</td>\n",
       "      <td>30.0</td>\n",
       "      <td>...</td>\n",
       "      <td>False</td>\n",
       "      <td>False</td>\n",
       "      <td>False</td>\n",
       "      <td>False</td>\n",
       "      <td>False</td>\n",
       "      <td>False</td>\n",
       "      <td>False</td>\n",
       "      <td>-36.080477</td>\n",
       "      <td>146.91628</td>\n",
       "      <td>0</td>\n",
       "    </tr>\n",
       "    <tr>\n",
       "      <th>3</th>\n",
       "      <td>9.2</td>\n",
       "      <td>28.0</td>\n",
       "      <td>0.0</td>\n",
       "      <td>4.8</td>\n",
       "      <td>8.6</td>\n",
       "      <td>24.0</td>\n",
       "      <td>11.0</td>\n",
       "      <td>9.0</td>\n",
       "      <td>45.0</td>\n",
       "      <td>16.0</td>\n",
       "      <td>...</td>\n",
       "      <td>False</td>\n",
       "      <td>False</td>\n",
       "      <td>False</td>\n",
       "      <td>False</td>\n",
       "      <td>False</td>\n",
       "      <td>False</td>\n",
       "      <td>False</td>\n",
       "      <td>-36.080477</td>\n",
       "      <td>146.91628</td>\n",
       "      <td>0</td>\n",
       "    </tr>\n",
       "    <tr>\n",
       "      <th>4</th>\n",
       "      <td>17.5</td>\n",
       "      <td>32.3</td>\n",
       "      <td>1.0</td>\n",
       "      <td>4.8</td>\n",
       "      <td>8.6</td>\n",
       "      <td>41.0</td>\n",
       "      <td>7.0</td>\n",
       "      <td>20.0</td>\n",
       "      <td>82.0</td>\n",
       "      <td>33.0</td>\n",
       "      <td>...</td>\n",
       "      <td>False</td>\n",
       "      <td>False</td>\n",
       "      <td>False</td>\n",
       "      <td>False</td>\n",
       "      <td>False</td>\n",
       "      <td>False</td>\n",
       "      <td>False</td>\n",
       "      <td>-36.080477</td>\n",
       "      <td>146.91628</td>\n",
       "      <td>0</td>\n",
       "    </tr>\n",
       "  </tbody>\n",
       "</table>\n",
       "<p>5 rows × 31 columns</p>\n",
       "</div>"
      ],
      "text/plain": [
       "   MinTemp  MaxTemp  Rainfall  Evaporation  Sunshine  WindGustSpeed  \\\n",
       "0     13.4     22.9       0.6          4.8       8.6           44.0   \n",
       "1      7.4     25.1       0.0          4.8       8.6           44.0   \n",
       "2     12.9     25.7       0.0          4.8       8.6           46.0   \n",
       "3      9.2     28.0       0.0          4.8       8.6           24.0   \n",
       "4     17.5     32.3       1.0          4.8       8.6           41.0   \n",
       "\n",
       "   WindSpeed9am  WindSpeed3pm  Humidity9am  Humidity3pm  ...  spring  summer  \\\n",
       "0          20.0          24.0         71.0         22.0  ...   False   False   \n",
       "1           4.0          22.0         44.0         25.0  ...   False   False   \n",
       "2          19.0          26.0         38.0         30.0  ...   False   False   \n",
       "3          11.0           9.0         45.0         16.0  ...   False   False   \n",
       "4           7.0          20.0         82.0         33.0  ...   False   False   \n",
       "\n",
       "   autumn  winterRain  springRain  summerRain  autumnRain   latitude  \\\n",
       "0   False       False       False       False       False -36.080477   \n",
       "1   False       False       False       False       False -36.080477   \n",
       "2   False       False       False       False       False -36.080477   \n",
       "3   False       False       False       False       False -36.080477   \n",
       "4   False       False       False       False       False -36.080477   \n",
       "\n",
       "   longitude  RainTomorrow  \n",
       "0  146.91628             0  \n",
       "1  146.91628             0  \n",
       "2  146.91628             0  \n",
       "3  146.91628             0  \n",
       "4  146.91628             0  \n",
       "\n",
       "[5 rows x 31 columns]"
      ]
     },
     "execution_count": 3,
     "metadata": {},
     "output_type": "execute_result"
    }
   ],
   "source": [
    "df = pd.read_csv(\"weatherAUS_clean.csv\")\n",
    "print(df.shape)\n",
    "df.head()"
   ]
  },
  {
   "cell_type": "code",
   "execution_count": 4,
   "metadata": {},
   "outputs": [
    {
     "data": {
      "text/plain": [
       "Index(['MinTemp', 'MaxTemp', 'Rainfall', 'Evaporation', 'Sunshine',\n",
       "       'WindGustSpeed', 'WindSpeed9am', 'WindSpeed3pm', 'Humidity9am',\n",
       "       'Humidity3pm', 'Pressure9am', 'Pressure3pm', 'Cloud9am', 'Cloud3pm',\n",
       "       'Temp9am', 'Temp3pm', 'RainToday', 'Year', 'Month', 'Day', 'winter',\n",
       "       'spring', 'summer', 'autumn', 'winterRain', 'springRain', 'summerRain',\n",
       "       'autumnRain', 'latitude', 'longitude', 'RainTomorrow'],\n",
       "      dtype='object')"
      ]
     },
     "execution_count": 4,
     "metadata": {},
     "output_type": "execute_result"
    }
   ],
   "source": [
    "df.columns"
   ]
  },
  {
   "cell_type": "code",
   "execution_count": 5,
   "metadata": {},
   "outputs": [],
   "source": [
    "target = \"RainTomorrow\"\n",
    "features = ['MinTemp',\n",
    " 'MaxTemp',\n",
    " 'Rainfall',\n",
    " 'Evaporation',\n",
    " 'Sunshine',\n",
    " 'WindGustSpeed',\n",
    " 'WindSpeed9am',\n",
    " 'WindSpeed3pm',\n",
    " 'Humidity9am',\n",
    " 'Humidity3pm',\n",
    " 'Pressure9am',\n",
    " 'Pressure3pm',\n",
    " 'Cloud9am',\n",
    " 'Cloud3pm',\n",
    " 'Temp9am',\n",
    " 'Temp3pm',\n",
    " 'RainToday',\n",
    " 'Year',\n",
    " 'Month',\n",
    " 'Day',\n",
    " 'winter',\n",
    " 'spring',\n",
    " 'summer',\n",
    " 'autumn',\n",
    " 'winterRain',\n",
    " 'springRain',\n",
    " 'summerRain',\n",
    " 'autumnRain',\n",
    " 'latitude',\n",
    " 'longitude']"
   ]
  },
  {
   "cell_type": "code",
   "execution_count": 6,
   "metadata": {},
   "outputs": [],
   "source": [
    "# Wczytanie potrzebnych bibliotek\n",
    "from sklearn.model_selection import KFold\n",
    "from sklearn import metrics\n",
    "from sklearn import neighbors\n",
    "from sklearn.metrics import roc_auc_score\n",
    "\n",
    "# Przygotujmy wrapper\n",
    "def CVTestKNN(nFolds = 5, randomState=2020, debug=False, *args, **kwargs):\n",
    "    kf = KFold(n_splits=nFolds, shuffle=True, random_state=randomState)\n",
    "\n",
    "    # Listy z wynikami\n",
    "    testResults = []\n",
    "    trainResults = []\n",
    "    predictions = []\n",
    "    indices = []\n",
    "    \n",
    "    # Pętla walidująca model na kolejnych foldach\n",
    "    for train, test in kf.split(df.index.values):\n",
    "        # Przygotowanie estymatora\n",
    "        clf = neighbors.KNeighborsClassifier(*args, **kwargs)\n",
    "        if debug:\n",
    "            print(clf)\n",
    "        # Trenowanie modelu\n",
    "        clf.fit(df.iloc[train][features], df.iloc[train][target])\n",
    "\n",
    "        # Przygotowanie prognoz dla zbioru treningowego i testowego\n",
    "        # UWAGA Sklearn zwracał będzie dwie kolumny prawdopodobieństw dla obydwu klas\n",
    "        predsTrain = clf.predict_proba(df.iloc[train][features])[:,1]\n",
    "        preds = clf.predict_proba(df.iloc[test][features])[:,1]\n",
    "        \n",
    "        # Zachowajmy informacje o predykcjach dla tego foldu\n",
    "        predictions.append(preds.tolist().copy())\n",
    "        \n",
    "        # Razem z indeksami w oryginalnym data frame\n",
    "        indices.append(df.iloc[test].index.tolist().copy())\n",
    "        \n",
    "        # Policzenie ROC-AUC dla foldów\n",
    "        trainScore = roc_auc_score(df[target].iloc[train].astype(int), predsTrain)\n",
    "        testScore = roc_auc_score(df[target].iloc[test].astype(int), preds)\n",
    "        \n",
    "        # Zapisanie wyników dla foldów\n",
    "        trainResults.append(trainScore)\n",
    "        testResults.append(testScore)\n",
    "        \n",
    "        # Informowanie o każdym foldzie razem z wynikami treningowymi możemy opcjonalnie wyświetlać w trakcie\n",
    "        if debug:\n",
    "            print(\"Train AUC:\", trainScore,\n",
    "                  \"Valid AUC:\", testScore)\n",
    "        \n",
    "    return trainResults, testResults, predictions, indices"
   ]
  },
  {
   "cell_type": "code",
   "execution_count": 56,
   "metadata": {},
   "outputs": [
    {
     "name": "stdout",
     "output_type": "stream",
     "text": [
      "KNeighborsClassifier(n_jobs=-1, n_neighbors=100, p=1)\n",
      "Train AUC: 0.8941582182693064 Valid AUC: 0.8843886121492149\n",
      "KNeighborsClassifier(n_jobs=-1, n_neighbors=100, p=1)\n",
      "Train AUC: 0.8941846907108395 Valid AUC: 0.8850760402710736\n",
      "KNeighborsClassifier(n_jobs=-1, n_neighbors=100, p=1)\n",
      "Train AUC: 0.8932817342427848 Valid AUC: 0.8882720801761281\n",
      "KNeighborsClassifier(n_jobs=-1, n_neighbors=100, p=1)\n",
      "Train AUC: 0.8944593795535115 Valid AUC: 0.882806416657825\n",
      "KNeighborsClassifier(n_jobs=-1, n_neighbors=100, p=1)\n",
      "Train AUC: 0.8935265312206809 Valid AUC: 0.8877334216531624\n",
      "0.8856553141814809\n"
     ]
    }
   ],
   "source": [
    "trainResults, testResults, predictions, indices = CVTestKNN(n_neighbors=100, n_jobs=-1, p=1, debug=True)\n",
    "print(np.mean(testResults))"
   ]
  },
  {
   "cell_type": "code",
   "execution_count": 57,
   "metadata": {},
   "outputs": [
    {
     "name": "stdout",
     "output_type": "stream",
     "text": [
      "0.8853970127672988 (28, 1)\n",
      "0.8862968686803615 (73, 1)\n",
      "0.8759537605914638 (122, 2)\n",
      "0.8765763979726371 (42, 2)\n",
      "0.8769963910579206 (74, 2)\n",
      "0.8753967283922327 (149, 2)\n",
      "0.8857549017478428 (94, 1)\n",
      "0.8760891834957427 (38, 2)\n",
      "0.8766914126731408 (93, 2)\n",
      "0.8758103423189573 (127, 2)\n"
     ]
    }
   ],
   "source": [
    "import random\n",
    "results=[]\n",
    "paramList = []\n",
    "for x in range(20):\n",
    "    params = {\"neighbors\": random.randint(3, 200), \n",
    "              \"p\": random.randint(1, 2)\n",
    "             }\n",
    "    \n",
    "    trainResults, testResults, predictions, indices = CVTestKNN(\n",
    "        n_neighbors=params['neighbors'],\n",
    "        p = params['p'])\n",
    "    \n",
    "    print(np.mean(testResults), params)\n",
    "    results.append(np.mean(testResults))\n",
    "    paramList.append(params)"
   ]
  },
  {
   "cell_type": "code",
   "execution_count": 7,
   "metadata": {},
   "outputs": [
    {
     "name": "stdout",
     "output_type": "stream",
     "text": [
      "KNeighborsClassifier(n_jobs=-1, n_neighbors=75, p=1)\n",
      "Train AUC: 0.8970938874953618 Valid AUC: 0.885100121389884\n",
      "KNeighborsClassifier(n_jobs=-1, n_neighbors=75, p=1)\n",
      "Train AUC: 0.8972220905556196 Valid AUC: 0.8859590535955382\n",
      "KNeighborsClassifier(n_jobs=-1, n_neighbors=75, p=1)\n",
      "Train AUC: 0.8964793365598295 Valid AUC: 0.8885432741714346\n",
      "KNeighborsClassifier(n_jobs=-1, n_neighbors=75, p=1)\n",
      "Train AUC: 0.8973894039536797 Valid AUC: 0.8836238984987921\n",
      "KNeighborsClassifier(n_jobs=-1, n_neighbors=75, p=1)\n",
      "Train AUC: 0.8967606678744199 Valid AUC: 0.8879827827491366\n",
      "0.8862418260809571\n"
     ]
    }
   ],
   "source": [
    "trainResults, testResults, predictions, indices = CVTestKNN(n_neighbors=75, n_jobs=-1, p=1, debug=True)\n",
    "print(np.mean(testResults))"
   ]
  },
  {
   "cell_type": "code",
   "execution_count": 8,
   "metadata": {},
   "outputs": [],
   "source": [
    "resultKNN = {\n",
    "    \"name\":\"KNN\",\n",
    "    \"trainResults\":trainResults.copy(),\n",
    "    \"testResults\":testResults.copy(),\n",
    "    \"predictions\":predictions.copy(),\n",
    "    \"indices\":indices.copy(),\n",
    "}"
   ]
  },
  {
   "cell_type": "code",
   "execution_count": 9,
   "metadata": {},
   "outputs": [
    {
     "data": {
      "image/png": "[encoded data removed]",
      "text/plain": [
       "<Figure size 720x648 with 1 Axes>"
      ]
     },
     "metadata": {
      "needs_background": "light"
     },
     "output_type": "display_data"
    }
   ],
   "source": [
    "res2plot = []\n",
    "true = (df[target]).astype(int).sort_index()\n",
    "for result in [resultKNN]:\n",
    "    # Tworzymy wektor predykcji tworząc serię pandasa, a następnie sortujemy indeks\n",
    "    pred = pd.Series(sum(result[\"predictions\"], []), index=sum(result[\"indices\"], [])).sort_index()\n",
    "    res2plot.append((true, pred, result[\"name\"]))\n",
    "\n",
    "from helpers import plotROCs\n",
    "plotROCs(res2plot)"
   ]
  },
  {
   "cell_type": "code",
   "execution_count": 10,
   "metadata": {},
   "outputs": [],
   "source": [
    "import pickle\n",
    "\n",
    "# Otwieramy plik do zapisu binarnego z wykorzystenim with\n",
    "with open(\"result_KNN.p\", \"wb\") as fp:\n",
    "    # Zapisujemy obiekt do wskaźnika pliku\n",
    "    pickle.dump(resultKNN, fp)"
   ]
  }
 ],
 "metadata": {
  "kernelspec": {
   "display_name": "Python 3.9.13 64-bit (windows store)",
   "language": "python",
   "name": "python3"
  },
  "language_info": {
   "codemirror_mode": {
    "name": "ipython",
    "version": 3
   },
   "file_extension": ".py",
   "mimetype": "text/x-python",
   "name": "python",
   "nbconvert_exporter": "python",
   "pygments_lexer": "ipython3",
   "version": "3.9.13"
  },
  "vscode": {
   "interpreter": {
    "hash": "4fddd19d77c5dd8864147f3110d0455767aeb796c5c0172c4a7ac7b5fb861d3a"
   }
  }
 },
 "nbformat": 4,
 "nbformat_minor": 2
}
