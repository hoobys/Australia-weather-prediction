{
 "cells": [
  {
   "cell_type": "code",
   "execution_count": 8,
   "metadata": {},
   "outputs": [],
   "source": [
    "import pandas as pd\n",
    "import numpy as np"
   ]
  },
  {
   "cell_type": "code",
   "execution_count": null,
   "metadata": {},
   "outputs": [],
   "source": [
    "df = pd.read_csv(\"weatherAUS_clean.csv\")\n",
    "print(df.shape)\n",
    "df.head()"
   ]
  },
  {
   "cell_type": "code",
   "execution_count": 12,
   "metadata": {},
   "outputs": [],
   "source": [
    "target = \"RainTomorrow\"\n",
    "features = ['MinTemp',\n",
    " 'MaxTemp',\n",
    " 'Rainfall',\n",
    " 'Evaporation',\n",
    " 'Sunshine',\n",
    " 'WindGustSpeed',\n",
    " 'WindSpeed9am',\n",
    " 'WindSpeed3pm',\n",
    " 'Humidity9am',\n",
    " 'Humidity3pm',\n",
    " 'Pressure9am',\n",
    " 'Pressure3pm',\n",
    " 'Cloud9am',\n",
    " 'Cloud3pm',\n",
    " 'Temp9am',\n",
    " 'Temp3pm',\n",
    " 'RainToday',\n",
    " 'Year',\n",
    " 'Month',\n",
    " 'Day',\n",
    " 'winter',\n",
    " 'spring',\n",
    " 'summer',\n",
    " 'autumn',\n",
    " 'winterRain',\n",
    " 'springRain',\n",
    " 'summerRain',\n",
    " 'autumnRain']\n"
   ]
  },
  {
   "cell_type": "code",
   "execution_count": 13,
   "metadata": {},
   "outputs": [],
   "source": [
    "from sklearn.model_selection import KFold\n",
    "from sklearn.ensemble import RandomForestClassifier\n",
    "from sklearn.metrics import roc_auc_score\n",
    "\n",
    "\n",
    "# Przygotujmy wrapper\n",
    "def CVTestRFClass(nFolds = 5, randomState=2020, debug=False, features=features, *args, **kwargs):\n",
    "    kf = KFold(n_splits=nFolds, shuffle=True, random_state=randomState)\n",
    "\n",
    "    # listy do przechowywania wyników:\n",
    "    testResults = []\n",
    "    trainResults = []\n",
    "    predictions = []\n",
    "    indices = []\n",
    "\n",
    "    # Pętla walidująca model na kolejnych foldach\n",
    "    for train, test in kf.split(df.index.values):\n",
    "        # Przygotowanie estymatora\n",
    "        clf = RandomForestClassifier(*args, **kwargs, random_state=randomState, n_jobs=-1)\n",
    "        if debug:\n",
    "            print(clf)\n",
    "        # Trenowanie modelu\n",
    "        clf.fit(df.iloc[train][features], df.iloc[train][target])\n",
    "\n",
    "        # Przygotowanie prognoz dla zbioru treningowego i testowego\n",
    "        # UWAGA Sklearn zwracał będzie dwie kolumny prawdopodobieństw dla obydwu klas\n",
    "        predsTrain = clf.predict_proba(df.iloc[train][features])[:,1]\n",
    "        preds = clf.predict_proba(df.iloc[test][features])[:,1]\n",
    "        \n",
    "        # Zachowajmy informacje o predykcjach dla tego foldu\n",
    "        predictions.append(preds.tolist().copy())\n",
    "        \n",
    "        # Razem z indeksami w oryginalnym data frame\n",
    "        indices.append(df.iloc[test].index.tolist().copy())\n",
    "        \n",
    "        # Policzenie dopasowania za pomocą metryki ROC-AUC\n",
    "        trainScore = roc_auc_score((df[target].iloc[train]).astype(int), predsTrain)\n",
    "        testScore = roc_auc_score((df[target].iloc[test]).astype(int), preds)\n",
    "        \n",
    "        # Zapisanie wyników do listy \n",
    "        trainResults.append(trainScore)\n",
    "        testResults.append(testScore)\n",
    "        \n",
    "        # Informowanie o każdym foldzie razem z wynikami treningowymi możemy opcjonalnie wyświetlać w trakcie\n",
    "        if debug:\n",
    "            print(\"Train AUC:\", trainScore,\n",
    "                  \"Valid AUC:\", testScore)\n",
    "        \n",
    "    return trainResults, testResults, predictions, indices\n"
   ]
  },
  {
   "cell_type": "code",
   "execution_count": null,
   "metadata": {},
   "outputs": [],
   "source": [
    "trainResults, testResults, predictions, indices = CVTestRFClass(debug=True)\n",
    "print(np.mean(testResults))"
   ]
  },
  {
   "cell_type": "code",
   "execution_count": 70,
   "metadata": {},
   "outputs": [],
   "source": [
    "import random\n",
    "results=[]\n",
    "paramList = []\n",
    "for x in range(20):\n",
    "    params = {\"depth\": random.randint(3, 16), \n",
    "              \"estimators\": random.randint(100, 300), \n",
    "              \"features\": random.randint(2, 25), \n",
    "              \"samples_split\": random.randint(2, 10), \n",
    "              \"samples_leaf\": random.randint(2, 10)\n",
    "              }\n",
    "    \n",
    "    trainResults, testResults, predictions, indices = CVTestRFClass(\n",
    "        max_depth=params['depth'],\n",
    "        n_estimators=params['estimators'],\n",
    "        max_features=params['features'],\n",
    "        min_samples_split=params['samples_split'],\n",
    "        min_samples_leaf=params['samples_leaf'],\n",
    "        )\n",
    "    \n",
    "    print(np.mean(testResults), params)\n",
    "    results.append(np.mean(testResults))\n",
    "    paramList.append(params)"
   ]
  }
 ],
 "metadata": {
  "interpreter": {
   "hash": "b89b5cfaba6639976dc87ff2fec6d58faec662063367e2c229c520fe71072417"
  },
  "kernelspec": {
   "display_name": "Python 3.10.1 64-bit",
   "language": "python",
   "name": "python3"
  },
  "language_info": {
   "codemirror_mode": {
    "name": "ipython",
    "version": 3
   },
   "file_extension": ".py",
   "mimetype": "text/x-python",
   "name": "python",
   "nbconvert_exporter": "python",
   "pygments_lexer": "ipython3",
   "version": "3.10.1"
  },
  "orig_nbformat": 4
 },
 "nbformat": 4,
 "nbformat_minor": 2
}
